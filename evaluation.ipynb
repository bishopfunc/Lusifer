{
 "cells": [
  {
   "cell_type": "code",
   "execution_count": 17,
   "outputs": [],
   "source": [
    "import pandas as pd\n",
    "import numpy as np\n",
    "from sklearn.metrics import mean_squared_error, mean_absolute_error\n",
    "from scipy.stats import pearsonr"
   ],
   "metadata": {
    "collapsed": false,
    "ExecuteTime": {
     "end_time": "2024-10-21T15:02:47.519495400Z",
     "start_time": "2024-10-21T15:02:47.505940800Z"
    }
   },
   "id": "637c12e6cc8dafcd"
  },
  {
   "cell_type": "code",
   "execution_count": 18,
   "outputs": [
    {
     "name": "stdout",
     "output_type": "stream",
     "text": [
      "['user_id', 'movie_id', 'rating', 'timestamp', 'knn_predicted_ratings', 'svd_predicted_ratings', 'nmf_predicted_ratings', 'als_predicted_ratings']\n",
      "['user_id', 'movie_id', 'rating', 'timestamp', 'knn_predicted_ratings', 'svd_predicted_ratings', 'nmf_predicted_ratings', 'als_predicted_ratings']\n",
      "['user_id', 'movie_id', 'rating', 'timestamp', 'knn_predicted_ratings', 'svd_predicted_ratings', 'nmf_predicted_ratings', 'als_predicted_ratings']\n",
      "['Unnamed: 0', 'user_id', 'movie_id', 'rating', 'timestamp', 'knn_predicted_ratings', 'svd_predicted_ratings', 'nmf_predicted_ratings', 'als_predicted_ratings']\n",
      "['Unnamed: 0', 'user_id', 'movie_id', 'rating', 'timestamp', 'knn_predicted_ratings', 'svd_predicted_ratings', 'nmf_predicted_ratings', 'als_predicted_ratings']\n"
     ]
    }
   ],
   "source": [
    "\n",
    "# List to collect results\n",
    "results = []\n",
    "\n",
    "# List of prediction columns/models\n",
    "models = [\n",
    "    #'simulated_ratings',\n",
    "    'knn_predicted_ratings',\n",
    "    'svd_predicted_ratings',\n",
    "    'nmf_predicted_ratings',\n",
    "    'als_predicted_ratings'\n",
    "]\n",
    "\n",
    "# Loop over the test sets U1 to U5\n",
    "for i in range(1, 6):\n",
    "    filename = f'outputs/rating_test_df_u{i}.csv'\n",
    "    # Read the CSV file\n",
    "    df = pd.read_csv(filename)\n",
    "    \n",
    "    # Replace 'rating_test_df_u1.csv' with one of your CSV filenames\n",
    "    print(df.columns.tolist())\n",
    "    \n",
    "    # Remove rows where any of the prediction columns have missing values\n",
    "    df_clean = df.dropna(subset=models)\n",
    "    \n",
    "    # Ground truth ratings\n",
    "    y_true = df_clean['rating'].values\n",
    "\n",
    "    # Check if there are any rows left after dropping\n",
    "    if len(df_clean) == 0:\n",
    "        print(f\"No data available for evaluation in {filename} after removing rows with missing predictions.\")\n",
    "        continue\n",
    "\n",
    "    # Dictionary to store metrics for this file\n",
    "    file_metrics = {'File': f'U{i}'}\n",
    "    \n",
    "    # Calculate metrics for each model\n",
    "    for model in models:\n",
    "        y_pred = df_clean[model].values\n",
    "\n",
    "        # Compute RMSE\n",
    "        rmse = np.sqrt(mean_squared_error(y_true, y_pred))\n",
    "        # Compute MAE\n",
    "        mae = mean_absolute_error(y_true, y_pred)\n",
    "        # Compute Pearson Correlation Coefficient\n",
    "        if np.std(y_pred) == 0 or np.std(y_true) == 0:\n",
    "            # Avoid division by zero\n",
    "            pearson_corr = np.nan\n",
    "        else:\n",
    "            pearson_corr, _ = pearsonr(y_true, y_pred)\n",
    "        \n",
    "        # Store metrics with model and metric names\n",
    "        file_metrics[f'{model}_RMSE'] = rmse\n",
    "        file_metrics[f'{model}_MAE'] = mae\n",
    "        file_metrics[f'{model}_Pearson'] = pearson_corr\n",
    "\n",
    "    # Add the metrics for this file to the results list\n",
    "    results.append(file_metrics)\n",
    "\n",
    "\n"
   ],
   "metadata": {
    "collapsed": false,
    "ExecuteTime": {
     "end_time": "2024-10-21T15:02:49.719930500Z",
     "start_time": "2024-10-21T15:02:49.174075200Z"
    }
   },
   "id": "4a37fc3b315d05da"
  },
  {
   "cell_type": "code",
   "execution_count": 19,
   "outputs": [
    {
     "name": "stdout",
     "output_type": "stream",
     "text": [
      "      knn_predicted_ratings_RMSE  knn_predicted_ratings_MAE  \\\n",
      "File                                                          \n",
      "U1                      0.984937                   0.713374   \n",
      "U2                      0.985216                   0.712734   \n",
      "U3                      0.986664                   0.714379   \n",
      "U4                      0.985734                   0.713204   \n",
      "U5                      0.988415                   0.716794   \n",
      "\n",
      "      knn_predicted_ratings_Pearson  svd_predicted_ratings_RMSE  \\\n",
      "File                                                              \n",
      "U1                         0.492494                    0.996387   \n",
      "U2                         0.491923                    0.995611   \n",
      "U3                         0.493142                    0.997818   \n",
      "U4                         0.493238                    0.996254   \n",
      "U5                         0.491966                    0.998957   \n",
      "\n",
      "      svd_predicted_ratings_MAE  svd_predicted_ratings_Pearson  \\\n",
      "File                                                             \n",
      "U1                     0.719503                       0.484003   \n",
      "U2                     0.719977                       0.484505   \n",
      "U3                     0.721997                       0.484678   \n",
      "U4                     0.719777                       0.486129   \n",
      "U5                     0.723677                       0.484497   \n",
      "\n",
      "      nmf_predicted_ratings_RMSE  nmf_predicted_ratings_MAE  \\\n",
      "File                                                          \n",
      "U1                      1.019251                   0.738384   \n",
      "U2                      1.020728                   0.738729   \n",
      "U3                      1.020978                   0.739758   \n",
      "U4                      1.019344                   0.737954   \n",
      "U5                      1.020650                   0.740183   \n",
      "\n",
      "      nmf_predicted_ratings_Pearson  als_predicted_ratings_RMSE  \\\n",
      "File                                                              \n",
      "U1                         0.471192                    1.134329   \n",
      "U2                         0.468675                    1.135678   \n",
      "U3                         0.471276                    1.140512   \n",
      "U4                         0.471994                    1.142955   \n",
      "U5                         0.472673                    1.137277   \n",
      "\n",
      "      als_predicted_ratings_MAE  als_predicted_ratings_Pearson  \n",
      "File                                                            \n",
      "U1                     0.806520                       0.438358  \n",
      "U2                     0.806605                       0.435414  \n",
      "U3                     0.811749                       0.437076  \n",
      "U4                     0.812598                       0.431186  \n",
      "U5                     0.808918                       0.438885  \n"
     ]
    }
   ],
   "source": [
    "# Create a DataFrame from the results\n",
    "results_df = pd.DataFrame(results)\n",
    "\n",
    "# Set 'File' as the index\n",
    "results_df.set_index('File', inplace=True)\n",
    "\n",
    "# Display the results\n",
    "print(results_df)"
   ],
   "metadata": {
    "collapsed": false,
    "ExecuteTime": {
     "end_time": "2024-10-21T15:02:51.452289800Z",
     "start_time": "2024-10-21T15:02:51.427291300Z"
    }
   },
   "id": "139e72e65f6489da"
  },
  {
   "cell_type": "code",
   "execution_count": 20,
   "outputs": [],
   "source": [
    "results_df.to_csv(\"evaluation_result.csv\")"
   ],
   "metadata": {
    "collapsed": false,
    "ExecuteTime": {
     "end_time": "2024-10-21T15:02:52.792253Z",
     "start_time": "2024-10-21T15:02:52.771253900Z"
    }
   },
   "id": "a96f5c50558dafab"
  },
  {
   "cell_type": "code",
   "execution_count": null,
   "outputs": [],
   "source": [],
   "metadata": {
    "collapsed": false
   },
   "id": "b5f10cff80273df3"
  }
 ],
 "metadata": {
  "kernelspec": {
   "display_name": "Python 3",
   "language": "python",
   "name": "python3"
  },
  "language_info": {
   "codemirror_mode": {
    "name": "ipython",
    "version": 2
   },
   "file_extension": ".py",
   "mimetype": "text/x-python",
   "name": "python",
   "nbconvert_exporter": "python",
   "pygments_lexer": "ipython2",
   "version": "2.7.6"
  }
 },
 "nbformat": 4,
 "nbformat_minor": 5
}
