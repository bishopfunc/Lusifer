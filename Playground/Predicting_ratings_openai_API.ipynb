{
 "cells": [
  {
   "cell_type": "markdown",
   "source": [
    "## Installing libraries and dependencies"
   ],
   "metadata": {
    "collapsed": false
   },
   "id": "25ba520844cd7148"
  },
  {
   "cell_type": "code",
   "execution_count": 21,
   "outputs": [],
   "source": [
    "import openai\n",
    "import pandas as pd\n",
    "import json\n"
   ],
   "metadata": {
    "collapsed": false,
    "ExecuteTime": {
     "end_time": "2024-05-07T02:16:30.789867Z",
     "start_time": "2024-05-07T02:16:30.313024900Z"
    }
   },
   "id": "f25ed5d8e61dfa3a"
  },
  {
   "cell_type": "code",
   "execution_count": 22,
   "outputs": [],
   "source": [
    "# Set your OpenAI API key\n",
    "openai.api_key = \"sk-proj-AycHzZMxqZscz8ltuD5iT3BlbkFJvJPLk9TbP9cMwDCZJd2w\""
   ],
   "metadata": {
    "collapsed": false,
    "ExecuteTime": {
     "end_time": "2024-05-07T02:16:31.759584200Z",
     "start_time": "2024-05-07T02:16:31.750071400Z"
    }
   },
   "id": "713ea759d29ea135"
  },
  {
   "cell_type": "markdown",
   "source": [
    "## loading movies, users(training), interaction matrix, and test set"
   ],
   "metadata": {
    "collapsed": false
   },
   "id": "6b09535923799ff3"
  },
  {
   "cell_type": "code",
   "execution_count": 16,
   "outputs": [],
   "source": [
    "# path to the folder containing movielens data\n",
    "Path = \"D:/Canada/Danial/UoW/Dataset/MovieLens/100K/ml-100k\"\n",
    "\n",
    "movies_df = pd.read_pickle(\"./Data/movies_enriched_dataset.pkl\")\n",
    "movies_df = movies_df[[\"movie_id\", \"movie_info\"]]\n",
    "\n",
    "# loading users_df\n",
    "users_df = pd.read_pickle(\"./Data/user_dataset.pkl\")\n",
    "users_df = users_df[[\"user_id\", \"user_info\"]]\n",
    "\n",
    "# Load the ratings data\n",
    "rating_df = pd.read_csv(f'{Path}/u1.base', sep='\\t', names=['user_id', 'movie_id', 'rating', 'timestamp'], encoding='latin-1')\n",
    "rating_test_df = pd.read_csv(f'{Path}/u1.test', sep='\\t', names=['user_id', 'movie_id', 'rating', 'timestamp'], encoding='latin-1')"
   ],
   "metadata": {
    "collapsed": false,
    "ExecuteTime": {
     "end_time": "2024-05-07T02:06:18.088830700Z",
     "start_time": "2024-05-07T02:06:18.015196Z"
    }
   },
   "id": "1c5887ea7143aa0e"
  },
  {
   "cell_type": "code",
   "execution_count": 20,
   "outputs": [
    {
     "data": {
      "text/plain": "   user_id                                          user_info\n0        1  \\n    Age: 24\\n    Gender: Male\\n    Occupatio...\n1        2  \\n    Age: 53\\n    Gender: Female\\n    Occupat...\n2        3  \\n    Age: 23\\n    Gender: Male\\n    Occupatio...\n3        4  \\n    Age: 24\\n    Gender: Male\\n    Occupatio...\n4        5  \\n    Age: 33\\n    Gender: Female\\n    Occupat...",
      "text/html": "<div>\n<style scoped>\n    .dataframe tbody tr th:only-of-type {\n        vertical-align: middle;\n    }\n\n    .dataframe tbody tr th {\n        vertical-align: top;\n    }\n\n    .dataframe thead th {\n        text-align: right;\n    }\n</style>\n<table border=\"1\" class=\"dataframe\">\n  <thead>\n    <tr style=\"text-align: right;\">\n      <th></th>\n      <th>user_id</th>\n      <th>user_info</th>\n    </tr>\n  </thead>\n  <tbody>\n    <tr>\n      <th>0</th>\n      <td>1</td>\n      <td>\\n    Age: 24\\n    Gender: Male\\n    Occupatio...</td>\n    </tr>\n    <tr>\n      <th>1</th>\n      <td>2</td>\n      <td>\\n    Age: 53\\n    Gender: Female\\n    Occupat...</td>\n    </tr>\n    <tr>\n      <th>2</th>\n      <td>3</td>\n      <td>\\n    Age: 23\\n    Gender: Male\\n    Occupatio...</td>\n    </tr>\n    <tr>\n      <th>3</th>\n      <td>4</td>\n      <td>\\n    Age: 24\\n    Gender: Male\\n    Occupatio...</td>\n    </tr>\n    <tr>\n      <th>4</th>\n      <td>5</td>\n      <td>\\n    Age: 33\\n    Gender: Female\\n    Occupat...</td>\n    </tr>\n  </tbody>\n</table>\n</div>"
     },
     "execution_count": 20,
     "metadata": {},
     "output_type": "execute_result"
    }
   ],
   "source": [
    "users_df.head()"
   ],
   "metadata": {
    "collapsed": false,
    "ExecuteTime": {
     "end_time": "2024-05-07T02:09:00.488150500Z",
     "start_time": "2024-05-07T02:09:00.439613300Z"
    }
   },
   "id": "96fa26e57a996e93"
  },
  {
   "cell_type": "markdown",
   "source": [
    "## Defining Helper functions"
   ],
   "metadata": {
    "collapsed": false
   },
   "id": "46ab6727cbc0e681"
  },
  {
   "cell_type": "code",
   "execution_count": null,
   "outputs": [],
   "source": [
    "def get_last_10_ratings(user_id):\n",
    "    \"\"\"\n",
    "    retrieve last 15 ratings according to the timestamp\n",
    "    :param user_id: \n",
    "    :return: \n",
    "    \"\"\"\n",
    "    user_ratings = rating_df[rating_df['user_id'] == user_id].sort_values(by='timestamp', ascending=False).head(10)\n",
    "    user_movies = movies_df[movies_df['movie_id'].isin(user_ratings['movie_id'])]\n",
    "    return user_ratings.merge(user_movies, on='movie_id')\n",
    "\n",
    "# --------------------------------------------------------------\n",
    "\n",
    "def analyze_user_prompt(user_info, last_10_movies):\n",
    "    \"\"\"\n",
    "    Generating the initial prompt to capture user's characteristics\n",
    "    :param user_info: user information (age, gender, occupation)\n",
    "    :param last_10_movies: dataframe\n",
    "    :return: \n",
    "    \"\"\"\n",
    "    # getting rating summary\n",
    "    ratings_summary = '\\n'.join(\n",
    "        f\"Movie: {row['movie_info']}\\nRating: {row['rating']}\" for _, row in last_10_movies.iterrows()\n",
    "    )\n",
    "    \n",
    "    # Generating prompt\n",
    "    prompt = f\"\"\"\n",
    "Consider below information about the user:\n",
    "User Info:\n",
    "{user_info}\n",
    "\n",
    "User's Last 15 Movies and Ratings:\n",
    "{ratings_summary}\n",
    "\n",
    "Analyze the user's characteristics based on their history and provide a summary of the analysis. The analysis should include what type of movies the user enjoys and what type is not interesting for them. The output should be a JSON file where the key is \"Analysis\" and the value is the output\n",
    "\"\"\"\n",
    "    return prompt\n",
    "\n",
    "# --------------------------------------------------------------\n",
    "\n",
    "def rate_new_movies_prompt(user_info, analysis, test_movies):\n",
    "    \"\"\"\n",
    "    Generate the proper prompt to ask the LLM to provide ratings for the recommendations \n",
    "    :param user_info: user information (text)\n",
    "    :param analysis: LLM's analysis based on user's background (text)\n",
    "    :param test_movies: testset\n",
    "    :return: \n",
    "    \"\"\"\n",
    "    # test movie summaries\n",
    "    movies_summary = '\\n'.join(test_movies['movie_info'].tolist())\n",
    "    \n",
    "    prompt = f\"\"\"\n",
    "Consider below information about a user\n",
    "User Info:\n",
    "{user_info}\n",
    "\n",
    "Analysis:\n",
    "{analysis}\n",
    "\n",
    "Based on the user's background and user's characteristics, rate the following movies on behalf of the user:\n",
    "{movies_summary}\n",
    "\n",
    "Output should be a JSON array containing movie_id and rating.\n",
    "\"\"\"\n",
    "    return prompt\n",
    "\n",
    "# --------------------------------------------------------------\n",
    "\n",
    "\n",
    "def get_llm_response(prompt):\n",
    "    response = openai.Completion.create(\n",
    "        engine=\"gpt-3.5-turbo-0125\",\n",
    "        prompt=prompt,\n",
    "        max_tokens=500\n",
    "    )\n",
    "    client = OpenAI()\n",
    "\n",
    "completion = client.chat.completions.create(\n",
    "  model=\"gpt-3.5-turbo\",\n",
    "  messages=[\n",
    "    {\"role\": \"system\", \"content\": \"You are a poetic assistant, skilled in explaining complex programming concepts with creative flair.\"},\n",
    "    {\"role\": \"user\", \"content\": \"Compose a poem that explains the concept of recursion in programming.\"}\n",
    "  ]\n",
    ")\n",
    "    return response.choices[0].text.strip()\n"
   ],
   "metadata": {
    "collapsed": false
   },
   "id": "41cc767797b379a1"
  }
 ],
 "metadata": {
  "kernelspec": {
   "display_name": "Python 3",
   "language": "python",
   "name": "python3"
  },
  "language_info": {
   "codemirror_mode": {
    "name": "ipython",
    "version": 2
   },
   "file_extension": ".py",
   "mimetype": "text/x-python",
   "name": "python",
   "nbconvert_exporter": "python",
   "pygments_lexer": "ipython2",
   "version": "2.7.6"
  }
 },
 "nbformat": 4,
 "nbformat_minor": 5
}
