{
 "cells": [
  {
   "cell_type": "code",
   "execution_count": 1,
   "outputs": [],
   "source": [
    "import pandas as pd\n",
    "from sklearn.metrics import root_mean_squared_error, precision_score, recall_score, accuracy_score"
   ],
   "metadata": {
    "collapsed": false,
    "ExecuteTime": {
     "end_time": "2024-05-20T12:42:11.146719800Z",
     "start_time": "2024-05-20T12:42:10.371834600Z"
    }
   },
   "id": "2be15c47b260f824"
  },
  {
   "cell_type": "code",
   "execution_count": 3,
   "outputs": [
    {
     "data": {
      "text/plain": "    Unnamed: 0  user_id  movie_id  rating  timestamp  simulated_ratings\n0            0        1         4       3  876893119                4.0\n1            1        1         7       4  875071561                2.0\n2            2        1        42       5  876892425                3.0\n3            3        1        43       4  878542869                3.0\n4            4        1        55       5  875072688                4.0\n..         ...      ...       ...     ...        ...                ...\n95          97        8       431       2  879362356                4.0\n96          98        8       510       4  879362233                4.0\n97          99        9        50       5  886960055                4.0\n98         100        9       201       5  886960055                2.0\n99         101       10        70       4  877891747                4.0\n\n[100 rows x 6 columns]",
      "text/html": "<div>\n<style scoped>\n    .dataframe tbody tr th:only-of-type {\n        vertical-align: middle;\n    }\n\n    .dataframe tbody tr th {\n        vertical-align: top;\n    }\n\n    .dataframe thead th {\n        text-align: right;\n    }\n</style>\n<table border=\"1\" class=\"dataframe\">\n  <thead>\n    <tr style=\"text-align: right;\">\n      <th></th>\n      <th>Unnamed: 0</th>\n      <th>user_id</th>\n      <th>movie_id</th>\n      <th>rating</th>\n      <th>timestamp</th>\n      <th>simulated_ratings</th>\n    </tr>\n  </thead>\n  <tbody>\n    <tr>\n      <th>0</th>\n      <td>0</td>\n      <td>1</td>\n      <td>4</td>\n      <td>3</td>\n      <td>876893119</td>\n      <td>4.0</td>\n    </tr>\n    <tr>\n      <th>1</th>\n      <td>1</td>\n      <td>1</td>\n      <td>7</td>\n      <td>4</td>\n      <td>875071561</td>\n      <td>2.0</td>\n    </tr>\n    <tr>\n      <th>2</th>\n      <td>2</td>\n      <td>1</td>\n      <td>42</td>\n      <td>5</td>\n      <td>876892425</td>\n      <td>3.0</td>\n    </tr>\n    <tr>\n      <th>3</th>\n      <td>3</td>\n      <td>1</td>\n      <td>43</td>\n      <td>4</td>\n      <td>878542869</td>\n      <td>3.0</td>\n    </tr>\n    <tr>\n      <th>4</th>\n      <td>4</td>\n      <td>1</td>\n      <td>55</td>\n      <td>5</td>\n      <td>875072688</td>\n      <td>4.0</td>\n    </tr>\n    <tr>\n      <th>...</th>\n      <td>...</td>\n      <td>...</td>\n      <td>...</td>\n      <td>...</td>\n      <td>...</td>\n      <td>...</td>\n    </tr>\n    <tr>\n      <th>95</th>\n      <td>97</td>\n      <td>8</td>\n      <td>431</td>\n      <td>2</td>\n      <td>879362356</td>\n      <td>4.0</td>\n    </tr>\n    <tr>\n      <th>96</th>\n      <td>98</td>\n      <td>8</td>\n      <td>510</td>\n      <td>4</td>\n      <td>879362233</td>\n      <td>4.0</td>\n    </tr>\n    <tr>\n      <th>97</th>\n      <td>99</td>\n      <td>9</td>\n      <td>50</td>\n      <td>5</td>\n      <td>886960055</td>\n      <td>4.0</td>\n    </tr>\n    <tr>\n      <th>98</th>\n      <td>100</td>\n      <td>9</td>\n      <td>201</td>\n      <td>5</td>\n      <td>886960055</td>\n      <td>2.0</td>\n    </tr>\n    <tr>\n      <th>99</th>\n      <td>101</td>\n      <td>10</td>\n      <td>70</td>\n      <td>4</td>\n      <td>877891747</td>\n      <td>4.0</td>\n    </tr>\n  </tbody>\n</table>\n<p>100 rows × 6 columns</p>\n</div>"
     },
     "execution_count": 3,
     "metadata": {},
     "output_type": "execute_result"
    }
   ],
   "source": [
    "processed_ratings_file = \"./Data/rating_test_df_u4.csv\"\n",
    "rating_test_df = pd.read_csv(processed_ratings_file)\n",
    "\n",
    "cleaned_df = rating_test_df.dropna(subset=['simulated_ratings'])\n",
    "cleaned_df.head(100)"
   ],
   "metadata": {
    "collapsed": false,
    "ExecuteTime": {
     "end_time": "2024-05-20T12:42:31.729114400Z",
     "start_time": "2024-05-20T12:42:31.685115Z"
    }
   },
   "id": "initial_id"
  },
  {
   "cell_type": "code",
   "execution_count": 4,
   "outputs": [
    {
     "name": "stdout",
     "output_type": "stream",
     "text": [
      "RMSE: 1.308348623619631\n",
      "Exact match count: 6298\n",
      "Exact match percentage: 32.16%\n",
      "Off by 1 level count: 8702\n",
      "Off by 1 level percentage: 44.44%\n",
      "Off by more than 1 level count: 4582\n",
      "Off by more than 1 level percentage: 23.40%\n",
      "Weighted Accuracy: 0.68\n"
     ]
    },
    {
     "name": "stderr",
     "output_type": "stream",
     "text": [
      "C:\\Users\\dania\\AppData\\Local\\Temp\\ipykernel_5256\\1580610837.py:2: SettingWithCopyWarning: \n",
      "A value is trying to be set on a copy of a slice from a DataFrame.\n",
      "Try using .loc[row_indexer,col_indexer] = value instead\n",
      "\n",
      "See the caveats in the documentation: https://pandas.pydata.org/pandas-docs/stable/user_guide/indexing.html#returning-a-view-versus-a-copy\n",
      "  cleaned_df['rating'] = cleaned_df['rating'].astype(int)\n",
      "C:\\Users\\dania\\AppData\\Local\\Temp\\ipykernel_5256\\1580610837.py:3: SettingWithCopyWarning: \n",
      "A value is trying to be set on a copy of a slice from a DataFrame.\n",
      "Try using .loc[row_indexer,col_indexer] = value instead\n",
      "\n",
      "See the caveats in the documentation: https://pandas.pydata.org/pandas-docs/stable/user_guide/indexing.html#returning-a-view-versus-a-copy\n",
      "  cleaned_df['simulated_ratings'] = cleaned_df['simulated_ratings'].astype(int)\n"
     ]
    }
   ],
   "source": [
    "\n",
    "# Ensure the values are integers\n",
    "cleaned_df['rating'] = cleaned_df['rating'].astype(int)\n",
    "cleaned_df['simulated_ratings'] = cleaned_df['simulated_ratings'].astype(int)\n",
    "\n",
    "# RMSE\n",
    "rmse = root_mean_squared_error(cleaned_df['rating'], cleaned_df['simulated_ratings'])\n",
    "\n",
    "# Exact match\n",
    "exact_matches = (cleaned_df['rating'] == cleaned_df['simulated_ratings'])\n",
    "exact_match_count = exact_matches.sum()\n",
    "exact_match_percentage = exact_match_count / len(cleaned_df) * 100\n",
    "\n",
    "# Off by 1 level\n",
    "off_by_1 = (cleaned_df['rating'] - cleaned_df['simulated_ratings']).abs() == 1\n",
    "off_by_1_count = off_by_1.sum()\n",
    "off_by_1_percentage = off_by_1_count / len(cleaned_df) * 100\n",
    "\n",
    "# Off by more than 1 level\n",
    "off_by_more_than_1 = (cleaned_df['rating'] - cleaned_df['simulated_ratings']).abs() > 1\n",
    "off_by_more_than_1_count = off_by_more_than_1.sum()\n",
    "off_by_more_than_1_percentage = off_by_more_than_1_count / len(cleaned_df) * 100\n",
    "\n",
    "# Weighted accuracy\n",
    "weighted_accuracy = (exact_matches * 1 + off_by_1 * 0.8).sum() / len(cleaned_df)\n",
    "\n",
    "# Output the results\n",
    "print(f\"RMSE: {rmse}\")\n",
    "print(f\"Exact match count: {exact_match_count}\")\n",
    "print(f\"Exact match percentage: {exact_match_percentage:.2f}%\")\n",
    "print(f\"Off by 1 level count: {off_by_1_count}\")\n",
    "print(f\"Off by 1 level percentage: {off_by_1_percentage:.2f}%\")\n",
    "print(f\"Off by more than 1 level count: {off_by_more_than_1_count}\")\n",
    "print(f\"Off by more than 1 level percentage: {off_by_more_than_1_percentage:.2f}%\")\n",
    "print(f\"Weighted Accuracy: {weighted_accuracy:.2f}\")\n"
   ],
   "metadata": {
    "collapsed": false,
    "ExecuteTime": {
     "end_time": "2024-05-20T12:42:35.006998700Z",
     "start_time": "2024-05-20T12:42:34.992002300Z"
    }
   },
   "id": "6120e8a38945c76d"
  },
  {
   "cell_type": "code",
   "execution_count": null,
   "outputs": [],
   "source": [],
   "metadata": {
    "collapsed": false
   },
   "id": "1c5f718b367a80f4"
  }
 ],
 "metadata": {
  "kernelspec": {
   "display_name": "Python 3",
   "language": "python",
   "name": "python3"
  },
  "language_info": {
   "codemirror_mode": {
    "name": "ipython",
    "version": 2
   },
   "file_extension": ".py",
   "mimetype": "text/x-python",
   "name": "python",
   "nbconvert_exporter": "python",
   "pygments_lexer": "ipython2",
   "version": "2.7.6"
  }
 },
 "nbformat": 4,
 "nbformat_minor": 5
}
