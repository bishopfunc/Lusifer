{
 "cells": [
  {
   "cell_type": "code",
   "execution_count": 11,
   "outputs": [],
   "source": [
    "import pandas as pd\n",
    "from sklearn.metrics import root_mean_squared_error, precision_score, recall_score, accuracy_score"
   ],
   "metadata": {
    "collapsed": false,
    "ExecuteTime": {
     "end_time": "2024-05-19T05:50:56.688534800Z",
     "start_time": "2024-05-19T05:50:56.685535400Z"
    }
   },
   "id": "2be15c47b260f824"
  },
  {
   "cell_type": "code",
   "execution_count": 12,
   "outputs": [
    {
     "data": {
      "text/plain": "    Unnamed: 0  user_id  movie_id  rating  timestamp  simulated_ratings\n0            1        1        10       3  875693118                3.0\n1            2        1        12       5  878542960                2.0\n2            3        1        14       5  874965706                5.0\n3            4        1        17       3  875073198                2.0\n4            5        1        20       4  887431883                5.0\n..         ...      ...       ...     ...        ...                ...\n95          99        1       210       4  878542909                3.0\n96         100        1       212       4  875072895                4.0\n97         101        1       213       2  876892896                5.0\n98         102        1       214       4  875072520                4.0\n99         103        1       215       3  876893145                5.0\n\n[100 rows x 6 columns]",
      "text/html": "<div>\n<style scoped>\n    .dataframe tbody tr th:only-of-type {\n        vertical-align: middle;\n    }\n\n    .dataframe tbody tr th {\n        vertical-align: top;\n    }\n\n    .dataframe thead th {\n        text-align: right;\n    }\n</style>\n<table border=\"1\" class=\"dataframe\">\n  <thead>\n    <tr style=\"text-align: right;\">\n      <th></th>\n      <th>Unnamed: 0</th>\n      <th>user_id</th>\n      <th>movie_id</th>\n      <th>rating</th>\n      <th>timestamp</th>\n      <th>simulated_ratings</th>\n    </tr>\n  </thead>\n  <tbody>\n    <tr>\n      <th>0</th>\n      <td>1</td>\n      <td>1</td>\n      <td>10</td>\n      <td>3</td>\n      <td>875693118</td>\n      <td>3.0</td>\n    </tr>\n    <tr>\n      <th>1</th>\n      <td>2</td>\n      <td>1</td>\n      <td>12</td>\n      <td>5</td>\n      <td>878542960</td>\n      <td>2.0</td>\n    </tr>\n    <tr>\n      <th>2</th>\n      <td>3</td>\n      <td>1</td>\n      <td>14</td>\n      <td>5</td>\n      <td>874965706</td>\n      <td>5.0</td>\n    </tr>\n    <tr>\n      <th>3</th>\n      <td>4</td>\n      <td>1</td>\n      <td>17</td>\n      <td>3</td>\n      <td>875073198</td>\n      <td>2.0</td>\n    </tr>\n    <tr>\n      <th>4</th>\n      <td>5</td>\n      <td>1</td>\n      <td>20</td>\n      <td>4</td>\n      <td>887431883</td>\n      <td>5.0</td>\n    </tr>\n    <tr>\n      <th>...</th>\n      <td>...</td>\n      <td>...</td>\n      <td>...</td>\n      <td>...</td>\n      <td>...</td>\n      <td>...</td>\n    </tr>\n    <tr>\n      <th>95</th>\n      <td>99</td>\n      <td>1</td>\n      <td>210</td>\n      <td>4</td>\n      <td>878542909</td>\n      <td>3.0</td>\n    </tr>\n    <tr>\n      <th>96</th>\n      <td>100</td>\n      <td>1</td>\n      <td>212</td>\n      <td>4</td>\n      <td>875072895</td>\n      <td>4.0</td>\n    </tr>\n    <tr>\n      <th>97</th>\n      <td>101</td>\n      <td>1</td>\n      <td>213</td>\n      <td>2</td>\n      <td>876892896</td>\n      <td>5.0</td>\n    </tr>\n    <tr>\n      <th>98</th>\n      <td>102</td>\n      <td>1</td>\n      <td>214</td>\n      <td>4</td>\n      <td>875072520</td>\n      <td>4.0</td>\n    </tr>\n    <tr>\n      <th>99</th>\n      <td>103</td>\n      <td>1</td>\n      <td>215</td>\n      <td>3</td>\n      <td>876893145</td>\n      <td>5.0</td>\n    </tr>\n  </tbody>\n</table>\n<p>100 rows × 6 columns</p>\n</div>"
     },
     "execution_count": 12,
     "metadata": {},
     "output_type": "execute_result"
    }
   ],
   "source": [
    "processed_ratings_file = \"./Data/rating_test_df.csv\"\n",
    "rating_test_df = pd.read_csv(processed_ratings_file)\n",
    "\n",
    "cleaned_df = rating_test_df.dropna(subset=['simulated_ratings'])\n",
    "cleaned_df.head(100)"
   ],
   "metadata": {
    "collapsed": false,
    "ExecuteTime": {
     "end_time": "2024-05-19T05:51:02.712763600Z",
     "start_time": "2024-05-19T05:51:02.671769100Z"
    }
   },
   "id": "initial_id"
  },
  {
   "cell_type": "code",
   "execution_count": 13,
   "outputs": [
    {
     "name": "stdout",
     "output_type": "stream",
     "text": [
      "RMSE: 1.3351213314631014\n",
      "Exact match count: 6115\n",
      "Exact match percentage: 31.11%\n",
      "Off by 1 level count: 8788\n",
      "Off by 1 level percentage: 44.71%\n",
      "Off by more than 1 level count: 4752\n",
      "Off by more than 1 level percentage: 24.18%\n",
      "Weighted Accuracy: 0.67\n"
     ]
    },
    {
     "name": "stderr",
     "output_type": "stream",
     "text": [
      "C:\\Users\\dania\\AppData\\Local\\Temp\\ipykernel_42328\\1580610837.py:2: SettingWithCopyWarning: \n",
      "A value is trying to be set on a copy of a slice from a DataFrame.\n",
      "Try using .loc[row_indexer,col_indexer] = value instead\n",
      "\n",
      "See the caveats in the documentation: https://pandas.pydata.org/pandas-docs/stable/user_guide/indexing.html#returning-a-view-versus-a-copy\n",
      "  cleaned_df['rating'] = cleaned_df['rating'].astype(int)\n",
      "C:\\Users\\dania\\AppData\\Local\\Temp\\ipykernel_42328\\1580610837.py:3: SettingWithCopyWarning: \n",
      "A value is trying to be set on a copy of a slice from a DataFrame.\n",
      "Try using .loc[row_indexer,col_indexer] = value instead\n",
      "\n",
      "See the caveats in the documentation: https://pandas.pydata.org/pandas-docs/stable/user_guide/indexing.html#returning-a-view-versus-a-copy\n",
      "  cleaned_df['simulated_ratings'] = cleaned_df['simulated_ratings'].astype(int)\n"
     ]
    }
   ],
   "source": [
    "\n",
    "# Ensure the values are integers\n",
    "cleaned_df['rating'] = cleaned_df['rating'].astype(int)\n",
    "cleaned_df['simulated_ratings'] = cleaned_df['simulated_ratings'].astype(int)\n",
    "\n",
    "# RMSE\n",
    "rmse = root_mean_squared_error(cleaned_df['rating'], cleaned_df['simulated_ratings'])\n",
    "\n",
    "# Exact match\n",
    "exact_matches = (cleaned_df['rating'] == cleaned_df['simulated_ratings'])\n",
    "exact_match_count = exact_matches.sum()\n",
    "exact_match_percentage = exact_match_count / len(cleaned_df) * 100\n",
    "\n",
    "# Off by 1 level\n",
    "off_by_1 = (cleaned_df['rating'] - cleaned_df['simulated_ratings']).abs() == 1\n",
    "off_by_1_count = off_by_1.sum()\n",
    "off_by_1_percentage = off_by_1_count / len(cleaned_df) * 100\n",
    "\n",
    "# Off by more than 1 level\n",
    "off_by_more_than_1 = (cleaned_df['rating'] - cleaned_df['simulated_ratings']).abs() > 1\n",
    "off_by_more_than_1_count = off_by_more_than_1.sum()\n",
    "off_by_more_than_1_percentage = off_by_more_than_1_count / len(cleaned_df) * 100\n",
    "\n",
    "# Weighted accuracy\n",
    "weighted_accuracy = (exact_matches * 1 + off_by_1 * 0.8).sum() / len(cleaned_df)\n",
    "\n",
    "# Output the results\n",
    "print(f\"RMSE: {rmse}\")\n",
    "print(f\"Exact match count: {exact_match_count}\")\n",
    "print(f\"Exact match percentage: {exact_match_percentage:.2f}%\")\n",
    "print(f\"Off by 1 level count: {off_by_1_count}\")\n",
    "print(f\"Off by 1 level percentage: {off_by_1_percentage:.2f}%\")\n",
    "print(f\"Off by more than 1 level count: {off_by_more_than_1_count}\")\n",
    "print(f\"Off by more than 1 level percentage: {off_by_more_than_1_percentage:.2f}%\")\n",
    "print(f\"Weighted Accuracy: {weighted_accuracy:.2f}\")\n"
   ],
   "metadata": {
    "collapsed": false,
    "ExecuteTime": {
     "end_time": "2024-05-19T05:51:08.643349100Z",
     "start_time": "2024-05-19T05:51:08.623875200Z"
    }
   },
   "id": "6120e8a38945c76d"
  },
  {
   "cell_type": "code",
   "execution_count": null,
   "outputs": [],
   "source": [],
   "metadata": {
    "collapsed": false
   },
   "id": "1c5f718b367a80f4"
  }
 ],
 "metadata": {
  "kernelspec": {
   "display_name": "Python 3",
   "language": "python",
   "name": "python3"
  },
  "language_info": {
   "codemirror_mode": {
    "name": "ipython",
    "version": 2
   },
   "file_extension": ".py",
   "mimetype": "text/x-python",
   "name": "python",
   "nbconvert_exporter": "python",
   "pygments_lexer": "ipython2",
   "version": "2.7.6"
  }
 },
 "nbformat": 4,
 "nbformat_minor": 5
}
