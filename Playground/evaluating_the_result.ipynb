{
 "cells": [
  {
   "cell_type": "code",
   "execution_count": 6,
   "outputs": [],
   "source": [
    "import pandas as pd\n",
    "from sklearn.metrics import root_mean_squared_error, precision_score, recall_score, accuracy_score"
   ],
   "metadata": {
    "collapsed": false,
    "ExecuteTime": {
     "end_time": "2025-02-25T04:46:32.050550400Z",
     "start_time": "2025-02-25T04:46:32.017536100Z"
    }
   },
   "id": "2be15c47b260f824"
  },
  {
   "cell_type": "code",
   "execution_count": 7,
   "outputs": [],
   "source": [
    "# path to the folder containing movielens data\n",
    "Path = \"D:/Canada/Danial/UoW/Dataset/MovieLens/100K/ml-100k\"\n",
    "\n",
    "\n",
    "# loading ratings: Train set\n",
    "rating_df = pd.read_csv(f'{Path}/u1.base', sep='\\t', names=['user_id', 'movie_id', 'rating', 'timestamp'],\n",
    "                        encoding='latin-1')\n",
    "\n",
    "\n",
    "# Count the number of interactions per user in the training set\n",
    "user_interaction_counts = rating_df['user_id'].value_counts()\n",
    "\n",
    "# Identify cold start users: those with fewer than 5 interactions in trainset_df\n",
    "cold_start_users = user_interaction_counts[user_interaction_counts < 6].index.tolist()\n",
    "\n",
    "\n"
   ],
   "metadata": {
    "collapsed": false,
    "ExecuteTime": {
     "end_time": "2025-02-25T04:46:33.778715600Z",
     "start_time": "2025-02-25T04:46:33.677169200Z"
    }
   },
   "id": "c12584bcb2c7db76"
  },
  {
   "cell_type": "code",
   "execution_count": 8,
   "outputs": [
    {
     "data": {
      "text/plain": "       user_id  movie_id  rating  timestamp  simulated_ratings  \\\n14851      310        14       5  879436268                4.0   \n14852      310        24       4  879436242                3.0   \n14853      310       116       5  879436104                2.0   \n14854      310       181       4  879436104                5.0   \n14855      310       222       3  879436062                5.0   \n14856      310       251       5  879436035                2.0   \n14857      310       257       5  879436576                4.0   \n14858      310       258       3  879435606                5.0   \n14859      310       274       3  879436534                2.0   \n14860      310       275       5  879436137                4.0   \n14861      310       304       5  879435664                4.0   \n14862      310       536       4  879436137                5.0   \n14863      310       740       4  879436292                4.0   \n14864      310       748       3  879435729                3.0   \n14865      310       832       1  879436035                4.0   \n14866      310       845       5  879436534                2.0   \n14867      310      1022       5  879435764                5.0   \n\n       knn_predicted_ratings  svd_predicted_ratings  nmf_predicted_ratings  \\\n14851                      4                      4                      3   \n14852                      3                      3                      4   \n14853                      4                      3                      3   \n14854                      4                      4                      4   \n14855                      4                      4                      3   \n14856                      4                      4                      3   \n14857                      4                      4                      3   \n14858                      4                      4                      3   \n14859                      4                      3                      3   \n14860                      4                      4                      2   \n14861                      4                      3                      3   \n14862                      3                      3                      2   \n14863                      4                      3                      1   \n14864                      3                      3                      2   \n14865                      3                      3                      1   \n14866                      3                      3                      3   \n14867                      3                      3                      4   \n\n       als_predicted_ratings  \n14851                      3  \n14852                      4  \n14853                      4  \n14854                      4  \n14855                      3  \n14856                      3  \n14857                      4  \n14858                      3  \n14859                      2  \n14860                      4  \n14861                      2  \n14862                      1  \n14863                      1  \n14864                      1  \n14865                      1  \n14866                      3  \n14867                      6  ",
      "text/html": "<div>\n<style scoped>\n    .dataframe tbody tr th:only-of-type {\n        vertical-align: middle;\n    }\n\n    .dataframe tbody tr th {\n        vertical-align: top;\n    }\n\n    .dataframe thead th {\n        text-align: right;\n    }\n</style>\n<table border=\"1\" class=\"dataframe\">\n  <thead>\n    <tr style=\"text-align: right;\">\n      <th></th>\n      <th>user_id</th>\n      <th>movie_id</th>\n      <th>rating</th>\n      <th>timestamp</th>\n      <th>simulated_ratings</th>\n      <th>knn_predicted_ratings</th>\n      <th>svd_predicted_ratings</th>\n      <th>nmf_predicted_ratings</th>\n      <th>als_predicted_ratings</th>\n    </tr>\n  </thead>\n  <tbody>\n    <tr>\n      <th>14851</th>\n      <td>310</td>\n      <td>14</td>\n      <td>5</td>\n      <td>879436268</td>\n      <td>4.0</td>\n      <td>4</td>\n      <td>4</td>\n      <td>3</td>\n      <td>3</td>\n    </tr>\n    <tr>\n      <th>14852</th>\n      <td>310</td>\n      <td>24</td>\n      <td>4</td>\n      <td>879436242</td>\n      <td>3.0</td>\n      <td>3</td>\n      <td>3</td>\n      <td>4</td>\n      <td>4</td>\n    </tr>\n    <tr>\n      <th>14853</th>\n      <td>310</td>\n      <td>116</td>\n      <td>5</td>\n      <td>879436104</td>\n      <td>2.0</td>\n      <td>4</td>\n      <td>3</td>\n      <td>3</td>\n      <td>4</td>\n    </tr>\n    <tr>\n      <th>14854</th>\n      <td>310</td>\n      <td>181</td>\n      <td>4</td>\n      <td>879436104</td>\n      <td>5.0</td>\n      <td>4</td>\n      <td>4</td>\n      <td>4</td>\n      <td>4</td>\n    </tr>\n    <tr>\n      <th>14855</th>\n      <td>310</td>\n      <td>222</td>\n      <td>3</td>\n      <td>879436062</td>\n      <td>5.0</td>\n      <td>4</td>\n      <td>4</td>\n      <td>3</td>\n      <td>3</td>\n    </tr>\n    <tr>\n      <th>14856</th>\n      <td>310</td>\n      <td>251</td>\n      <td>5</td>\n      <td>879436035</td>\n      <td>2.0</td>\n      <td>4</td>\n      <td>4</td>\n      <td>3</td>\n      <td>3</td>\n    </tr>\n    <tr>\n      <th>14857</th>\n      <td>310</td>\n      <td>257</td>\n      <td>5</td>\n      <td>879436576</td>\n      <td>4.0</td>\n      <td>4</td>\n      <td>4</td>\n      <td>3</td>\n      <td>4</td>\n    </tr>\n    <tr>\n      <th>14858</th>\n      <td>310</td>\n      <td>258</td>\n      <td>3</td>\n      <td>879435606</td>\n      <td>5.0</td>\n      <td>4</td>\n      <td>4</td>\n      <td>3</td>\n      <td>3</td>\n    </tr>\n    <tr>\n      <th>14859</th>\n      <td>310</td>\n      <td>274</td>\n      <td>3</td>\n      <td>879436534</td>\n      <td>2.0</td>\n      <td>4</td>\n      <td>3</td>\n      <td>3</td>\n      <td>2</td>\n    </tr>\n    <tr>\n      <th>14860</th>\n      <td>310</td>\n      <td>275</td>\n      <td>5</td>\n      <td>879436137</td>\n      <td>4.0</td>\n      <td>4</td>\n      <td>4</td>\n      <td>2</td>\n      <td>4</td>\n    </tr>\n    <tr>\n      <th>14861</th>\n      <td>310</td>\n      <td>304</td>\n      <td>5</td>\n      <td>879435664</td>\n      <td>4.0</td>\n      <td>4</td>\n      <td>3</td>\n      <td>3</td>\n      <td>2</td>\n    </tr>\n    <tr>\n      <th>14862</th>\n      <td>310</td>\n      <td>536</td>\n      <td>4</td>\n      <td>879436137</td>\n      <td>5.0</td>\n      <td>3</td>\n      <td>3</td>\n      <td>2</td>\n      <td>1</td>\n    </tr>\n    <tr>\n      <th>14863</th>\n      <td>310</td>\n      <td>740</td>\n      <td>4</td>\n      <td>879436292</td>\n      <td>4.0</td>\n      <td>4</td>\n      <td>3</td>\n      <td>1</td>\n      <td>1</td>\n    </tr>\n    <tr>\n      <th>14864</th>\n      <td>310</td>\n      <td>748</td>\n      <td>3</td>\n      <td>879435729</td>\n      <td>3.0</td>\n      <td>3</td>\n      <td>3</td>\n      <td>2</td>\n      <td>1</td>\n    </tr>\n    <tr>\n      <th>14865</th>\n      <td>310</td>\n      <td>832</td>\n      <td>1</td>\n      <td>879436035</td>\n      <td>4.0</td>\n      <td>3</td>\n      <td>3</td>\n      <td>1</td>\n      <td>1</td>\n    </tr>\n    <tr>\n      <th>14866</th>\n      <td>310</td>\n      <td>845</td>\n      <td>5</td>\n      <td>879436534</td>\n      <td>2.0</td>\n      <td>3</td>\n      <td>3</td>\n      <td>3</td>\n      <td>3</td>\n    </tr>\n    <tr>\n      <th>14867</th>\n      <td>310</td>\n      <td>1022</td>\n      <td>5</td>\n      <td>879435764</td>\n      <td>5.0</td>\n      <td>3</td>\n      <td>3</td>\n      <td>4</td>\n      <td>6</td>\n    </tr>\n  </tbody>\n</table>\n</div>"
     },
     "execution_count": 8,
     "metadata": {},
     "output_type": "execute_result"
    }
   ],
   "source": [
    "processed_ratings_file = \"../Samples/Data/100k/rating_test_df_u1.csv\"\n",
    "rating_test_df = pd.read_csv(processed_ratings_file)\n",
    "\n",
    "# Create a new testset_df that only includes rows for these cold start users\n",
    "rating_test_df = rating_test_df[rating_test_df['user_id'].isin(cold_start_users)]\n",
    "\n",
    "cleaned_df = rating_test_df.dropna(subset=['simulated_ratings'])\n",
    "cleaned_df.head(100)"
   ],
   "metadata": {
    "collapsed": false,
    "ExecuteTime": {
     "end_time": "2025-02-25T04:46:38.258604400Z",
     "start_time": "2025-02-25T04:46:38.180036600Z"
    }
   },
   "id": "initial_id"
  },
  {
   "cell_type": "code",
   "execution_count": 9,
   "outputs": [
    {
     "name": "stdout",
     "output_type": "stream",
     "text": [
      "RMSE: 1.7489492643904123\n",
      "Exact match count: 3\n",
      "Exact match percentage: 17.65%\n",
      "Off by 1 level count: 8\n",
      "Off by 1 level percentage: 47.06%\n",
      "Off by more than 1 level count: 6\n",
      "Off by more than 1 level percentage: 35.29%\n",
      "Weighted Accuracy: 0.55\n"
     ]
    }
   ],
   "source": [
    "\n",
    "# Ensure the values are integers\n",
    "cleaned_df['rating'] = cleaned_df['rating'].astype(int)\n",
    "cleaned_df['simulated_ratings'] = cleaned_df['simulated_ratings'].astype(int)\n",
    "\n",
    "# RMSE\n",
    "rmse = root_mean_squared_error(cleaned_df['rating'], cleaned_df['simulated_ratings'])\n",
    "\n",
    "# Exact match\n",
    "exact_matches = (cleaned_df['rating'] == cleaned_df['simulated_ratings'])\n",
    "exact_match_count = exact_matches.sum()\n",
    "exact_match_percentage = exact_match_count / len(cleaned_df) * 100\n",
    "\n",
    "# Off by 1 level\n",
    "off_by_1 = (cleaned_df['rating'] - cleaned_df['simulated_ratings']).abs() == 1\n",
    "off_by_1_count = off_by_1.sum()\n",
    "off_by_1_percentage = off_by_1_count / len(cleaned_df) * 100\n",
    "\n",
    "# Off by more than 1 level\n",
    "off_by_more_than_1 = (cleaned_df['rating'] - cleaned_df['simulated_ratings']).abs() > 1\n",
    "off_by_more_than_1_count = off_by_more_than_1.sum()\n",
    "off_by_more_than_1_percentage = off_by_more_than_1_count / len(cleaned_df) * 100\n",
    "\n",
    "# Weighted accuracy\n",
    "weighted_accuracy = (exact_matches * 1 + off_by_1 * 0.8).sum() / len(cleaned_df)\n",
    "\n",
    "# Output the results\n",
    "print(f\"RMSE: {rmse}\")\n",
    "print(f\"Exact match count: {exact_match_count}\")\n",
    "print(f\"Exact match percentage: {exact_match_percentage:.2f}%\")\n",
    "print(f\"Off by 1 level count: {off_by_1_count}\")\n",
    "print(f\"Off by 1 level percentage: {off_by_1_percentage:.2f}%\")\n",
    "print(f\"Off by more than 1 level count: {off_by_more_than_1_count}\")\n",
    "print(f\"Off by more than 1 level percentage: {off_by_more_than_1_percentage:.2f}%\")\n",
    "print(f\"Weighted Accuracy: {weighted_accuracy:.2f}\")\n"
   ],
   "metadata": {
    "collapsed": false,
    "ExecuteTime": {
     "end_time": "2025-02-25T04:46:44.001045500Z",
     "start_time": "2025-02-25T04:46:43.964730500Z"
    }
   },
   "id": "6120e8a38945c76d"
  },
  {
   "cell_type": "code",
   "execution_count": null,
   "outputs": [],
   "source": [],
   "metadata": {
    "collapsed": false
   },
   "id": "1c5f718b367a80f4"
  }
 ],
 "metadata": {
  "kernelspec": {
   "display_name": "Python 3",
   "language": "python",
   "name": "python3"
  },
  "language_info": {
   "codemirror_mode": {
    "name": "ipython",
    "version": 2
   },
   "file_extension": ".py",
   "mimetype": "text/x-python",
   "name": "python",
   "nbconvert_exporter": "python",
   "pygments_lexer": "ipython2",
   "version": "2.7.6"
  }
 },
 "nbformat": 4,
 "nbformat_minor": 5
}
