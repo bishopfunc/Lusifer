{
 "cells": [
  {
   "cell_type": "code",
   "execution_count": 1,
   "id": "initial_id",
   "metadata": {
    "collapsed": true,
    "ExecuteTime": {
     "end_time": "2024-11-17T23:19:31.980829900Z",
     "start_time": "2024-11-17T23:19:31.724012300Z"
    }
   },
   "outputs": [
    {
     "data": {
      "text/plain": "   user_id  movie_id  rating  timestamp\n0        1         1       5  978824268\n1        1        48       5  978824351\n2        1       150       5  978301777\n3        1       260       4  978300760\n4        1       527       5  978824195",
      "text/html": "<div>\n<style scoped>\n    .dataframe tbody tr th:only-of-type {\n        vertical-align: middle;\n    }\n\n    .dataframe tbody tr th {\n        vertical-align: top;\n    }\n\n    .dataframe thead th {\n        text-align: right;\n    }\n</style>\n<table border=\"1\" class=\"dataframe\">\n  <thead>\n    <tr style=\"text-align: right;\">\n      <th></th>\n      <th>user_id</th>\n      <th>movie_id</th>\n      <th>rating</th>\n      <th>timestamp</th>\n    </tr>\n  </thead>\n  <tbody>\n    <tr>\n      <th>0</th>\n      <td>1</td>\n      <td>1</td>\n      <td>5</td>\n      <td>978824268</td>\n    </tr>\n    <tr>\n      <th>1</th>\n      <td>1</td>\n      <td>48</td>\n      <td>5</td>\n      <td>978824351</td>\n    </tr>\n    <tr>\n      <th>2</th>\n      <td>1</td>\n      <td>150</td>\n      <td>5</td>\n      <td>978301777</td>\n    </tr>\n    <tr>\n      <th>3</th>\n      <td>1</td>\n      <td>260</td>\n      <td>4</td>\n      <td>978300760</td>\n    </tr>\n    <tr>\n      <th>4</th>\n      <td>1</td>\n      <td>527</td>\n      <td>5</td>\n      <td>978824195</td>\n    </tr>\n  </tbody>\n</table>\n</div>"
     },
     "execution_count": 1,
     "metadata": {},
     "output_type": "execute_result"
    }
   ],
   "source": [
    "import pandas as pd\n",
    "\n",
    "# path to the folder containing movielens data\n",
    "Path = \"D:\\OneDrive - University of Windsor\\Danial Ebrat _ PhD projects\\Comprehensive Exam\\Recommender-Research-Baseline (1)\\Movielens1m\\ml-1m\"\n",
    "\n",
    "# Load the ratings data\n",
    "rating_df = pd.read_csv(f'{Path}/u1.test',\n",
    "                        sep='\\t',\n",
    "                        names=['user_id', 'movie_id', 'rating', 'timestamp'],\n",
    "                        encoding='latin-1')\n",
    "rating_df.head()"
   ]
  },
  {
   "cell_type": "code",
   "execution_count": 2,
   "outputs": [
    {
     "name": "stdout",
     "output_type": "stream",
     "text": [
      "Average number of ratings per user in the test set: 162.86644951140065\n"
     ]
    }
   ],
   "source": [
    "# Calculate the number of ratings per user\n",
    "ratings_per_user = rating_df.groupby('user_id').size()\n",
    "\n",
    "# Calculate the average number of ratings per user\n",
    "average_ratings_per_user = ratings_per_user.mean()\n",
    "\n",
    "print(f\"Average number of ratings per user in the test set: {average_ratings_per_user}\")"
   ],
   "metadata": {
    "collapsed": false,
    "ExecuteTime": {
     "end_time": "2024-11-17T23:20:06.271995400Z",
     "start_time": "2024-11-17T23:20:06.225737200Z"
    }
   },
   "id": "ce4126424e2721fb"
  },
  {
   "cell_type": "code",
   "execution_count": null,
   "outputs": [],
   "source": [],
   "metadata": {
    "collapsed": false
   },
   "id": "18195d00dfcf6273"
  }
 ],
 "metadata": {
  "kernelspec": {
   "display_name": "Python 3",
   "language": "python",
   "name": "python3"
  },
  "language_info": {
   "codemirror_mode": {
    "name": "ipython",
    "version": 2
   },
   "file_extension": ".py",
   "mimetype": "text/x-python",
   "name": "python",
   "nbconvert_exporter": "python",
   "pygments_lexer": "ipython2",
   "version": "2.7.6"
  }
 },
 "nbformat": 4,
 "nbformat_minor": 5
}
