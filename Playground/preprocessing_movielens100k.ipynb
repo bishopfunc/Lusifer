{
 "cells": [
  {
   "cell_type": "markdown",
   "source": [
    "## Loading Dependencies"
   ],
   "metadata": {
    "collapsed": false
   },
   "id": "b61a58d8640486e4"
  },
  {
   "cell_type": "code",
   "execution_count": 1,
   "outputs": [],
   "source": [
    "import pandas as pd\n"
   ],
   "metadata": {
    "collapsed": false,
    "ExecuteTime": {
     "end_time": "2024-11-18T03:24:57.702564Z",
     "start_time": "2024-11-18T03:24:57.274101500Z"
    }
   },
   "id": "initial_id"
  },
  {
   "cell_type": "code",
   "execution_count": 2,
   "outputs": [],
   "source": [
    "# path to the folder containing movielens data\n",
    "Path = \"D:/Canada/Danial/UoW/Dataset/MovieLens/100K/ml-100k\""
   ],
   "metadata": {
    "collapsed": false,
    "ExecuteTime": {
     "end_time": "2024-11-18T03:25:01.507709100Z",
     "start_time": "2024-11-18T03:25:01.496196500Z"
    }
   },
   "id": "58c8a4a0002732c5"
  },
  {
   "cell_type": "markdown",
   "source": [
    "## Loading users information and creating user_info column"
   ],
   "metadata": {
    "collapsed": false
   },
   "id": "d3f92c16670d3513"
  },
  {
   "cell_type": "code",
   "execution_count": 3,
   "outputs": [
    {
     "data": {
      "text/plain": "   user_id  age gender  occupation zip_code\n0        1   24      M  technician    85711\n1        2   53      F       other    94043\n2        3   23      M      writer    32067\n3        4   24      M  technician    43537\n4        5   33      F       other    15213",
      "text/html": "<div>\n<style scoped>\n    .dataframe tbody tr th:only-of-type {\n        vertical-align: middle;\n    }\n\n    .dataframe tbody tr th {\n        vertical-align: top;\n    }\n\n    .dataframe thead th {\n        text-align: right;\n    }\n</style>\n<table border=\"1\" class=\"dataframe\">\n  <thead>\n    <tr style=\"text-align: right;\">\n      <th></th>\n      <th>user_id</th>\n      <th>age</th>\n      <th>gender</th>\n      <th>occupation</th>\n      <th>zip_code</th>\n    </tr>\n  </thead>\n  <tbody>\n    <tr>\n      <th>0</th>\n      <td>1</td>\n      <td>24</td>\n      <td>M</td>\n      <td>technician</td>\n      <td>85711</td>\n    </tr>\n    <tr>\n      <th>1</th>\n      <td>2</td>\n      <td>53</td>\n      <td>F</td>\n      <td>other</td>\n      <td>94043</td>\n    </tr>\n    <tr>\n      <th>2</th>\n      <td>3</td>\n      <td>23</td>\n      <td>M</td>\n      <td>writer</td>\n      <td>32067</td>\n    </tr>\n    <tr>\n      <th>3</th>\n      <td>4</td>\n      <td>24</td>\n      <td>M</td>\n      <td>technician</td>\n      <td>43537</td>\n    </tr>\n    <tr>\n      <th>4</th>\n      <td>5</td>\n      <td>33</td>\n      <td>F</td>\n      <td>other</td>\n      <td>15213</td>\n    </tr>\n  </tbody>\n</table>\n</div>"
     },
     "execution_count": 3,
     "metadata": {},
     "output_type": "execute_result"
    }
   ],
   "source": [
    "# Loading the user data\n",
    "user_df = pd.read_csv(f'{Path}/u.user', \n",
    "                      sep='|', \n",
    "                      names=[\"user_id\", \"age\", \"gender\", \"occupation\", \"zip_code\"], \n",
    "                      encoding='latin-1')\n",
    "\n",
    "\n",
    "# loading Movies\n",
    "user_df.head()"
   ],
   "metadata": {
    "collapsed": false,
    "ExecuteTime": {
     "end_time": "2024-11-18T03:25:03.882593300Z",
     "start_time": "2024-11-18T03:25:03.849099Z"
    }
   },
   "id": "5628444e0296118d"
  },
  {
   "cell_type": "code",
   "execution_count": null,
   "outputs": [],
   "source": [],
   "metadata": {
    "collapsed": false
   },
   "id": "ee4695dcc8abf691"
  },
  {
   "cell_type": "code",
   "execution_count": 25,
   "outputs": [
    {
     "data": {
      "text/plain": "   user_id  age gender  occupation zip_code  \\\n0        1   24      M  technician    85711   \n1        2   53      F       other    94043   \n2        3   23      M      writer    32067   \n3        4   24      M  technician    43537   \n4        5   33      F       other    15213   \n\n                                           user_info  \n0  \\n    Age: 24\\n    Gender: Male\\n    Occupatio...  \n1  \\n    Age: 53\\n    Gender: Female\\n    Occupat...  \n2  \\n    Age: 23\\n    Gender: Male\\n    Occupatio...  \n3  \\n    Age: 24\\n    Gender: Male\\n    Occupatio...  \n4  \\n    Age: 33\\n    Gender: Female\\n    Occupat...  ",
      "text/html": "<div>\n<style scoped>\n    .dataframe tbody tr th:only-of-type {\n        vertical-align: middle;\n    }\n\n    .dataframe tbody tr th {\n        vertical-align: top;\n    }\n\n    .dataframe thead th {\n        text-align: right;\n    }\n</style>\n<table border=\"1\" class=\"dataframe\">\n  <thead>\n    <tr style=\"text-align: right;\">\n      <th></th>\n      <th>user_id</th>\n      <th>age</th>\n      <th>gender</th>\n      <th>occupation</th>\n      <th>zip_code</th>\n      <th>user_info</th>\n    </tr>\n  </thead>\n  <tbody>\n    <tr>\n      <th>0</th>\n      <td>1</td>\n      <td>24</td>\n      <td>M</td>\n      <td>technician</td>\n      <td>85711</td>\n      <td>\\n    Age: 24\\n    Gender: Male\\n    Occupatio...</td>\n    </tr>\n    <tr>\n      <th>1</th>\n      <td>2</td>\n      <td>53</td>\n      <td>F</td>\n      <td>other</td>\n      <td>94043</td>\n      <td>\\n    Age: 53\\n    Gender: Female\\n    Occupat...</td>\n    </tr>\n    <tr>\n      <th>2</th>\n      <td>3</td>\n      <td>23</td>\n      <td>M</td>\n      <td>writer</td>\n      <td>32067</td>\n      <td>\\n    Age: 23\\n    Gender: Male\\n    Occupatio...</td>\n    </tr>\n    <tr>\n      <th>3</th>\n      <td>4</td>\n      <td>24</td>\n      <td>M</td>\n      <td>technician</td>\n      <td>43537</td>\n      <td>\\n    Age: 24\\n    Gender: Male\\n    Occupatio...</td>\n    </tr>\n    <tr>\n      <th>4</th>\n      <td>5</td>\n      <td>33</td>\n      <td>F</td>\n      <td>other</td>\n      <td>15213</td>\n      <td>\\n    Age: 33\\n    Gender: Female\\n    Occupat...</td>\n    </tr>\n  </tbody>\n</table>\n</div>"
     },
     "execution_count": 25,
     "metadata": {},
     "output_type": "execute_result"
    }
   ],
   "source": [
    "\n",
    "# Function to format the user info\n",
    "def format_user_info(row):\n",
    "    # Map gender from 'M'/'F' to 'Male'/'Female'\n",
    "    gender = 'Male' if row['gender'] == 'M' else 'Female'\n",
    "    # Create the formatted string\n",
    "    user_info = f\"\"\"\n",
    "    Age: {row['age']}\n",
    "    Gender: {gender}\n",
    "    Occupation: {row['occupation']}\n",
    "    \"\"\"\n",
    "    return user_info\n",
    "\n",
    "# Apply the function to create the 'user_info' column\n",
    "user_df['user_info'] = user_df.apply(format_user_info, axis=1)\n",
    "\n",
    "user_df.head()\n"
   ],
   "metadata": {
    "collapsed": false,
    "ExecuteTime": {
     "end_time": "2024-05-07T01:47:24.252945300Z",
     "start_time": "2024-05-07T01:47:24.229661400Z"
    }
   },
   "id": "fba27292482aa7e7"
  },
  {
   "cell_type": "markdown",
   "source": [
    "## Loading movies information and creating movie_info column: "
   ],
   "metadata": {
    "collapsed": false
   },
   "id": "876744a61acb6d77"
  },
  {
   "cell_type": "code",
   "execution_count": 11,
   "outputs": [
    {
     "name": "stdout",
     "output_type": "stream",
     "text": [
      "1682\n"
     ]
    }
   ],
   "source": [
    "# Load the item data\n",
    "item_df = pd.read_csv(f'{Path}/u.item', sep='|', names=['movie_id', 'title', 'release_date', 'video_release_date', 'IMDb_URL', 'unknown', 'Action', 'Adventure', 'Animation', \"Children\", 'Comedy', 'Crime', 'Documentary', 'Drama', 'Fantasy', 'Film-Noir', 'Horror', 'Musical', 'Mystery', 'Romance', 'Sci-Fi', 'Thriller', 'War', 'Western'], encoding='latin-1')\n",
    "\n",
    "print(len(item_df))"
   ],
   "metadata": {
    "collapsed": false,
    "ExecuteTime": {
     "end_time": "2024-05-18T22:28:56.792950100Z",
     "start_time": "2024-05-18T22:28:56.742200300Z"
    }
   },
   "id": "daa5179e1f1f771a"
  },
  {
   "cell_type": "markdown",
   "source": [
    "## Using TMDB API to extract more information about the movies"
   ],
   "metadata": {
    "collapsed": false
   },
   "id": "7b9db37267bd5b32"
  },
  {
   "cell_type": "code",
   "execution_count": 28,
   "outputs": [
    {
     "name": "stderr",
     "output_type": "stream",
     "text": [
      "Fetching movie details: 100%|██████████| 1682/1682 [08:03<00:00,  3.48it/s]\n"
     ]
    }
   ],
   "source": [
    "import requests\n",
    "import pandas as pd\n",
    "import time\n",
    "import re\n",
    "from tqdm import tqdm\n",
    "\n",
    "\n",
    "API_KEY = \"Put your TMDB API key\"\n",
    "\n",
    "def get_movie_details(title, api_key):\n",
    "    \"\"\"Fetch movie details from TMDb API given a movie title, potentially including a year.\"\"\"\n",
    "    # Extract the year and clean title if present in the format \"Title (Year)\"\n",
    "    match = re.match(r\"^(.*?)\\s*\\((\\d{4})\\)$\", title)\n",
    "    if match:\n",
    "        clean_title, year = match.groups()\n",
    "    else:\n",
    "        clean_title, year = title, None\n",
    "    \n",
    "    try:\n",
    "        # Modify the URL to include the year in the search if it's available\n",
    "        url = f\"https://api.themoviedb.org/3/search/movie?api_key={api_key}&query={clean_title}\"\n",
    "        if year:\n",
    "            url += f\"&year={year}\"\n",
    "        response = requests.get(url)\n",
    "        data = response.json()\n",
    "        if data['results']:\n",
    "            movie_id = data['results'][0]['id']  # Assuming the first result is the correct movie\n",
    "            details_url = f\"https://api.themoviedb.org/3/movie/{movie_id}?api_key={api_key}\"\n",
    "            details_response = requests.get(details_url)\n",
    "            return details_response.json()  # Returns a dictionary of details\n",
    "        else:\n",
    "            return {}\n",
    "    except requests.exceptions.RequestException as e:\n",
    "        print(f\"Request failed: {e}\")\n",
    "        time.sleep(10)  # Wait for 10 seconds before retrying\n",
    "        return get_movie_details(title, api_key)\n",
    "\n",
    "\n",
    "# # Using tqdm for a progress bar\n",
    "item_df['details'] = [get_movie_details(title, API_KEY) for title in tqdm(item_df['title'], desc=\"Fetching movie details\")]\n",
    "\n",
    "# Expand 'details' dict into separate columns, excluding the duplicate 'title'\n",
    "details_df = item_df['details'].apply(pd.Series)\n",
    "\n",
    "# Drop the \"title\" column from details_df if it exists\n",
    "details_df.drop(columns=['title'], errors='ignore', inplace=True)\n",
    "\n",
    "# Concatenate the original DataFrame and the expanded details DataFrame\n",
    "item_df = pd.concat([item_df.drop(['details'], axis=1), details_df], axis=1)\n"
   ],
   "metadata": {
    "collapsed": false,
    "ExecuteTime": {
     "end_time": "2024-05-07T02:00:09.097726700Z",
     "start_time": "2024-05-07T01:52:05.207596800Z"
    }
   },
   "id": "eb9edff7746312d8"
  },
  {
   "cell_type": "code",
   "execution_count": 29,
   "outputs": [
    {
     "data": {
      "text/plain": "   movie_id              title  release_date  video_release_date  \\\n0         1   Toy Story (1995)   01-Jan-1995                 NaN   \n1         2   GoldenEye (1995)   01-Jan-1995                 NaN   \n2         3  Four Rooms (1995)   01-Jan-1995                 NaN   \n3         4  Get Shorty (1995)   01-Jan-1995                 NaN   \n4         5     Copycat (1995)   01-Jan-1995                 NaN   \n\n                                            IMDb_URL  unknown  Action  \\\n0  http://us.imdb.com/M/title-exact?Toy%20Story%2...        0       0   \n1  http://us.imdb.com/M/title-exact?GoldenEye%20(...        0       1   \n2  http://us.imdb.com/M/title-exact?Four%20Rooms%...        0       0   \n3  http://us.imdb.com/M/title-exact?Get%20Shorty%...        0       1   \n4  http://us.imdb.com/M/title-exact?Copycat%20(1995)        0       0   \n\n   Adventure  Animation  Children  ...  \\\n0          0          1         1  ...   \n1          1          0         0  ...   \n2          0          0         0  ...   \n3          0          0         0  ...   \n4          0          0         0  ...   \n\n                                production_countries  release_date  \\\n0  [{'iso_3166_1': 'US', 'name': 'United States o...    1995-10-30   \n1  [{'iso_3166_1': 'GB', 'name': 'United Kingdom'...    1995-11-16   \n2  [{'iso_3166_1': 'US', 'name': 'United States o...    1995-12-09   \n3  [{'iso_3166_1': 'US', 'name': 'United States o...    1995-10-20   \n4  [{'iso_3166_1': 'US', 'name': 'United States o...    1995-10-27   \n\n       revenue  runtime                                   spoken_languages  \\\n0  394436586.0     81.0  [{'english_name': 'English', 'iso_639_1': 'en'...   \n1  352200000.0    130.0  [{'english_name': 'English', 'iso_639_1': 'en'...   \n2    4257354.0     98.0  [{'english_name': 'English', 'iso_639_1': 'en'...   \n3  115101622.0    105.0  [{'english_name': 'English', 'iso_639_1': 'en'...   \n4   32000000.0    124.0  [{'english_name': 'English', 'iso_639_1': 'en'...   \n\n     status                                            tagline  video  \\\n0  Released  Hang on for the comedy that goes to infinity a...  False   \n1  Released               No limits. No fears. No substitutes.  False   \n2  Released  Twelve outrageous guests. Four scandalous requ...  False   \n3  Released                             Attitude plays a part.  False   \n4  Released  One man is copying the most notorious killers ...  False   \n\n   vote_average  vote_count  \n0         7.973     17828.0  \n1         6.892      3704.0  \n2         5.824      2556.0  \n3         6.463       985.0  \n4         6.501       902.0  \n\n[5 rows x 49 columns]",
      "text/html": "<div>\n<style scoped>\n    .dataframe tbody tr th:only-of-type {\n        vertical-align: middle;\n    }\n\n    .dataframe tbody tr th {\n        vertical-align: top;\n    }\n\n    .dataframe thead th {\n        text-align: right;\n    }\n</style>\n<table border=\"1\" class=\"dataframe\">\n  <thead>\n    <tr style=\"text-align: right;\">\n      <th></th>\n      <th>movie_id</th>\n      <th>title</th>\n      <th>release_date</th>\n      <th>video_release_date</th>\n      <th>IMDb_URL</th>\n      <th>unknown</th>\n      <th>Action</th>\n      <th>Adventure</th>\n      <th>Animation</th>\n      <th>Children</th>\n      <th>...</th>\n      <th>production_countries</th>\n      <th>release_date</th>\n      <th>revenue</th>\n      <th>runtime</th>\n      <th>spoken_languages</th>\n      <th>status</th>\n      <th>tagline</th>\n      <th>video</th>\n      <th>vote_average</th>\n      <th>vote_count</th>\n    </tr>\n  </thead>\n  <tbody>\n    <tr>\n      <th>0</th>\n      <td>1</td>\n      <td>Toy Story (1995)</td>\n      <td>01-Jan-1995</td>\n      <td>NaN</td>\n      <td>http://us.imdb.com/M/title-exact?Toy%20Story%2...</td>\n      <td>0</td>\n      <td>0</td>\n      <td>0</td>\n      <td>1</td>\n      <td>1</td>\n      <td>...</td>\n      <td>[{'iso_3166_1': 'US', 'name': 'United States o...</td>\n      <td>1995-10-30</td>\n      <td>394436586.0</td>\n      <td>81.0</td>\n      <td>[{'english_name': 'English', 'iso_639_1': 'en'...</td>\n      <td>Released</td>\n      <td>Hang on for the comedy that goes to infinity a...</td>\n      <td>False</td>\n      <td>7.973</td>\n      <td>17828.0</td>\n    </tr>\n    <tr>\n      <th>1</th>\n      <td>2</td>\n      <td>GoldenEye (1995)</td>\n      <td>01-Jan-1995</td>\n      <td>NaN</td>\n      <td>http://us.imdb.com/M/title-exact?GoldenEye%20(...</td>\n      <td>0</td>\n      <td>1</td>\n      <td>1</td>\n      <td>0</td>\n      <td>0</td>\n      <td>...</td>\n      <td>[{'iso_3166_1': 'GB', 'name': 'United Kingdom'...</td>\n      <td>1995-11-16</td>\n      <td>352200000.0</td>\n      <td>130.0</td>\n      <td>[{'english_name': 'English', 'iso_639_1': 'en'...</td>\n      <td>Released</td>\n      <td>No limits. No fears. No substitutes.</td>\n      <td>False</td>\n      <td>6.892</td>\n      <td>3704.0</td>\n    </tr>\n    <tr>\n      <th>2</th>\n      <td>3</td>\n      <td>Four Rooms (1995)</td>\n      <td>01-Jan-1995</td>\n      <td>NaN</td>\n      <td>http://us.imdb.com/M/title-exact?Four%20Rooms%...</td>\n      <td>0</td>\n      <td>0</td>\n      <td>0</td>\n      <td>0</td>\n      <td>0</td>\n      <td>...</td>\n      <td>[{'iso_3166_1': 'US', 'name': 'United States o...</td>\n      <td>1995-12-09</td>\n      <td>4257354.0</td>\n      <td>98.0</td>\n      <td>[{'english_name': 'English', 'iso_639_1': 'en'...</td>\n      <td>Released</td>\n      <td>Twelve outrageous guests. Four scandalous requ...</td>\n      <td>False</td>\n      <td>5.824</td>\n      <td>2556.0</td>\n    </tr>\n    <tr>\n      <th>3</th>\n      <td>4</td>\n      <td>Get Shorty (1995)</td>\n      <td>01-Jan-1995</td>\n      <td>NaN</td>\n      <td>http://us.imdb.com/M/title-exact?Get%20Shorty%...</td>\n      <td>0</td>\n      <td>1</td>\n      <td>0</td>\n      <td>0</td>\n      <td>0</td>\n      <td>...</td>\n      <td>[{'iso_3166_1': 'US', 'name': 'United States o...</td>\n      <td>1995-10-20</td>\n      <td>115101622.0</td>\n      <td>105.0</td>\n      <td>[{'english_name': 'English', 'iso_639_1': 'en'...</td>\n      <td>Released</td>\n      <td>Attitude plays a part.</td>\n      <td>False</td>\n      <td>6.463</td>\n      <td>985.0</td>\n    </tr>\n    <tr>\n      <th>4</th>\n      <td>5</td>\n      <td>Copycat (1995)</td>\n      <td>01-Jan-1995</td>\n      <td>NaN</td>\n      <td>http://us.imdb.com/M/title-exact?Copycat%20(1995)</td>\n      <td>0</td>\n      <td>0</td>\n      <td>0</td>\n      <td>0</td>\n      <td>0</td>\n      <td>...</td>\n      <td>[{'iso_3166_1': 'US', 'name': 'United States o...</td>\n      <td>1995-10-27</td>\n      <td>32000000.0</td>\n      <td>124.0</td>\n      <td>[{'english_name': 'English', 'iso_639_1': 'en'...</td>\n      <td>Released</td>\n      <td>One man is copying the most notorious killers ...</td>\n      <td>False</td>\n      <td>6.501</td>\n      <td>902.0</td>\n    </tr>\n  </tbody>\n</table>\n<p>5 rows × 49 columns</p>\n</div>"
     },
     "execution_count": 29,
     "metadata": {},
     "output_type": "execute_result"
    }
   ],
   "source": [
    "item_df.head()"
   ],
   "metadata": {
    "collapsed": false,
    "ExecuteTime": {
     "end_time": "2024-05-07T02:01:29.193354800Z",
     "start_time": "2024-05-07T02:01:29.153803400Z"
    }
   },
   "id": "3dbc824938545dc3"
  },
  {
   "cell_type": "code",
   "execution_count": 30,
   "outputs": [
    {
     "name": "stdout",
     "output_type": "stream",
     "text": [
      "Cleaned dataset saved. Number of movies with overviews: 1591\n"
     ]
    }
   ],
   "source": [
    "# Filter out rows where the 'overview' column is NaN\n",
    "cleaned_df = item_df.dropna(subset=['overview'])\n",
    "\n",
    "# Saving the cleaned DataFrame\n",
    "cleaned_df.to_csv('movies_enriched_dataset.csv', index=False)\n",
    "\n",
    "print(\"Cleaned dataset saved. Number of movies with overviews:\", cleaned_df.shape[0])"
   ],
   "metadata": {
    "collapsed": false,
    "ExecuteTime": {
     "end_time": "2024-05-07T02:01:52.237162600Z",
     "start_time": "2024-05-07T02:01:52.169337Z"
    }
   },
   "id": "306e24b64f39343a"
  },
  {
   "cell_type": "code",
   "execution_count": 31,
   "outputs": [],
   "source": [
    "cleaned_df.to_pickle('movies_enriched_dataset.pkl')"
   ],
   "metadata": {
    "collapsed": false,
    "ExecuteTime": {
     "end_time": "2024-05-07T02:03:20.721815300Z",
     "start_time": "2024-05-07T02:03:20.703797800Z"
    }
   },
   "id": "ab9279c67dbf545d"
  },
  {
   "cell_type": "markdown",
   "source": [
    "## Loading enriched dataset and creating movie_info col"
   ],
   "metadata": {
    "collapsed": false
   },
   "id": "7339e5d17e4919f7"
  },
  {
   "cell_type": "code",
   "execution_count": 32,
   "outputs": [
    {
     "name": "stderr",
     "output_type": "stream",
     "text": [
      "C:\\Users\\dania\\AppData\\Local\\Temp\\ipykernel_52524\\3529631491.py:18: SettingWithCopyWarning: \n",
      "A value is trying to be set on a copy of a slice from a DataFrame.\n",
      "Try using .loc[row_indexer,col_indexer] = value instead\n",
      "\n",
      "See the caveats in the documentation: https://pandas.pydata.org/pandas-docs/stable/user_guide/indexing.html#returning-a-view-versus-a-copy\n",
      "  cleaned_df['movie_info'] = cleaned_df.apply(format_movie_info, axis=1)\n"
     ]
    },
    {
     "data": {
      "text/plain": "   movie_id              title  release_date  video_release_date  \\\n0         1   Toy Story (1995)   01-Jan-1995                 NaN   \n1         2   GoldenEye (1995)   01-Jan-1995                 NaN   \n2         3  Four Rooms (1995)   01-Jan-1995                 NaN   \n3         4  Get Shorty (1995)   01-Jan-1995                 NaN   \n4         5     Copycat (1995)   01-Jan-1995                 NaN   \n\n                                            IMDb_URL  unknown  Action  \\\n0  http://us.imdb.com/M/title-exact?Toy%20Story%2...        0       0   \n1  http://us.imdb.com/M/title-exact?GoldenEye%20(...        0       1   \n2  http://us.imdb.com/M/title-exact?Four%20Rooms%...        0       0   \n3  http://us.imdb.com/M/title-exact?Get%20Shorty%...        0       1   \n4  http://us.imdb.com/M/title-exact?Copycat%20(1995)        0       0   \n\n   Adventure  Animation  Children  ...  release_date      revenue  runtime  \\\n0          0          1         1  ...    1995-10-30  394436586.0     81.0   \n1          1          0         0  ...    1995-11-16  352200000.0    130.0   \n2          0          0         0  ...    1995-12-09    4257354.0     98.0   \n3          0          0         0  ...    1995-10-20  115101622.0    105.0   \n4          0          0         0  ...    1995-10-27   32000000.0    124.0   \n\n                                    spoken_languages    status  \\\n0  [{'english_name': 'English', 'iso_639_1': 'en'...  Released   \n1  [{'english_name': 'English', 'iso_639_1': 'en'...  Released   \n2  [{'english_name': 'English', 'iso_639_1': 'en'...  Released   \n3  [{'english_name': 'English', 'iso_639_1': 'en'...  Released   \n4  [{'english_name': 'English', 'iso_639_1': 'en'...  Released   \n\n                                             tagline  video  vote_average  \\\n0  Hang on for the comedy that goes to infinity a...  False         7.973   \n1               No limits. No fears. No substitutes.  False         6.892   \n2  Twelve outrageous guests. Four scandalous requ...  False         5.824   \n3                             Attitude plays a part.  False         6.463   \n4  One man is copying the most notorious killers ...  False         6.501   \n\n   vote_count                                         movie_info  \n0     17828.0  \\n    Movie title: Toy Story (1995) \\n    Genr...  \n1      3704.0  \\n    Movie title: GoldenEye (1995) \\n    Genr...  \n2      2556.0  \\n    Movie title: Four Rooms (1995) \\n    Gen...  \n3       985.0  \\n    Movie title: Get Shorty (1995) \\n    Gen...  \n4       902.0  \\n    Movie title: Copycat (1995) \\n    Genre:...  \n\n[5 rows x 50 columns]",
      "text/html": "<div>\n<style scoped>\n    .dataframe tbody tr th:only-of-type {\n        vertical-align: middle;\n    }\n\n    .dataframe tbody tr th {\n        vertical-align: top;\n    }\n\n    .dataframe thead th {\n        text-align: right;\n    }\n</style>\n<table border=\"1\" class=\"dataframe\">\n  <thead>\n    <tr style=\"text-align: right;\">\n      <th></th>\n      <th>movie_id</th>\n      <th>title</th>\n      <th>release_date</th>\n      <th>video_release_date</th>\n      <th>IMDb_URL</th>\n      <th>unknown</th>\n      <th>Action</th>\n      <th>Adventure</th>\n      <th>Animation</th>\n      <th>Children</th>\n      <th>...</th>\n      <th>release_date</th>\n      <th>revenue</th>\n      <th>runtime</th>\n      <th>spoken_languages</th>\n      <th>status</th>\n      <th>tagline</th>\n      <th>video</th>\n      <th>vote_average</th>\n      <th>vote_count</th>\n      <th>movie_info</th>\n    </tr>\n  </thead>\n  <tbody>\n    <tr>\n      <th>0</th>\n      <td>1</td>\n      <td>Toy Story (1995)</td>\n      <td>01-Jan-1995</td>\n      <td>NaN</td>\n      <td>http://us.imdb.com/M/title-exact?Toy%20Story%2...</td>\n      <td>0</td>\n      <td>0</td>\n      <td>0</td>\n      <td>1</td>\n      <td>1</td>\n      <td>...</td>\n      <td>1995-10-30</td>\n      <td>394436586.0</td>\n      <td>81.0</td>\n      <td>[{'english_name': 'English', 'iso_639_1': 'en'...</td>\n      <td>Released</td>\n      <td>Hang on for the comedy that goes to infinity a...</td>\n      <td>False</td>\n      <td>7.973</td>\n      <td>17828.0</td>\n      <td>\\n    Movie title: Toy Story (1995) \\n    Genr...</td>\n    </tr>\n    <tr>\n      <th>1</th>\n      <td>2</td>\n      <td>GoldenEye (1995)</td>\n      <td>01-Jan-1995</td>\n      <td>NaN</td>\n      <td>http://us.imdb.com/M/title-exact?GoldenEye%20(...</td>\n      <td>0</td>\n      <td>1</td>\n      <td>1</td>\n      <td>0</td>\n      <td>0</td>\n      <td>...</td>\n      <td>1995-11-16</td>\n      <td>352200000.0</td>\n      <td>130.0</td>\n      <td>[{'english_name': 'English', 'iso_639_1': 'en'...</td>\n      <td>Released</td>\n      <td>No limits. No fears. No substitutes.</td>\n      <td>False</td>\n      <td>6.892</td>\n      <td>3704.0</td>\n      <td>\\n    Movie title: GoldenEye (1995) \\n    Genr...</td>\n    </tr>\n    <tr>\n      <th>2</th>\n      <td>3</td>\n      <td>Four Rooms (1995)</td>\n      <td>01-Jan-1995</td>\n      <td>NaN</td>\n      <td>http://us.imdb.com/M/title-exact?Four%20Rooms%...</td>\n      <td>0</td>\n      <td>0</td>\n      <td>0</td>\n      <td>0</td>\n      <td>0</td>\n      <td>...</td>\n      <td>1995-12-09</td>\n      <td>4257354.0</td>\n      <td>98.0</td>\n      <td>[{'english_name': 'English', 'iso_639_1': 'en'...</td>\n      <td>Released</td>\n      <td>Twelve outrageous guests. Four scandalous requ...</td>\n      <td>False</td>\n      <td>5.824</td>\n      <td>2556.0</td>\n      <td>\\n    Movie title: Four Rooms (1995) \\n    Gen...</td>\n    </tr>\n    <tr>\n      <th>3</th>\n      <td>4</td>\n      <td>Get Shorty (1995)</td>\n      <td>01-Jan-1995</td>\n      <td>NaN</td>\n      <td>http://us.imdb.com/M/title-exact?Get%20Shorty%...</td>\n      <td>0</td>\n      <td>1</td>\n      <td>0</td>\n      <td>0</td>\n      <td>0</td>\n      <td>...</td>\n      <td>1995-10-20</td>\n      <td>115101622.0</td>\n      <td>105.0</td>\n      <td>[{'english_name': 'English', 'iso_639_1': 'en'...</td>\n      <td>Released</td>\n      <td>Attitude plays a part.</td>\n      <td>False</td>\n      <td>6.463</td>\n      <td>985.0</td>\n      <td>\\n    Movie title: Get Shorty (1995) \\n    Gen...</td>\n    </tr>\n    <tr>\n      <th>4</th>\n      <td>5</td>\n      <td>Copycat (1995)</td>\n      <td>01-Jan-1995</td>\n      <td>NaN</td>\n      <td>http://us.imdb.com/M/title-exact?Copycat%20(1995)</td>\n      <td>0</td>\n      <td>0</td>\n      <td>0</td>\n      <td>0</td>\n      <td>0</td>\n      <td>...</td>\n      <td>1995-10-27</td>\n      <td>32000000.0</td>\n      <td>124.0</td>\n      <td>[{'english_name': 'English', 'iso_639_1': 'en'...</td>\n      <td>Released</td>\n      <td>One man is copying the most notorious killers ...</td>\n      <td>False</td>\n      <td>6.501</td>\n      <td>902.0</td>\n      <td>\\n    Movie title: Copycat (1995) \\n    Genre:...</td>\n    </tr>\n  </tbody>\n</table>\n<p>5 rows × 50 columns</p>\n</div>"
     },
     "execution_count": 32,
     "metadata": {},
     "output_type": "execute_result"
    }
   ],
   "source": [
    "\n",
    "# Define genre columns\n",
    "genre_columns = ['unknown', 'Action', 'Adventure', 'Animation', 'Children', 'Comedy', \n",
    "                 'Crime', 'Documentary', 'Drama', 'Fantasy', 'Film-Noir', 'Horror', \n",
    "                 'Musical', 'Mystery', 'Romance', 'Sci-Fi', 'Thriller', 'War', 'Western']\n",
    "\n",
    "# Function to extract and format the genres\n",
    "def format_movie_info(row):\n",
    "    genres = [genre for genre in genre_columns if row[genre] == 1]\n",
    "    genre_str = ', '.join(genres)\n",
    "    movie_info = f\"\"\"\n",
    "    Movie title: {row['title']} \n",
    "    Genre: {genre_str}\n",
    "    Overview: {row['overview']} \n",
    "    \"\"\"\n",
    "    return movie_info\n",
    "\n",
    "# Apply the function to create the 'movie_info' column\n",
    "cleaned_df['movie_info'] = cleaned_df.apply(format_movie_info, axis=1)\n",
    "cleaned_df.head()"
   ],
   "metadata": {
    "collapsed": false,
    "ExecuteTime": {
     "end_time": "2024-05-07T02:03:31.913857600Z",
     "start_time": "2024-05-07T02:03:31.780234800Z"
    }
   },
   "id": "5e75ff008b30b055"
  },
  {
   "cell_type": "code",
   "execution_count": 33,
   "outputs": [],
   "source": [
    "\n",
    "# Saving the cleaned DataFrame\n",
    "\n",
    "cleaned_df.to_pickle('movies_enriched_dataset.pkl')\n",
    "# user_df.to_pickle('user_dataset.pkl')\n",
    "\n"
   ],
   "metadata": {
    "collapsed": false,
    "ExecuteTime": {
     "end_time": "2024-05-07T02:04:08.430407200Z",
     "start_time": "2024-05-07T02:04:08.393543800Z"
    }
   },
   "id": "7e06be364488e337"
  },
  {
   "cell_type": "code",
   "execution_count": 53,
   "outputs": [
    {
     "data": {
      "text/plain": "      movie_id                                              title  \\\n5            6  Shanghai Triad (Yao a yao yao dao waipo qiao) ...   \n43          44                           Dolores Claiborne (1994)   \n74          75  Brother Minister: The Assassination of Malcolm...   \n162        163             Return of the Pink Panther, The (1974)   \n167        168             Monty Python and the Holy Grail (1974)   \n...        ...                                                ...   \n1638      1639                Bitter Sugar (Azucar Amargo) (1996)   \n1655      1656                                 Little City (1998)   \n1659      1660                                 Small Faces (1995)   \n1666      1667                              Next Step, The (1995)   \n1670      1671                          Further Gesture, A (1996)   \n\n      release_date  video_release_date  \\\n5      01-Jan-1995                 NaN   \n43     01-Jan-1994                 NaN   \n74     01-Jan-1994                 NaN   \n162    01-Jan-1974                 NaN   \n167    01-Jan-1974                 NaN   \n...            ...                 ...   \n1638   22-Nov-1996                 NaN   \n1655   20-Feb-1998                 NaN   \n1659   09-Aug-1996                 NaN   \n1666   13-Jun-1997                 NaN   \n1670   20-Feb-1998                 NaN   \n\n                                               IMDb_URL  unknown  Action  \\\n5     http://us.imdb.com/Title?Yao+a+yao+yao+dao+wai...        0       0   \n43    http://us.imdb.com/M/title-exact?Dolores%20Cla...        0       0   \n74    http://us.imdb.com/M/title-exact?Brother%20Min...        0       0   \n162   http://us.imdb.com/M/title-exact?Return%20of%2...        0       0   \n167   http://us.imdb.com/M/title-exact?Monty%20Pytho...        0       0   \n...                                                 ...      ...     ...   \n1638  http://us.imdb.com/M/title-exact?Bitter%20Suga...        0       0   \n1655  http://us.imdb.com/M/title-exact?Little+City+(...        0       0   \n1659  http://us.imdb.com/M/title-exact?Small%20Faces...        0       0   \n1666  http://us.imdb.com/M/title-exact?Next%20Step%2...        0       0   \n1670  http://us.imdb.com/M/title-exact?Further+Gestu...        0       0   \n\n      Adventure  Animation  Children  ...  release_date  revenue  runtime  \\\n5             0          0         0  ...           NaN      NaN      NaN   \n43            0          0         0  ...           NaN      NaN      NaN   \n74            0          0         0  ...           NaN      NaN      NaN   \n162           0          0         0  ...           NaN      NaN      NaN   \n167           0          0         0  ...           NaN      NaN      NaN   \n...         ...        ...       ...  ...           ...      ...      ...   \n1638          0          0         0  ...           NaN      NaN      NaN   \n1655          0          0         0  ...           NaN      NaN      NaN   \n1659          0          0         0  ...           NaN      NaN      NaN   \n1666          0          0         0  ...           NaN      NaN      NaN   \n1670          0          0         0  ...           NaN      NaN      NaN   \n\n      spoken_languages  status  tagline  title  video  vote_average  \\\n5                  NaN     NaN      NaN    NaN    NaN           NaN   \n43                 NaN     NaN      NaN    NaN    NaN           NaN   \n74                 NaN     NaN      NaN    NaN    NaN           NaN   \n162                NaN     NaN      NaN    NaN    NaN           NaN   \n167                NaN     NaN      NaN    NaN    NaN           NaN   \n...                ...     ...      ...    ...    ...           ...   \n1638               NaN     NaN      NaN    NaN    NaN           NaN   \n1655               NaN     NaN      NaN    NaN    NaN           NaN   \n1659               NaN     NaN      NaN    NaN    NaN           NaN   \n1666               NaN     NaN      NaN    NaN    NaN           NaN   \n1670               NaN     NaN      NaN    NaN    NaN           NaN   \n\n      vote_count  \n5            NaN  \n43           NaN  \n74           NaN  \n162          NaN  \n167          NaN  \n...          ...  \n1638         NaN  \n1655         NaN  \n1659         NaN  \n1666         NaN  \n1670         NaN  \n\n[91 rows x 50 columns]",
      "text/html": "<div>\n<style scoped>\n    .dataframe tbody tr th:only-of-type {\n        vertical-align: middle;\n    }\n\n    .dataframe tbody tr th {\n        vertical-align: top;\n    }\n\n    .dataframe thead th {\n        text-align: right;\n    }\n</style>\n<table border=\"1\" class=\"dataframe\">\n  <thead>\n    <tr style=\"text-align: right;\">\n      <th></th>\n      <th>movie_id</th>\n      <th>title</th>\n      <th>release_date</th>\n      <th>video_release_date</th>\n      <th>IMDb_URL</th>\n      <th>unknown</th>\n      <th>Action</th>\n      <th>Adventure</th>\n      <th>Animation</th>\n      <th>Children</th>\n      <th>...</th>\n      <th>release_date</th>\n      <th>revenue</th>\n      <th>runtime</th>\n      <th>spoken_languages</th>\n      <th>status</th>\n      <th>tagline</th>\n      <th>title</th>\n      <th>video</th>\n      <th>vote_average</th>\n      <th>vote_count</th>\n    </tr>\n  </thead>\n  <tbody>\n    <tr>\n      <th>5</th>\n      <td>6</td>\n      <td>Shanghai Triad (Yao a yao yao dao waipo qiao) ...</td>\n      <td>01-Jan-1995</td>\n      <td>NaN</td>\n      <td>http://us.imdb.com/Title?Yao+a+yao+yao+dao+wai...</td>\n      <td>0</td>\n      <td>0</td>\n      <td>0</td>\n      <td>0</td>\n      <td>0</td>\n      <td>...</td>\n      <td>NaN</td>\n      <td>NaN</td>\n      <td>NaN</td>\n      <td>NaN</td>\n      <td>NaN</td>\n      <td>NaN</td>\n      <td>NaN</td>\n      <td>NaN</td>\n      <td>NaN</td>\n      <td>NaN</td>\n    </tr>\n    <tr>\n      <th>43</th>\n      <td>44</td>\n      <td>Dolores Claiborne (1994)</td>\n      <td>01-Jan-1994</td>\n      <td>NaN</td>\n      <td>http://us.imdb.com/M/title-exact?Dolores%20Cla...</td>\n      <td>0</td>\n      <td>0</td>\n      <td>0</td>\n      <td>0</td>\n      <td>0</td>\n      <td>...</td>\n      <td>NaN</td>\n      <td>NaN</td>\n      <td>NaN</td>\n      <td>NaN</td>\n      <td>NaN</td>\n      <td>NaN</td>\n      <td>NaN</td>\n      <td>NaN</td>\n      <td>NaN</td>\n      <td>NaN</td>\n    </tr>\n    <tr>\n      <th>74</th>\n      <td>75</td>\n      <td>Brother Minister: The Assassination of Malcolm...</td>\n      <td>01-Jan-1994</td>\n      <td>NaN</td>\n      <td>http://us.imdb.com/M/title-exact?Brother%20Min...</td>\n      <td>0</td>\n      <td>0</td>\n      <td>0</td>\n      <td>0</td>\n      <td>0</td>\n      <td>...</td>\n      <td>NaN</td>\n      <td>NaN</td>\n      <td>NaN</td>\n      <td>NaN</td>\n      <td>NaN</td>\n      <td>NaN</td>\n      <td>NaN</td>\n      <td>NaN</td>\n      <td>NaN</td>\n      <td>NaN</td>\n    </tr>\n    <tr>\n      <th>162</th>\n      <td>163</td>\n      <td>Return of the Pink Panther, The (1974)</td>\n      <td>01-Jan-1974</td>\n      <td>NaN</td>\n      <td>http://us.imdb.com/M/title-exact?Return%20of%2...</td>\n      <td>0</td>\n      <td>0</td>\n      <td>0</td>\n      <td>0</td>\n      <td>0</td>\n      <td>...</td>\n      <td>NaN</td>\n      <td>NaN</td>\n      <td>NaN</td>\n      <td>NaN</td>\n      <td>NaN</td>\n      <td>NaN</td>\n      <td>NaN</td>\n      <td>NaN</td>\n      <td>NaN</td>\n      <td>NaN</td>\n    </tr>\n    <tr>\n      <th>167</th>\n      <td>168</td>\n      <td>Monty Python and the Holy Grail (1974)</td>\n      <td>01-Jan-1974</td>\n      <td>NaN</td>\n      <td>http://us.imdb.com/M/title-exact?Monty%20Pytho...</td>\n      <td>0</td>\n      <td>0</td>\n      <td>0</td>\n      <td>0</td>\n      <td>0</td>\n      <td>...</td>\n      <td>NaN</td>\n      <td>NaN</td>\n      <td>NaN</td>\n      <td>NaN</td>\n      <td>NaN</td>\n      <td>NaN</td>\n      <td>NaN</td>\n      <td>NaN</td>\n      <td>NaN</td>\n      <td>NaN</td>\n    </tr>\n    <tr>\n      <th>...</th>\n      <td>...</td>\n      <td>...</td>\n      <td>...</td>\n      <td>...</td>\n      <td>...</td>\n      <td>...</td>\n      <td>...</td>\n      <td>...</td>\n      <td>...</td>\n      <td>...</td>\n      <td>...</td>\n      <td>...</td>\n      <td>...</td>\n      <td>...</td>\n      <td>...</td>\n      <td>...</td>\n      <td>...</td>\n      <td>...</td>\n      <td>...</td>\n      <td>...</td>\n      <td>...</td>\n    </tr>\n    <tr>\n      <th>1638</th>\n      <td>1639</td>\n      <td>Bitter Sugar (Azucar Amargo) (1996)</td>\n      <td>22-Nov-1996</td>\n      <td>NaN</td>\n      <td>http://us.imdb.com/M/title-exact?Bitter%20Suga...</td>\n      <td>0</td>\n      <td>0</td>\n      <td>0</td>\n      <td>0</td>\n      <td>0</td>\n      <td>...</td>\n      <td>NaN</td>\n      <td>NaN</td>\n      <td>NaN</td>\n      <td>NaN</td>\n      <td>NaN</td>\n      <td>NaN</td>\n      <td>NaN</td>\n      <td>NaN</td>\n      <td>NaN</td>\n      <td>NaN</td>\n    </tr>\n    <tr>\n      <th>1655</th>\n      <td>1656</td>\n      <td>Little City (1998)</td>\n      <td>20-Feb-1998</td>\n      <td>NaN</td>\n      <td>http://us.imdb.com/M/title-exact?Little+City+(...</td>\n      <td>0</td>\n      <td>0</td>\n      <td>0</td>\n      <td>0</td>\n      <td>0</td>\n      <td>...</td>\n      <td>NaN</td>\n      <td>NaN</td>\n      <td>NaN</td>\n      <td>NaN</td>\n      <td>NaN</td>\n      <td>NaN</td>\n      <td>NaN</td>\n      <td>NaN</td>\n      <td>NaN</td>\n      <td>NaN</td>\n    </tr>\n    <tr>\n      <th>1659</th>\n      <td>1660</td>\n      <td>Small Faces (1995)</td>\n      <td>09-Aug-1996</td>\n      <td>NaN</td>\n      <td>http://us.imdb.com/M/title-exact?Small%20Faces...</td>\n      <td>0</td>\n      <td>0</td>\n      <td>0</td>\n      <td>0</td>\n      <td>0</td>\n      <td>...</td>\n      <td>NaN</td>\n      <td>NaN</td>\n      <td>NaN</td>\n      <td>NaN</td>\n      <td>NaN</td>\n      <td>NaN</td>\n      <td>NaN</td>\n      <td>NaN</td>\n      <td>NaN</td>\n      <td>NaN</td>\n    </tr>\n    <tr>\n      <th>1666</th>\n      <td>1667</td>\n      <td>Next Step, The (1995)</td>\n      <td>13-Jun-1997</td>\n      <td>NaN</td>\n      <td>http://us.imdb.com/M/title-exact?Next%20Step%2...</td>\n      <td>0</td>\n      <td>0</td>\n      <td>0</td>\n      <td>0</td>\n      <td>0</td>\n      <td>...</td>\n      <td>NaN</td>\n      <td>NaN</td>\n      <td>NaN</td>\n      <td>NaN</td>\n      <td>NaN</td>\n      <td>NaN</td>\n      <td>NaN</td>\n      <td>NaN</td>\n      <td>NaN</td>\n      <td>NaN</td>\n    </tr>\n    <tr>\n      <th>1670</th>\n      <td>1671</td>\n      <td>Further Gesture, A (1996)</td>\n      <td>20-Feb-1998</td>\n      <td>NaN</td>\n      <td>http://us.imdb.com/M/title-exact?Further+Gestu...</td>\n      <td>0</td>\n      <td>0</td>\n      <td>0</td>\n      <td>0</td>\n      <td>0</td>\n      <td>...</td>\n      <td>NaN</td>\n      <td>NaN</td>\n      <td>NaN</td>\n      <td>NaN</td>\n      <td>NaN</td>\n      <td>NaN</td>\n      <td>NaN</td>\n      <td>NaN</td>\n      <td>NaN</td>\n      <td>NaN</td>\n    </tr>\n  </tbody>\n</table>\n<p>91 rows × 50 columns</p>\n</div>"
     },
     "execution_count": 53,
     "metadata": {},
     "output_type": "execute_result"
    }
   ],
   "source": [
    "movies_without_overview = item_df[item_df['overview'].isna()]\n",
    "\n",
    "movies_without_overview.head(100)"
   ],
   "metadata": {
    "collapsed": false,
    "ExecuteTime": {
     "end_time": "2024-05-01T17:12:37.523977Z",
     "start_time": "2024-05-01T17:12:37.484219900Z"
    }
   },
   "id": "15794849b58c6613"
  },
  {
   "cell_type": "markdown",
   "source": [
    "## Loading ratings information"
   ],
   "metadata": {
    "collapsed": false
   },
   "id": "60a7eb681f2df1ba"
  },
  {
   "cell_type": "code",
   "execution_count": 4,
   "outputs": [
    {
     "data": {
      "text/plain": "   user_id  movie_id  rating  timestamp\n0        1         1       5  874965758\n1        1         2       3  876893171\n2        1         3       4  878542960\n3        1         4       3  876893119\n4        1         5       3  889751712",
      "text/html": "<div>\n<style scoped>\n    .dataframe tbody tr th:only-of-type {\n        vertical-align: middle;\n    }\n\n    .dataframe tbody tr th {\n        vertical-align: top;\n    }\n\n    .dataframe thead th {\n        text-align: right;\n    }\n</style>\n<table border=\"1\" class=\"dataframe\">\n  <thead>\n    <tr style=\"text-align: right;\">\n      <th></th>\n      <th>user_id</th>\n      <th>movie_id</th>\n      <th>rating</th>\n      <th>timestamp</th>\n    </tr>\n  </thead>\n  <tbody>\n    <tr>\n      <th>0</th>\n      <td>1</td>\n      <td>1</td>\n      <td>5</td>\n      <td>874965758</td>\n    </tr>\n    <tr>\n      <th>1</th>\n      <td>1</td>\n      <td>2</td>\n      <td>3</td>\n      <td>876893171</td>\n    </tr>\n    <tr>\n      <th>2</th>\n      <td>1</td>\n      <td>3</td>\n      <td>4</td>\n      <td>878542960</td>\n    </tr>\n    <tr>\n      <th>3</th>\n      <td>1</td>\n      <td>4</td>\n      <td>3</td>\n      <td>876893119</td>\n    </tr>\n    <tr>\n      <th>4</th>\n      <td>1</td>\n      <td>5</td>\n      <td>3</td>\n      <td>889751712</td>\n    </tr>\n  </tbody>\n</table>\n</div>"
     },
     "execution_count": 4,
     "metadata": {},
     "output_type": "execute_result"
    }
   ],
   "source": [
    "# Load the ratings data\n",
    "rating_df = pd.read_csv(f'{Path}/u1.base', sep='\\t', names=['user_id', 'movie_id', 'rating', 'timestamp'], encoding='latin-1')\n",
    "rating_df.head()"
   ],
   "metadata": {
    "collapsed": false,
    "ExecuteTime": {
     "end_time": "2024-11-18T03:26:00.167198700Z",
     "start_time": "2024-11-18T03:26:00.129887100Z"
    }
   },
   "id": "8f93afe29628b53b"
  },
  {
   "cell_type": "code",
   "execution_count": 5,
   "outputs": [
    {
     "name": "stdout",
     "output_type": "stream",
     "text": [
      "Percentage of training set used: 39.52%\n"
     ]
    }
   ],
   "source": [
    "# Sort by user_id and timestamp descending\n",
    "rating_df.sort_values(by=['user_id', 'timestamp'], ascending=[True, False], inplace=True)\n",
    "\n",
    "# Group by user_id and take the first 60 entries for each user\n",
    "filtered_df = rating_df.groupby('user_id').head(40)\n",
    "\n",
    "# Calculate the percentage of the training set used\n",
    "percentage_used = (len(filtered_df) / len(rating_df)) * 100\n",
    "\n",
    "# Print the result\n",
    "print(f\"Percentage of training set used: {percentage_used:.2f}%\")"
   ],
   "metadata": {
    "collapsed": false,
    "ExecuteTime": {
     "end_time": "2024-11-18T03:26:12.166779300Z",
     "start_time": "2024-11-18T03:26:12.121619400Z"
    }
   },
   "id": "849a77cb5f8602bf"
  },
  {
   "cell_type": "code",
   "execution_count": 42,
   "outputs": [
    {
     "data": {
      "text/plain": "         movie_id  rating  timestamp\nuser_id                             \n1             135     135        135\n2              40      40         40\n3              28      28         28\n4              14      14         14\n5              91      91         91\n...           ...     ...        ...\n939            49      49         49\n940           107     107        107\n941            22      22         22\n942            79      79         79\n943           168     168        168\n\n[943 rows x 3 columns]",
      "text/html": "<div>\n<style scoped>\n    .dataframe tbody tr th:only-of-type {\n        vertical-align: middle;\n    }\n\n    .dataframe tbody tr th {\n        vertical-align: top;\n    }\n\n    .dataframe thead th {\n        text-align: right;\n    }\n</style>\n<table border=\"1\" class=\"dataframe\">\n  <thead>\n    <tr style=\"text-align: right;\">\n      <th></th>\n      <th>movie_id</th>\n      <th>rating</th>\n      <th>timestamp</th>\n    </tr>\n    <tr>\n      <th>user_id</th>\n      <th></th>\n      <th></th>\n      <th></th>\n    </tr>\n  </thead>\n  <tbody>\n    <tr>\n      <th>1</th>\n      <td>135</td>\n      <td>135</td>\n      <td>135</td>\n    </tr>\n    <tr>\n      <th>2</th>\n      <td>40</td>\n      <td>40</td>\n      <td>40</td>\n    </tr>\n    <tr>\n      <th>3</th>\n      <td>28</td>\n      <td>28</td>\n      <td>28</td>\n    </tr>\n    <tr>\n      <th>4</th>\n      <td>14</td>\n      <td>14</td>\n      <td>14</td>\n    </tr>\n    <tr>\n      <th>5</th>\n      <td>91</td>\n      <td>91</td>\n      <td>91</td>\n    </tr>\n    <tr>\n      <th>...</th>\n      <td>...</td>\n      <td>...</td>\n      <td>...</td>\n    </tr>\n    <tr>\n      <th>939</th>\n      <td>49</td>\n      <td>49</td>\n      <td>49</td>\n    </tr>\n    <tr>\n      <th>940</th>\n      <td>107</td>\n      <td>107</td>\n      <td>107</td>\n    </tr>\n    <tr>\n      <th>941</th>\n      <td>22</td>\n      <td>22</td>\n      <td>22</td>\n    </tr>\n    <tr>\n      <th>942</th>\n      <td>79</td>\n      <td>79</td>\n      <td>79</td>\n    </tr>\n    <tr>\n      <th>943</th>\n      <td>168</td>\n      <td>168</td>\n      <td>168</td>\n    </tr>\n  </tbody>\n</table>\n<p>943 rows × 3 columns</p>\n</div>"
     },
     "execution_count": 42,
     "metadata": {},
     "output_type": "execute_result"
    }
   ],
   "source": [
    "rating_df.groupby('user_id').count().sort_index(ascending=True)"
   ],
   "metadata": {
    "collapsed": false,
    "ExecuteTime": {
     "end_time": "2024-05-08T05:40:21.160432Z",
     "start_time": "2024-05-08T05:40:21.143468300Z"
    }
   },
   "id": "9021155bef51e17f"
  },
  {
   "cell_type": "code",
   "execution_count": 46,
   "outputs": [
    {
     "data": {
      "text/plain": "    user_id  movie_id  rating  timestamp\n0         1         1       5  874965758\n1         1         2       3  876893171\n2         1         3       4  878542960\n3         1         4       3  876893119\n4         1         5       3  889751712\n..      ...       ...     ...        ...\n95        1       179       3  875072370\n96        1       181       5  874965739\n97        1       182       4  875072520\n98        1       187       4  874965678\n99        1       191       5  875072956\n\n[100 rows x 4 columns]",
      "text/html": "<div>\n<style scoped>\n    .dataframe tbody tr th:only-of-type {\n        vertical-align: middle;\n    }\n\n    .dataframe tbody tr th {\n        vertical-align: top;\n    }\n\n    .dataframe thead th {\n        text-align: right;\n    }\n</style>\n<table border=\"1\" class=\"dataframe\">\n  <thead>\n    <tr style=\"text-align: right;\">\n      <th></th>\n      <th>user_id</th>\n      <th>movie_id</th>\n      <th>rating</th>\n      <th>timestamp</th>\n    </tr>\n  </thead>\n  <tbody>\n    <tr>\n      <th>0</th>\n      <td>1</td>\n      <td>1</td>\n      <td>5</td>\n      <td>874965758</td>\n    </tr>\n    <tr>\n      <th>1</th>\n      <td>1</td>\n      <td>2</td>\n      <td>3</td>\n      <td>876893171</td>\n    </tr>\n    <tr>\n      <th>2</th>\n      <td>1</td>\n      <td>3</td>\n      <td>4</td>\n      <td>878542960</td>\n    </tr>\n    <tr>\n      <th>3</th>\n      <td>1</td>\n      <td>4</td>\n      <td>3</td>\n      <td>876893119</td>\n    </tr>\n    <tr>\n      <th>4</th>\n      <td>1</td>\n      <td>5</td>\n      <td>3</td>\n      <td>889751712</td>\n    </tr>\n    <tr>\n      <th>...</th>\n      <td>...</td>\n      <td>...</td>\n      <td>...</td>\n      <td>...</td>\n    </tr>\n    <tr>\n      <th>95</th>\n      <td>1</td>\n      <td>179</td>\n      <td>3</td>\n      <td>875072370</td>\n    </tr>\n    <tr>\n      <th>96</th>\n      <td>1</td>\n      <td>181</td>\n      <td>5</td>\n      <td>874965739</td>\n    </tr>\n    <tr>\n      <th>97</th>\n      <td>1</td>\n      <td>182</td>\n      <td>4</td>\n      <td>875072520</td>\n    </tr>\n    <tr>\n      <th>98</th>\n      <td>1</td>\n      <td>187</td>\n      <td>4</td>\n      <td>874965678</td>\n    </tr>\n    <tr>\n      <th>99</th>\n      <td>1</td>\n      <td>191</td>\n      <td>5</td>\n      <td>875072956</td>\n    </tr>\n  </tbody>\n</table>\n<p>100 rows × 4 columns</p>\n</div>"
     },
     "execution_count": 46,
     "metadata": {},
     "output_type": "execute_result"
    }
   ],
   "source": [
    "rating_df[rating_df['user_id'] == 1].head(100)"
   ],
   "metadata": {
    "collapsed": false,
    "ExecuteTime": {
     "end_time": "2024-05-08T05:42:38.634449600Z",
     "start_time": "2024-05-08T05:42:38.601441600Z"
    }
   },
   "id": "ad30b84c4e83a339"
  },
  {
   "cell_type": "code",
   "execution_count": 43,
   "outputs": [
    {
     "data": {
      "text/plain": "   user_id  movie_id  rating  timestamp\n0        1         6       5  887431973\n1        1        10       3  875693118\n2        1        12       5  878542960\n3        1        14       5  874965706\n4        1        17       3  875073198",
      "text/html": "<div>\n<style scoped>\n    .dataframe tbody tr th:only-of-type {\n        vertical-align: middle;\n    }\n\n    .dataframe tbody tr th {\n        vertical-align: top;\n    }\n\n    .dataframe thead th {\n        text-align: right;\n    }\n</style>\n<table border=\"1\" class=\"dataframe\">\n  <thead>\n    <tr style=\"text-align: right;\">\n      <th></th>\n      <th>user_id</th>\n      <th>movie_id</th>\n      <th>rating</th>\n      <th>timestamp</th>\n    </tr>\n  </thead>\n  <tbody>\n    <tr>\n      <th>0</th>\n      <td>1</td>\n      <td>6</td>\n      <td>5</td>\n      <td>887431973</td>\n    </tr>\n    <tr>\n      <th>1</th>\n      <td>1</td>\n      <td>10</td>\n      <td>3</td>\n      <td>875693118</td>\n    </tr>\n    <tr>\n      <th>2</th>\n      <td>1</td>\n      <td>12</td>\n      <td>5</td>\n      <td>878542960</td>\n    </tr>\n    <tr>\n      <th>3</th>\n      <td>1</td>\n      <td>14</td>\n      <td>5</td>\n      <td>874965706</td>\n    </tr>\n    <tr>\n      <th>4</th>\n      <td>1</td>\n      <td>17</td>\n      <td>3</td>\n      <td>875073198</td>\n    </tr>\n  </tbody>\n</table>\n</div>"
     },
     "execution_count": 43,
     "metadata": {},
     "output_type": "execute_result"
    }
   ],
   "source": [
    "rating_test_df = pd.read_csv(f'{Path}/u1.test', sep='\\t', names=['user_id', 'movie_id', 'rating', 'timestamp'], encoding='latin-1')\n",
    "rating_test_df.head()"
   ],
   "metadata": {
    "collapsed": false,
    "ExecuteTime": {
     "end_time": "2024-05-08T05:41:03.231535900Z",
     "start_time": "2024-05-08T05:41:03.210505600Z"
    }
   },
   "id": "dfd429beda82cdc1"
  },
  {
   "cell_type": "code",
   "execution_count": null,
   "outputs": [],
   "source": [],
   "metadata": {
    "collapsed": false
   },
   "id": "b6faa859957a88a1"
  },
  {
   "cell_type": "code",
   "execution_count": 44,
   "outputs": [
    {
     "data": {
      "text/plain": "         movie_id  rating  timestamp\nuser_id                             \n1             137     137        137\n2              22      22         22\n3              26      26         26\n4              10      10         10\n5              84      84         84\n...           ...     ...        ...\n457             8       8          8\n458             3       3          3\n459             1       1          1\n460             1       1          1\n462             1       1          1\n\n[459 rows x 3 columns]",
      "text/html": "<div>\n<style scoped>\n    .dataframe tbody tr th:only-of-type {\n        vertical-align: middle;\n    }\n\n    .dataframe tbody tr th {\n        vertical-align: top;\n    }\n\n    .dataframe thead th {\n        text-align: right;\n    }\n</style>\n<table border=\"1\" class=\"dataframe\">\n  <thead>\n    <tr style=\"text-align: right;\">\n      <th></th>\n      <th>movie_id</th>\n      <th>rating</th>\n      <th>timestamp</th>\n    </tr>\n    <tr>\n      <th>user_id</th>\n      <th></th>\n      <th></th>\n      <th></th>\n    </tr>\n  </thead>\n  <tbody>\n    <tr>\n      <th>1</th>\n      <td>137</td>\n      <td>137</td>\n      <td>137</td>\n    </tr>\n    <tr>\n      <th>2</th>\n      <td>22</td>\n      <td>22</td>\n      <td>22</td>\n    </tr>\n    <tr>\n      <th>3</th>\n      <td>26</td>\n      <td>26</td>\n      <td>26</td>\n    </tr>\n    <tr>\n      <th>4</th>\n      <td>10</td>\n      <td>10</td>\n      <td>10</td>\n    </tr>\n    <tr>\n      <th>5</th>\n      <td>84</td>\n      <td>84</td>\n      <td>84</td>\n    </tr>\n    <tr>\n      <th>...</th>\n      <td>...</td>\n      <td>...</td>\n      <td>...</td>\n    </tr>\n    <tr>\n      <th>457</th>\n      <td>8</td>\n      <td>8</td>\n      <td>8</td>\n    </tr>\n    <tr>\n      <th>458</th>\n      <td>3</td>\n      <td>3</td>\n      <td>3</td>\n    </tr>\n    <tr>\n      <th>459</th>\n      <td>1</td>\n      <td>1</td>\n      <td>1</td>\n    </tr>\n    <tr>\n      <th>460</th>\n      <td>1</td>\n      <td>1</td>\n      <td>1</td>\n    </tr>\n    <tr>\n      <th>462</th>\n      <td>1</td>\n      <td>1</td>\n      <td>1</td>\n    </tr>\n  </tbody>\n</table>\n<p>459 rows × 3 columns</p>\n</div>"
     },
     "execution_count": 44,
     "metadata": {},
     "output_type": "execute_result"
    }
   ],
   "source": [
    "rating_test_df.groupby('user_id').count()"
   ],
   "metadata": {
    "collapsed": false,
    "ExecuteTime": {
     "end_time": "2024-05-08T05:41:09.983986900Z",
     "start_time": "2024-05-08T05:41:09.973813900Z"
    }
   },
   "id": "14afb1ed693861c"
  },
  {
   "cell_type": "code",
   "execution_count": 47,
   "outputs": [
    {
     "name": "stderr",
     "output_type": "stream",
     "text": [
      "C:\\Users\\dania\\AppData\\Local\\Temp\\ipykernel_52524\\2948317273.py:1: UserWarning: Boolean Series key will be reindexed to match DataFrame index.\n",
      "  rating_test_df[rating_df['user_id'] == 1].head(100)\n"
     ]
    },
    {
     "data": {
      "text/plain": "    user_id  movie_id  rating  timestamp\n0         1         6       5  887431973\n1         1        10       3  875693118\n2         1        12       5  878542960\n3         1        14       5  874965706\n4         1        17       3  875073198\n..      ...       ...     ...        ...\n95        1       202       5  875072442\n96        1       206       4  876893205\n97        1       208       5  878542960\n98        1       209       4  888732908\n99        1       210       4  878542909\n\n[100 rows x 4 columns]",
      "text/html": "<div>\n<style scoped>\n    .dataframe tbody tr th:only-of-type {\n        vertical-align: middle;\n    }\n\n    .dataframe tbody tr th {\n        vertical-align: top;\n    }\n\n    .dataframe thead th {\n        text-align: right;\n    }\n</style>\n<table border=\"1\" class=\"dataframe\">\n  <thead>\n    <tr style=\"text-align: right;\">\n      <th></th>\n      <th>user_id</th>\n      <th>movie_id</th>\n      <th>rating</th>\n      <th>timestamp</th>\n    </tr>\n  </thead>\n  <tbody>\n    <tr>\n      <th>0</th>\n      <td>1</td>\n      <td>6</td>\n      <td>5</td>\n      <td>887431973</td>\n    </tr>\n    <tr>\n      <th>1</th>\n      <td>1</td>\n      <td>10</td>\n      <td>3</td>\n      <td>875693118</td>\n    </tr>\n    <tr>\n      <th>2</th>\n      <td>1</td>\n      <td>12</td>\n      <td>5</td>\n      <td>878542960</td>\n    </tr>\n    <tr>\n      <th>3</th>\n      <td>1</td>\n      <td>14</td>\n      <td>5</td>\n      <td>874965706</td>\n    </tr>\n    <tr>\n      <th>4</th>\n      <td>1</td>\n      <td>17</td>\n      <td>3</td>\n      <td>875073198</td>\n    </tr>\n    <tr>\n      <th>...</th>\n      <td>...</td>\n      <td>...</td>\n      <td>...</td>\n      <td>...</td>\n    </tr>\n    <tr>\n      <th>95</th>\n      <td>1</td>\n      <td>202</td>\n      <td>5</td>\n      <td>875072442</td>\n    </tr>\n    <tr>\n      <th>96</th>\n      <td>1</td>\n      <td>206</td>\n      <td>4</td>\n      <td>876893205</td>\n    </tr>\n    <tr>\n      <th>97</th>\n      <td>1</td>\n      <td>208</td>\n      <td>5</td>\n      <td>878542960</td>\n    </tr>\n    <tr>\n      <th>98</th>\n      <td>1</td>\n      <td>209</td>\n      <td>4</td>\n      <td>888732908</td>\n    </tr>\n    <tr>\n      <th>99</th>\n      <td>1</td>\n      <td>210</td>\n      <td>4</td>\n      <td>878542909</td>\n    </tr>\n  </tbody>\n</table>\n<p>100 rows × 4 columns</p>\n</div>"
     },
     "execution_count": 47,
     "metadata": {},
     "output_type": "execute_result"
    }
   ],
   "source": [
    "rating_test_df[rating_df['user_id'] == 1].head(100)"
   ],
   "metadata": {
    "collapsed": false,
    "ExecuteTime": {
     "end_time": "2024-05-08T05:42:58.376363700Z",
     "start_time": "2024-05-08T05:42:58.311286200Z"
    }
   },
   "id": "4d0f3bd8451202de"
  },
  {
   "cell_type": "code",
   "execution_count": 3,
   "outputs": [
    {
     "data": {
      "text/plain": "   user_id  movie_id  rating  timestamp\n0        1         1       5  874965758\n1        1         2       3  876893171\n2        1         3       4  878542960\n3        1         4       3  876893119\n4        1         5       3  889751712",
      "text/html": "<div>\n<style scoped>\n    .dataframe tbody tr th:only-of-type {\n        vertical-align: middle;\n    }\n\n    .dataframe tbody tr th {\n        vertical-align: top;\n    }\n\n    .dataframe thead th {\n        text-align: right;\n    }\n</style>\n<table border=\"1\" class=\"dataframe\">\n  <thead>\n    <tr style=\"text-align: right;\">\n      <th></th>\n      <th>user_id</th>\n      <th>movie_id</th>\n      <th>rating</th>\n      <th>timestamp</th>\n    </tr>\n  </thead>\n  <tbody>\n    <tr>\n      <th>0</th>\n      <td>1</td>\n      <td>1</td>\n      <td>5</td>\n      <td>874965758</td>\n    </tr>\n    <tr>\n      <th>1</th>\n      <td>1</td>\n      <td>2</td>\n      <td>3</td>\n      <td>876893171</td>\n    </tr>\n    <tr>\n      <th>2</th>\n      <td>1</td>\n      <td>3</td>\n      <td>4</td>\n      <td>878542960</td>\n    </tr>\n    <tr>\n      <th>3</th>\n      <td>1</td>\n      <td>4</td>\n      <td>3</td>\n      <td>876893119</td>\n    </tr>\n    <tr>\n      <th>4</th>\n      <td>1</td>\n      <td>5</td>\n      <td>3</td>\n      <td>889751712</td>\n    </tr>\n  </tbody>\n</table>\n</div>"
     },
     "execution_count": 3,
     "metadata": {},
     "output_type": "execute_result"
    }
   ],
   "source": [
    "rating_train_df = pd.read_csv(f'{Path}/u1.base', sep='\\t', names=['user_id', 'movie_id', 'rating', 'timestamp'], encoding='latin-1')\n",
    "rating_train_df.head()"
   ],
   "metadata": {
    "collapsed": false,
    "ExecuteTime": {
     "end_time": "2024-05-17T15:44:19.722055100Z",
     "start_time": "2024-05-17T15:44:19.635649300Z"
    }
   },
   "id": "3a0f0cb797bb0a4e"
  },
  {
   "cell_type": "code",
   "execution_count": 5,
   "outputs": [
    {
     "data": {
      "text/plain": "         movie_id  rating  timestamp\nuser_id                             \n1             135     135        135\n2              40      40         40\n3              28      28         28\n4              14      14         14\n5              91      91         91\n...           ...     ...        ...\n939            49      49         49\n940           107     107        107\n941            22      22         22\n942            79      79         79\n943           168     168        168\n\n[943 rows x 3 columns]",
      "text/html": "<div>\n<style scoped>\n    .dataframe tbody tr th:only-of-type {\n        vertical-align: middle;\n    }\n\n    .dataframe tbody tr th {\n        vertical-align: top;\n    }\n\n    .dataframe thead th {\n        text-align: right;\n    }\n</style>\n<table border=\"1\" class=\"dataframe\">\n  <thead>\n    <tr style=\"text-align: right;\">\n      <th></th>\n      <th>movie_id</th>\n      <th>rating</th>\n      <th>timestamp</th>\n    </tr>\n    <tr>\n      <th>user_id</th>\n      <th></th>\n      <th></th>\n      <th></th>\n    </tr>\n  </thead>\n  <tbody>\n    <tr>\n      <th>1</th>\n      <td>135</td>\n      <td>135</td>\n      <td>135</td>\n    </tr>\n    <tr>\n      <th>2</th>\n      <td>40</td>\n      <td>40</td>\n      <td>40</td>\n    </tr>\n    <tr>\n      <th>3</th>\n      <td>28</td>\n      <td>28</td>\n      <td>28</td>\n    </tr>\n    <tr>\n      <th>4</th>\n      <td>14</td>\n      <td>14</td>\n      <td>14</td>\n    </tr>\n    <tr>\n      <th>5</th>\n      <td>91</td>\n      <td>91</td>\n      <td>91</td>\n    </tr>\n    <tr>\n      <th>...</th>\n      <td>...</td>\n      <td>...</td>\n      <td>...</td>\n    </tr>\n    <tr>\n      <th>939</th>\n      <td>49</td>\n      <td>49</td>\n      <td>49</td>\n    </tr>\n    <tr>\n      <th>940</th>\n      <td>107</td>\n      <td>107</td>\n      <td>107</td>\n    </tr>\n    <tr>\n      <th>941</th>\n      <td>22</td>\n      <td>22</td>\n      <td>22</td>\n    </tr>\n    <tr>\n      <th>942</th>\n      <td>79</td>\n      <td>79</td>\n      <td>79</td>\n    </tr>\n    <tr>\n      <th>943</th>\n      <td>168</td>\n      <td>168</td>\n      <td>168</td>\n    </tr>\n  </tbody>\n</table>\n<p>943 rows × 3 columns</p>\n</div>"
     },
     "execution_count": 5,
     "metadata": {},
     "output_type": "execute_result"
    }
   ],
   "source": [
    "rating_train_df.groupby('user_id').count()"
   ],
   "metadata": {
    "collapsed": false,
    "ExecuteTime": {
     "end_time": "2024-05-17T15:44:43.703979100Z",
     "start_time": "2024-05-17T15:44:43.672979300Z"
    }
   },
   "id": "8e95b80382c618c5"
  },
  {
   "cell_type": "code",
   "execution_count": 7,
   "outputs": [],
   "source": [
    "# Load movies\n",
    "movies_df = pd.read_pickle(\"./Data/movies_enriched_dataset.pkl\")\n",
    "movies_df = movies_df[[\"movie_id\", \"movie_info\"]]"
   ],
   "metadata": {
    "collapsed": false,
    "ExecuteTime": {
     "end_time": "2024-05-18T22:23:37.271720100Z",
     "start_time": "2024-05-18T22:23:37.232776300Z"
    }
   },
   "id": "242199341dc96068"
  },
  {
   "cell_type": "code",
   "execution_count": 8,
   "outputs": [
    {
     "data": {
      "text/plain": "     movie_id                                         movie_info\n0           1  \\n    Movie title: Toy Story (1995) \\n    Genr...\n1           2  \\n    Movie title: GoldenEye (1995) \\n    Genr...\n2           3  \\n    Movie title: Four Rooms (1995) \\n    Gen...\n3           4  \\n    Movie title: Get Shorty (1995) \\n    Gen...\n4           5  \\n    Movie title: Copycat (1995) \\n    Genre:...\n..        ...                                                ...\n304       305  \\n    Movie title: Ice Storm, The (1997) \\n   ...\n305       306  \\n    Movie title: Mrs. Brown (Her Majesty, Mr...\n306       307  \\n    Movie title: Devil's Advocate, The (1997...\n307       308  \\n    Movie title: FairyTale: A True Story (19...\n308       309  \\n    Movie title: Deceiver (1997) \\n    Genre...\n\n[300 rows x 2 columns]",
      "text/html": "<div>\n<style scoped>\n    .dataframe tbody tr th:only-of-type {\n        vertical-align: middle;\n    }\n\n    .dataframe tbody tr th {\n        vertical-align: top;\n    }\n\n    .dataframe thead th {\n        text-align: right;\n    }\n</style>\n<table border=\"1\" class=\"dataframe\">\n  <thead>\n    <tr style=\"text-align: right;\">\n      <th></th>\n      <th>movie_id</th>\n      <th>movie_info</th>\n    </tr>\n  </thead>\n  <tbody>\n    <tr>\n      <th>0</th>\n      <td>1</td>\n      <td>\\n    Movie title: Toy Story (1995) \\n    Genr...</td>\n    </tr>\n    <tr>\n      <th>1</th>\n      <td>2</td>\n      <td>\\n    Movie title: GoldenEye (1995) \\n    Genr...</td>\n    </tr>\n    <tr>\n      <th>2</th>\n      <td>3</td>\n      <td>\\n    Movie title: Four Rooms (1995) \\n    Gen...</td>\n    </tr>\n    <tr>\n      <th>3</th>\n      <td>4</td>\n      <td>\\n    Movie title: Get Shorty (1995) \\n    Gen...</td>\n    </tr>\n    <tr>\n      <th>4</th>\n      <td>5</td>\n      <td>\\n    Movie title: Copycat (1995) \\n    Genre:...</td>\n    </tr>\n    <tr>\n      <th>...</th>\n      <td>...</td>\n      <td>...</td>\n    </tr>\n    <tr>\n      <th>304</th>\n      <td>305</td>\n      <td>\\n    Movie title: Ice Storm, The (1997) \\n   ...</td>\n    </tr>\n    <tr>\n      <th>305</th>\n      <td>306</td>\n      <td>\\n    Movie title: Mrs. Brown (Her Majesty, Mr...</td>\n    </tr>\n    <tr>\n      <th>306</th>\n      <td>307</td>\n      <td>\\n    Movie title: Devil's Advocate, The (1997...</td>\n    </tr>\n    <tr>\n      <th>307</th>\n      <td>308</td>\n      <td>\\n    Movie title: FairyTale: A True Story (19...</td>\n    </tr>\n    <tr>\n      <th>308</th>\n      <td>309</td>\n      <td>\\n    Movie title: Deceiver (1997) \\n    Genre...</td>\n    </tr>\n  </tbody>\n</table>\n<p>300 rows × 2 columns</p>\n</div>"
     },
     "execution_count": 8,
     "metadata": {},
     "output_type": "execute_result"
    }
   ],
   "source": [
    "movies_df.head(300)"
   ],
   "metadata": {
    "collapsed": false,
    "ExecuteTime": {
     "end_time": "2024-05-18T22:23:46.170873700Z",
     "start_time": "2024-05-18T22:23:46.134347800Z"
    }
   },
   "id": "e9d376612cde19d1"
  },
  {
   "cell_type": "code",
   "execution_count": 12,
   "outputs": [
    {
     "name": "stdout",
     "output_type": "stream",
     "text": [
      "1591\n"
     ]
    }
   ],
   "source": [
    "print(len(movies_df))"
   ],
   "metadata": {
    "collapsed": false,
    "ExecuteTime": {
     "end_time": "2024-05-18T22:29:34.325362400Z",
     "start_time": "2024-05-18T22:29:34.286830700Z"
    }
   },
   "id": "c053aa952ede7ec"
  },
  {
   "cell_type": "code",
   "execution_count": 16,
   "outputs": [
    {
     "data": {
      "text/plain": "     user_id  movie_id  rating  timestamp simulated_ratings\n137        2        13       4  888551922                 4\n138        2        19       3  888550871                 5\n139        2        50       5  888552084                 4\n140        2       251       5  888552084                 4\n141        2       257       4  888551062                 4\n144        2       281       3  888980240                 3\n145        2       290       3  888551441                 3\n146        2       292       4  888550774                 4\n147        2       297       4  888550871                 5\n148        2       298       3  888551441                 4\n149        2       299       4  888550774                 4\n150        2       301       4  888550631                 3\n151        2       303       4  888550774                 4\n152        2       307       3  888550066                 4\n153        2       308       3  888979945                 3\n154        2       312       3  888550631                 4\n155        2       313       5  888552084                 5\n156        2       314       1  888980085                 3\n157        2       315       1  888550774                 4\n158        2       316       5  888979693                 4\n159        3       245       1  889237247                 3\n160        3       264       2  889237297                 2\n161        3       272       2  889237055                 4\n162        3       294       2  889237224                 4\n163        3       299       3  889237199                 4\n164        3       300       2  889236939                 2\n165        3       307       3  889237224                 3\n166        3       318       4  889237482                 5\n167        3       323       2  889237269                 2\n168        3       324       2  889237247                 3\n169        3       327       4  889237455                 4\n170        3       328       5  889237455                 3\n171        3       330       2  889237297                 4\n172        3       331       4  889237455                 4\n173        3       332       1  889237224                 4\n174        3       334       3  889237122                 3\n175        3       335       1  889237269                 2\n176        3       337       1  889236983                 3\n177        3       341       1  889237055                 2\n178        3       343       3  889237122                 2\n179        3       345       3  889237004                 4\n180        3       348       4  889237455                 5\n181        3       349       3  889237269                 2\n182        3       350       3  889237076                 2\n183        3       351       3  889237315                 2\n184        3       354       3  889237004                 4\n185        4        50       5  892003526                 4\n186        4       260       4  892004275                 4\n187        4       264       3  892004275                 4\n188        4       288       4  892001445                 4\n189        4       294       5  892004409                 3\n190        4       303       5  892002352                 4\n191        4       354       5  892002353                 3\n192        4       356       3  892003459                 4\n193        4       357       4  892003525                 4\n194        4       361       5  892002353                 4",
      "text/html": "<div>\n<style scoped>\n    .dataframe tbody tr th:only-of-type {\n        vertical-align: middle;\n    }\n\n    .dataframe tbody tr th {\n        vertical-align: top;\n    }\n\n    .dataframe thead th {\n        text-align: right;\n    }\n</style>\n<table border=\"1\" class=\"dataframe\">\n  <thead>\n    <tr style=\"text-align: right;\">\n      <th></th>\n      <th>user_id</th>\n      <th>movie_id</th>\n      <th>rating</th>\n      <th>timestamp</th>\n      <th>simulated_ratings</th>\n    </tr>\n  </thead>\n  <tbody>\n    <tr>\n      <th>137</th>\n      <td>2</td>\n      <td>13</td>\n      <td>4</td>\n      <td>888551922</td>\n      <td>4</td>\n    </tr>\n    <tr>\n      <th>138</th>\n      <td>2</td>\n      <td>19</td>\n      <td>3</td>\n      <td>888550871</td>\n      <td>5</td>\n    </tr>\n    <tr>\n      <th>139</th>\n      <td>2</td>\n      <td>50</td>\n      <td>5</td>\n      <td>888552084</td>\n      <td>4</td>\n    </tr>\n    <tr>\n      <th>140</th>\n      <td>2</td>\n      <td>251</td>\n      <td>5</td>\n      <td>888552084</td>\n      <td>4</td>\n    </tr>\n    <tr>\n      <th>141</th>\n      <td>2</td>\n      <td>257</td>\n      <td>4</td>\n      <td>888551062</td>\n      <td>4</td>\n    </tr>\n    <tr>\n      <th>144</th>\n      <td>2</td>\n      <td>281</td>\n      <td>3</td>\n      <td>888980240</td>\n      <td>3</td>\n    </tr>\n    <tr>\n      <th>145</th>\n      <td>2</td>\n      <td>290</td>\n      <td>3</td>\n      <td>888551441</td>\n      <td>3</td>\n    </tr>\n    <tr>\n      <th>146</th>\n      <td>2</td>\n      <td>292</td>\n      <td>4</td>\n      <td>888550774</td>\n      <td>4</td>\n    </tr>\n    <tr>\n      <th>147</th>\n      <td>2</td>\n      <td>297</td>\n      <td>4</td>\n      <td>888550871</td>\n      <td>5</td>\n    </tr>\n    <tr>\n      <th>148</th>\n      <td>2</td>\n      <td>298</td>\n      <td>3</td>\n      <td>888551441</td>\n      <td>4</td>\n    </tr>\n    <tr>\n      <th>149</th>\n      <td>2</td>\n      <td>299</td>\n      <td>4</td>\n      <td>888550774</td>\n      <td>4</td>\n    </tr>\n    <tr>\n      <th>150</th>\n      <td>2</td>\n      <td>301</td>\n      <td>4</td>\n      <td>888550631</td>\n      <td>3</td>\n    </tr>\n    <tr>\n      <th>151</th>\n      <td>2</td>\n      <td>303</td>\n      <td>4</td>\n      <td>888550774</td>\n      <td>4</td>\n    </tr>\n    <tr>\n      <th>152</th>\n      <td>2</td>\n      <td>307</td>\n      <td>3</td>\n      <td>888550066</td>\n      <td>4</td>\n    </tr>\n    <tr>\n      <th>153</th>\n      <td>2</td>\n      <td>308</td>\n      <td>3</td>\n      <td>888979945</td>\n      <td>3</td>\n    </tr>\n    <tr>\n      <th>154</th>\n      <td>2</td>\n      <td>312</td>\n      <td>3</td>\n      <td>888550631</td>\n      <td>4</td>\n    </tr>\n    <tr>\n      <th>155</th>\n      <td>2</td>\n      <td>313</td>\n      <td>5</td>\n      <td>888552084</td>\n      <td>5</td>\n    </tr>\n    <tr>\n      <th>156</th>\n      <td>2</td>\n      <td>314</td>\n      <td>1</td>\n      <td>888980085</td>\n      <td>3</td>\n    </tr>\n    <tr>\n      <th>157</th>\n      <td>2</td>\n      <td>315</td>\n      <td>1</td>\n      <td>888550774</td>\n      <td>4</td>\n    </tr>\n    <tr>\n      <th>158</th>\n      <td>2</td>\n      <td>316</td>\n      <td>5</td>\n      <td>888979693</td>\n      <td>4</td>\n    </tr>\n    <tr>\n      <th>159</th>\n      <td>3</td>\n      <td>245</td>\n      <td>1</td>\n      <td>889237247</td>\n      <td>3</td>\n    </tr>\n    <tr>\n      <th>160</th>\n      <td>3</td>\n      <td>264</td>\n      <td>2</td>\n      <td>889237297</td>\n      <td>2</td>\n    </tr>\n    <tr>\n      <th>161</th>\n      <td>3</td>\n      <td>272</td>\n      <td>2</td>\n      <td>889237055</td>\n      <td>4</td>\n    </tr>\n    <tr>\n      <th>162</th>\n      <td>3</td>\n      <td>294</td>\n      <td>2</td>\n      <td>889237224</td>\n      <td>4</td>\n    </tr>\n    <tr>\n      <th>163</th>\n      <td>3</td>\n      <td>299</td>\n      <td>3</td>\n      <td>889237199</td>\n      <td>4</td>\n    </tr>\n    <tr>\n      <th>164</th>\n      <td>3</td>\n      <td>300</td>\n      <td>2</td>\n      <td>889236939</td>\n      <td>2</td>\n    </tr>\n    <tr>\n      <th>165</th>\n      <td>3</td>\n      <td>307</td>\n      <td>3</td>\n      <td>889237224</td>\n      <td>3</td>\n    </tr>\n    <tr>\n      <th>166</th>\n      <td>3</td>\n      <td>318</td>\n      <td>4</td>\n      <td>889237482</td>\n      <td>5</td>\n    </tr>\n    <tr>\n      <th>167</th>\n      <td>3</td>\n      <td>323</td>\n      <td>2</td>\n      <td>889237269</td>\n      <td>2</td>\n    </tr>\n    <tr>\n      <th>168</th>\n      <td>3</td>\n      <td>324</td>\n      <td>2</td>\n      <td>889237247</td>\n      <td>3</td>\n    </tr>\n    <tr>\n      <th>169</th>\n      <td>3</td>\n      <td>327</td>\n      <td>4</td>\n      <td>889237455</td>\n      <td>4</td>\n    </tr>\n    <tr>\n      <th>170</th>\n      <td>3</td>\n      <td>328</td>\n      <td>5</td>\n      <td>889237455</td>\n      <td>3</td>\n    </tr>\n    <tr>\n      <th>171</th>\n      <td>3</td>\n      <td>330</td>\n      <td>2</td>\n      <td>889237297</td>\n      <td>4</td>\n    </tr>\n    <tr>\n      <th>172</th>\n      <td>3</td>\n      <td>331</td>\n      <td>4</td>\n      <td>889237455</td>\n      <td>4</td>\n    </tr>\n    <tr>\n      <th>173</th>\n      <td>3</td>\n      <td>332</td>\n      <td>1</td>\n      <td>889237224</td>\n      <td>4</td>\n    </tr>\n    <tr>\n      <th>174</th>\n      <td>3</td>\n      <td>334</td>\n      <td>3</td>\n      <td>889237122</td>\n      <td>3</td>\n    </tr>\n    <tr>\n      <th>175</th>\n      <td>3</td>\n      <td>335</td>\n      <td>1</td>\n      <td>889237269</td>\n      <td>2</td>\n    </tr>\n    <tr>\n      <th>176</th>\n      <td>3</td>\n      <td>337</td>\n      <td>1</td>\n      <td>889236983</td>\n      <td>3</td>\n    </tr>\n    <tr>\n      <th>177</th>\n      <td>3</td>\n      <td>341</td>\n      <td>1</td>\n      <td>889237055</td>\n      <td>2</td>\n    </tr>\n    <tr>\n      <th>178</th>\n      <td>3</td>\n      <td>343</td>\n      <td>3</td>\n      <td>889237122</td>\n      <td>2</td>\n    </tr>\n    <tr>\n      <th>179</th>\n      <td>3</td>\n      <td>345</td>\n      <td>3</td>\n      <td>889237004</td>\n      <td>4</td>\n    </tr>\n    <tr>\n      <th>180</th>\n      <td>3</td>\n      <td>348</td>\n      <td>4</td>\n      <td>889237455</td>\n      <td>5</td>\n    </tr>\n    <tr>\n      <th>181</th>\n      <td>3</td>\n      <td>349</td>\n      <td>3</td>\n      <td>889237269</td>\n      <td>2</td>\n    </tr>\n    <tr>\n      <th>182</th>\n      <td>3</td>\n      <td>350</td>\n      <td>3</td>\n      <td>889237076</td>\n      <td>2</td>\n    </tr>\n    <tr>\n      <th>183</th>\n      <td>3</td>\n      <td>351</td>\n      <td>3</td>\n      <td>889237315</td>\n      <td>2</td>\n    </tr>\n    <tr>\n      <th>184</th>\n      <td>3</td>\n      <td>354</td>\n      <td>3</td>\n      <td>889237004</td>\n      <td>4</td>\n    </tr>\n    <tr>\n      <th>185</th>\n      <td>4</td>\n      <td>50</td>\n      <td>5</td>\n      <td>892003526</td>\n      <td>4</td>\n    </tr>\n    <tr>\n      <th>186</th>\n      <td>4</td>\n      <td>260</td>\n      <td>4</td>\n      <td>892004275</td>\n      <td>4</td>\n    </tr>\n    <tr>\n      <th>187</th>\n      <td>4</td>\n      <td>264</td>\n      <td>3</td>\n      <td>892004275</td>\n      <td>4</td>\n    </tr>\n    <tr>\n      <th>188</th>\n      <td>4</td>\n      <td>288</td>\n      <td>4</td>\n      <td>892001445</td>\n      <td>4</td>\n    </tr>\n    <tr>\n      <th>189</th>\n      <td>4</td>\n      <td>294</td>\n      <td>5</td>\n      <td>892004409</td>\n      <td>3</td>\n    </tr>\n    <tr>\n      <th>190</th>\n      <td>4</td>\n      <td>303</td>\n      <td>5</td>\n      <td>892002352</td>\n      <td>4</td>\n    </tr>\n    <tr>\n      <th>191</th>\n      <td>4</td>\n      <td>354</td>\n      <td>5</td>\n      <td>892002353</td>\n      <td>3</td>\n    </tr>\n    <tr>\n      <th>192</th>\n      <td>4</td>\n      <td>356</td>\n      <td>3</td>\n      <td>892003459</td>\n      <td>4</td>\n    </tr>\n    <tr>\n      <th>193</th>\n      <td>4</td>\n      <td>357</td>\n      <td>4</td>\n      <td>892003525</td>\n      <td>4</td>\n    </tr>\n    <tr>\n      <th>194</th>\n      <td>4</td>\n      <td>361</td>\n      <td>5</td>\n      <td>892002353</td>\n      <td>4</td>\n    </tr>\n  </tbody>\n</table>\n</div>"
     },
     "execution_count": 16,
     "metadata": {},
     "output_type": "execute_result"
    }
   ],
   "source": [
    "processed_ratings_file = \"./Data/rating_test_df.pkl\"\n",
    "rating_test_df = pd.read_pickle(processed_ratings_file)\n",
    "\n",
    "cleaned_df = rating_test_df.dropna(subset=['simulated_ratings'])\n",
    "cleaned_df.head(100)"
   ],
   "metadata": {
    "collapsed": false,
    "ExecuteTime": {
     "end_time": "2024-05-18T22:50:12.577456900Z",
     "start_time": "2024-05-18T22:50:12.551402400Z"
    }
   },
   "id": "78d9b5fc971c323d"
  },
  {
   "cell_type": "code",
   "execution_count": 7,
   "outputs": [],
   "source": [
    "movies_df = pd.read_pickle(\"./Data/movies_enriched_dataset.pkl\")\n",
    "movies_df = movies_df[[\"movie_id\", \"movie_info\"]]"
   ],
   "metadata": {
    "collapsed": false,
    "ExecuteTime": {
     "end_time": "2024-05-20T19:36:08.857178400Z",
     "start_time": "2024-05-20T19:36:08.720645200Z"
    }
   },
   "id": "5449a2ab99679b18"
  },
  {
   "cell_type": "code",
   "execution_count": 8,
   "outputs": [
    {
     "data": {
      "text/plain": "   movie_id                                         movie_info\n0         1  \\n    Movie title: Toy Story (1995) \\n    Genr...\n1         2  \\n    Movie title: GoldenEye (1995) \\n    Genr...\n2         3  \\n    Movie title: Four Rooms (1995) \\n    Gen...\n3         4  \\n    Movie title: Get Shorty (1995) \\n    Gen...\n4         5  \\n    Movie title: Copycat (1995) \\n    Genre:...",
      "text/html": "<div>\n<style scoped>\n    .dataframe tbody tr th:only-of-type {\n        vertical-align: middle;\n    }\n\n    .dataframe tbody tr th {\n        vertical-align: top;\n    }\n\n    .dataframe thead th {\n        text-align: right;\n    }\n</style>\n<table border=\"1\" class=\"dataframe\">\n  <thead>\n    <tr style=\"text-align: right;\">\n      <th></th>\n      <th>movie_id</th>\n      <th>movie_info</th>\n    </tr>\n  </thead>\n  <tbody>\n    <tr>\n      <th>0</th>\n      <td>1</td>\n      <td>\\n    Movie title: Toy Story (1995) \\n    Genr...</td>\n    </tr>\n    <tr>\n      <th>1</th>\n      <td>2</td>\n      <td>\\n    Movie title: GoldenEye (1995) \\n    Genr...</td>\n    </tr>\n    <tr>\n      <th>2</th>\n      <td>3</td>\n      <td>\\n    Movie title: Four Rooms (1995) \\n    Gen...</td>\n    </tr>\n    <tr>\n      <th>3</th>\n      <td>4</td>\n      <td>\\n    Movie title: Get Shorty (1995) \\n    Gen...</td>\n    </tr>\n    <tr>\n      <th>4</th>\n      <td>5</td>\n      <td>\\n    Movie title: Copycat (1995) \\n    Genre:...</td>\n    </tr>\n  </tbody>\n</table>\n</div>"
     },
     "execution_count": 8,
     "metadata": {},
     "output_type": "execute_result"
    }
   ],
   "source": [
    "movies_df.head()"
   ],
   "metadata": {
    "collapsed": false,
    "ExecuteTime": {
     "end_time": "2024-05-20T19:36:15.541618400Z",
     "start_time": "2024-05-20T19:36:15.479116700Z"
    }
   },
   "id": "b30a8acd012e9baa"
  }
 ],
 "metadata": {
  "kernelspec": {
   "display_name": "Python 3",
   "language": "python",
   "name": "python3"
  },
  "language_info": {
   "codemirror_mode": {
    "name": "ipython",
    "version": 2
   },
   "file_extension": ".py",
   "mimetype": "text/x-python",
   "name": "python",
   "nbconvert_exporter": "python",
   "pygments_lexer": "ipython2",
   "version": "2.7.6"
  }
 },
 "nbformat": 4,
 "nbformat_minor": 5
}
