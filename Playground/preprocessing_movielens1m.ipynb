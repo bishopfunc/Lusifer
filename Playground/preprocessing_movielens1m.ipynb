{
 "cells": [
  {
   "cell_type": "markdown",
   "source": [
    "## Loading Dependencies"
   ],
   "metadata": {
    "collapsed": false
   },
   "id": "b61a58d8640486e4"
  },
  {
   "cell_type": "code",
   "execution_count": 3,
   "outputs": [],
   "source": [
    "import pandas as pd\n"
   ],
   "metadata": {
    "collapsed": false,
    "ExecuteTime": {
     "end_time": "2024-11-18T03:24:08.759796700Z",
     "start_time": "2024-11-18T03:24:08.744644500Z"
    }
   },
   "id": "initial_id"
  },
  {
   "cell_type": "code",
   "execution_count": 4,
   "outputs": [],
   "source": [
    "# path to the folder containing movielens data\n",
    "Path = \"D:\\OneDrive - University of Windsor\\Danial Ebrat _ PhD projects\\Comprehensive Exam\\Recommender-Research-Baseline (1)\\Movielens1m\\ml-1m\""
   ],
   "metadata": {
    "collapsed": false,
    "ExecuteTime": {
     "end_time": "2024-11-18T03:24:09.890300700Z",
     "start_time": "2024-11-18T03:24:09.883280700Z"
    }
   },
   "id": "58c8a4a0002732c5"
  },
  {
   "cell_type": "markdown",
   "source": [
    "## Loading users information and creating user_info column"
   ],
   "metadata": {
    "collapsed": false
   },
   "id": "d3f92c16670d3513"
  },
  {
   "cell_type": "code",
   "execution_count": 5,
   "outputs": [
    {
     "name": "stderr",
     "output_type": "stream",
     "text": [
      "C:\\Users\\dania\\AppData\\Local\\Temp\\ipykernel_4076\\3895213713.py:2: ParserWarning: Falling back to the 'python' engine because the 'c' engine does not support regex separators (separators > 1 char and different from '\\s+' are interpreted as regex); you can avoid this warning by specifying engine='python'.\n",
      "  user_df = pd.read_csv(f'{Path}/users.dat',\n"
     ]
    },
    {
     "ename": "FileNotFoundError",
     "evalue": "[Errno 2] No such file or directory: 'D:\\\\OneDrive - University of Windsor\\\\Danial Ebrat _ PhD projects\\\\Comprehensive Exam\\\\Recommender-Research-Baseline (1)\\\\Movielens100K\\\\ml-100k/users.dat'",
     "output_type": "error",
     "traceback": [
      "\u001B[1;31m---------------------------------------------------------------------------\u001B[0m",
      "\u001B[1;31mFileNotFoundError\u001B[0m                         Traceback (most recent call last)",
      "Cell \u001B[1;32mIn[5], line 2\u001B[0m\n\u001B[0;32m      1\u001B[0m \u001B[38;5;66;03m# Loading the user data\u001B[39;00m\n\u001B[1;32m----> 2\u001B[0m user_df \u001B[38;5;241m=\u001B[39m \u001B[43mpd\u001B[49m\u001B[38;5;241;43m.\u001B[39;49m\u001B[43mread_csv\u001B[49m\u001B[43m(\u001B[49m\u001B[38;5;124;43mf\u001B[39;49m\u001B[38;5;124;43m'\u001B[39;49m\u001B[38;5;132;43;01m{\u001B[39;49;00m\u001B[43mPath\u001B[49m\u001B[38;5;132;43;01m}\u001B[39;49;00m\u001B[38;5;124;43m/users.dat\u001B[39;49m\u001B[38;5;124;43m'\u001B[39;49m\u001B[43m,\u001B[49m\u001B[43m \u001B[49m\n\u001B[0;32m      3\u001B[0m \u001B[43m                      \u001B[49m\u001B[43msep\u001B[49m\u001B[38;5;241;43m=\u001B[39;49m\u001B[38;5;124;43m'\u001B[39;49m\u001B[38;5;124;43m::\u001B[39;49m\u001B[38;5;124;43m'\u001B[39;49m\u001B[43m,\u001B[49m\u001B[43m \u001B[49m\n\u001B[0;32m      4\u001B[0m \u001B[43m                      \u001B[49m\u001B[43mnames\u001B[49m\u001B[38;5;241;43m=\u001B[39;49m\u001B[43m[\u001B[49m\u001B[38;5;124;43m\"\u001B[39;49m\u001B[38;5;124;43muser_id\u001B[39;49m\u001B[38;5;124;43m\"\u001B[39;49m\u001B[43m,\u001B[49m\u001B[43m \u001B[49m\u001B[38;5;124;43m\"\u001B[39;49m\u001B[38;5;124;43mgender\u001B[39;49m\u001B[38;5;124;43m\"\u001B[39;49m\u001B[43m,\u001B[49m\u001B[43m \u001B[49m\u001B[38;5;124;43m\"\u001B[39;49m\u001B[38;5;124;43mage\u001B[39;49m\u001B[38;5;124;43m\"\u001B[39;49m\u001B[43m,\u001B[49m\u001B[43m \u001B[49m\u001B[38;5;124;43m\"\u001B[39;49m\u001B[38;5;124;43moccupation\u001B[39;49m\u001B[38;5;124;43m\"\u001B[39;49m\u001B[43m,\u001B[49m\u001B[43m \u001B[49m\u001B[38;5;124;43m\"\u001B[39;49m\u001B[38;5;124;43mzip_code\u001B[39;49m\u001B[38;5;124;43m\"\u001B[39;49m\u001B[43m]\u001B[49m\u001B[43m,\u001B[49m\u001B[43m \u001B[49m\n\u001B[0;32m      5\u001B[0m \u001B[43m                      \u001B[49m\u001B[43mencoding\u001B[49m\u001B[38;5;241;43m=\u001B[39;49m\u001B[38;5;124;43m'\u001B[39;49m\u001B[38;5;124;43mlatin-1\u001B[39;49m\u001B[38;5;124;43m'\u001B[39;49m\u001B[43m)\u001B[49m\n\u001B[0;32m      7\u001B[0m user_df\u001B[38;5;241m.\u001B[39mhead(\u001B[38;5;241m100\u001B[39m)\n",
      "File \u001B[1;32m~\\PycharmProjects\\Lusifer\\venv\\lib\\site-packages\\pandas\\io\\parsers\\readers.py:1026\u001B[0m, in \u001B[0;36mread_csv\u001B[1;34m(filepath_or_buffer, sep, delimiter, header, names, index_col, usecols, dtype, engine, converters, true_values, false_values, skipinitialspace, skiprows, skipfooter, nrows, na_values, keep_default_na, na_filter, verbose, skip_blank_lines, parse_dates, infer_datetime_format, keep_date_col, date_parser, date_format, dayfirst, cache_dates, iterator, chunksize, compression, thousands, decimal, lineterminator, quotechar, quoting, doublequote, escapechar, comment, encoding, encoding_errors, dialect, on_bad_lines, delim_whitespace, low_memory, memory_map, float_precision, storage_options, dtype_backend)\u001B[0m\n\u001B[0;32m   1013\u001B[0m kwds_defaults \u001B[38;5;241m=\u001B[39m _refine_defaults_read(\n\u001B[0;32m   1014\u001B[0m     dialect,\n\u001B[0;32m   1015\u001B[0m     delimiter,\n\u001B[1;32m   (...)\u001B[0m\n\u001B[0;32m   1022\u001B[0m     dtype_backend\u001B[38;5;241m=\u001B[39mdtype_backend,\n\u001B[0;32m   1023\u001B[0m )\n\u001B[0;32m   1024\u001B[0m kwds\u001B[38;5;241m.\u001B[39mupdate(kwds_defaults)\n\u001B[1;32m-> 1026\u001B[0m \u001B[38;5;28;01mreturn\u001B[39;00m \u001B[43m_read\u001B[49m\u001B[43m(\u001B[49m\u001B[43mfilepath_or_buffer\u001B[49m\u001B[43m,\u001B[49m\u001B[43m \u001B[49m\u001B[43mkwds\u001B[49m\u001B[43m)\u001B[49m\n",
      "File \u001B[1;32m~\\PycharmProjects\\Lusifer\\venv\\lib\\site-packages\\pandas\\io\\parsers\\readers.py:620\u001B[0m, in \u001B[0;36m_read\u001B[1;34m(filepath_or_buffer, kwds)\u001B[0m\n\u001B[0;32m    617\u001B[0m _validate_names(kwds\u001B[38;5;241m.\u001B[39mget(\u001B[38;5;124m\"\u001B[39m\u001B[38;5;124mnames\u001B[39m\u001B[38;5;124m\"\u001B[39m, \u001B[38;5;28;01mNone\u001B[39;00m))\n\u001B[0;32m    619\u001B[0m \u001B[38;5;66;03m# Create the parser.\u001B[39;00m\n\u001B[1;32m--> 620\u001B[0m parser \u001B[38;5;241m=\u001B[39m TextFileReader(filepath_or_buffer, \u001B[38;5;241m*\u001B[39m\u001B[38;5;241m*\u001B[39mkwds)\n\u001B[0;32m    622\u001B[0m \u001B[38;5;28;01mif\u001B[39;00m chunksize \u001B[38;5;129;01mor\u001B[39;00m iterator:\n\u001B[0;32m    623\u001B[0m     \u001B[38;5;28;01mreturn\u001B[39;00m parser\n",
      "File \u001B[1;32m~\\PycharmProjects\\Lusifer\\venv\\lib\\site-packages\\pandas\\io\\parsers\\readers.py:1620\u001B[0m, in \u001B[0;36mTextFileReader.__init__\u001B[1;34m(self, f, engine, **kwds)\u001B[0m\n\u001B[0;32m   1617\u001B[0m     \u001B[38;5;28mself\u001B[39m\u001B[38;5;241m.\u001B[39moptions[\u001B[38;5;124m\"\u001B[39m\u001B[38;5;124mhas_index_names\u001B[39m\u001B[38;5;124m\"\u001B[39m] \u001B[38;5;241m=\u001B[39m kwds[\u001B[38;5;124m\"\u001B[39m\u001B[38;5;124mhas_index_names\u001B[39m\u001B[38;5;124m\"\u001B[39m]\n\u001B[0;32m   1619\u001B[0m \u001B[38;5;28mself\u001B[39m\u001B[38;5;241m.\u001B[39mhandles: IOHandles \u001B[38;5;241m|\u001B[39m \u001B[38;5;28;01mNone\u001B[39;00m \u001B[38;5;241m=\u001B[39m \u001B[38;5;28;01mNone\u001B[39;00m\n\u001B[1;32m-> 1620\u001B[0m \u001B[38;5;28mself\u001B[39m\u001B[38;5;241m.\u001B[39m_engine \u001B[38;5;241m=\u001B[39m \u001B[38;5;28;43mself\u001B[39;49m\u001B[38;5;241;43m.\u001B[39;49m\u001B[43m_make_engine\u001B[49m\u001B[43m(\u001B[49m\u001B[43mf\u001B[49m\u001B[43m,\u001B[49m\u001B[43m \u001B[49m\u001B[38;5;28;43mself\u001B[39;49m\u001B[38;5;241;43m.\u001B[39;49m\u001B[43mengine\u001B[49m\u001B[43m)\u001B[49m\n",
      "File \u001B[1;32m~\\PycharmProjects\\Lusifer\\venv\\lib\\site-packages\\pandas\\io\\parsers\\readers.py:1880\u001B[0m, in \u001B[0;36mTextFileReader._make_engine\u001B[1;34m(self, f, engine)\u001B[0m\n\u001B[0;32m   1878\u001B[0m     \u001B[38;5;28;01mif\u001B[39;00m \u001B[38;5;124m\"\u001B[39m\u001B[38;5;124mb\u001B[39m\u001B[38;5;124m\"\u001B[39m \u001B[38;5;129;01mnot\u001B[39;00m \u001B[38;5;129;01min\u001B[39;00m mode:\n\u001B[0;32m   1879\u001B[0m         mode \u001B[38;5;241m+\u001B[39m\u001B[38;5;241m=\u001B[39m \u001B[38;5;124m\"\u001B[39m\u001B[38;5;124mb\u001B[39m\u001B[38;5;124m\"\u001B[39m\n\u001B[1;32m-> 1880\u001B[0m \u001B[38;5;28mself\u001B[39m\u001B[38;5;241m.\u001B[39mhandles \u001B[38;5;241m=\u001B[39m \u001B[43mget_handle\u001B[49m\u001B[43m(\u001B[49m\n\u001B[0;32m   1881\u001B[0m \u001B[43m    \u001B[49m\u001B[43mf\u001B[49m\u001B[43m,\u001B[49m\n\u001B[0;32m   1882\u001B[0m \u001B[43m    \u001B[49m\u001B[43mmode\u001B[49m\u001B[43m,\u001B[49m\n\u001B[0;32m   1883\u001B[0m \u001B[43m    \u001B[49m\u001B[43mencoding\u001B[49m\u001B[38;5;241;43m=\u001B[39;49m\u001B[38;5;28;43mself\u001B[39;49m\u001B[38;5;241;43m.\u001B[39;49m\u001B[43moptions\u001B[49m\u001B[38;5;241;43m.\u001B[39;49m\u001B[43mget\u001B[49m\u001B[43m(\u001B[49m\u001B[38;5;124;43m\"\u001B[39;49m\u001B[38;5;124;43mencoding\u001B[39;49m\u001B[38;5;124;43m\"\u001B[39;49m\u001B[43m,\u001B[49m\u001B[43m \u001B[49m\u001B[38;5;28;43;01mNone\u001B[39;49;00m\u001B[43m)\u001B[49m\u001B[43m,\u001B[49m\n\u001B[0;32m   1884\u001B[0m \u001B[43m    \u001B[49m\u001B[43mcompression\u001B[49m\u001B[38;5;241;43m=\u001B[39;49m\u001B[38;5;28;43mself\u001B[39;49m\u001B[38;5;241;43m.\u001B[39;49m\u001B[43moptions\u001B[49m\u001B[38;5;241;43m.\u001B[39;49m\u001B[43mget\u001B[49m\u001B[43m(\u001B[49m\u001B[38;5;124;43m\"\u001B[39;49m\u001B[38;5;124;43mcompression\u001B[39;49m\u001B[38;5;124;43m\"\u001B[39;49m\u001B[43m,\u001B[49m\u001B[43m \u001B[49m\u001B[38;5;28;43;01mNone\u001B[39;49;00m\u001B[43m)\u001B[49m\u001B[43m,\u001B[49m\n\u001B[0;32m   1885\u001B[0m \u001B[43m    \u001B[49m\u001B[43mmemory_map\u001B[49m\u001B[38;5;241;43m=\u001B[39;49m\u001B[38;5;28;43mself\u001B[39;49m\u001B[38;5;241;43m.\u001B[39;49m\u001B[43moptions\u001B[49m\u001B[38;5;241;43m.\u001B[39;49m\u001B[43mget\u001B[49m\u001B[43m(\u001B[49m\u001B[38;5;124;43m\"\u001B[39;49m\u001B[38;5;124;43mmemory_map\u001B[39;49m\u001B[38;5;124;43m\"\u001B[39;49m\u001B[43m,\u001B[49m\u001B[43m \u001B[49m\u001B[38;5;28;43;01mFalse\u001B[39;49;00m\u001B[43m)\u001B[49m\u001B[43m,\u001B[49m\n\u001B[0;32m   1886\u001B[0m \u001B[43m    \u001B[49m\u001B[43mis_text\u001B[49m\u001B[38;5;241;43m=\u001B[39;49m\u001B[43mis_text\u001B[49m\u001B[43m,\u001B[49m\n\u001B[0;32m   1887\u001B[0m \u001B[43m    \u001B[49m\u001B[43merrors\u001B[49m\u001B[38;5;241;43m=\u001B[39;49m\u001B[38;5;28;43mself\u001B[39;49m\u001B[38;5;241;43m.\u001B[39;49m\u001B[43moptions\u001B[49m\u001B[38;5;241;43m.\u001B[39;49m\u001B[43mget\u001B[49m\u001B[43m(\u001B[49m\u001B[38;5;124;43m\"\u001B[39;49m\u001B[38;5;124;43mencoding_errors\u001B[39;49m\u001B[38;5;124;43m\"\u001B[39;49m\u001B[43m,\u001B[49m\u001B[43m \u001B[49m\u001B[38;5;124;43m\"\u001B[39;49m\u001B[38;5;124;43mstrict\u001B[39;49m\u001B[38;5;124;43m\"\u001B[39;49m\u001B[43m)\u001B[49m\u001B[43m,\u001B[49m\n\u001B[0;32m   1888\u001B[0m \u001B[43m    \u001B[49m\u001B[43mstorage_options\u001B[49m\u001B[38;5;241;43m=\u001B[39;49m\u001B[38;5;28;43mself\u001B[39;49m\u001B[38;5;241;43m.\u001B[39;49m\u001B[43moptions\u001B[49m\u001B[38;5;241;43m.\u001B[39;49m\u001B[43mget\u001B[49m\u001B[43m(\u001B[49m\u001B[38;5;124;43m\"\u001B[39;49m\u001B[38;5;124;43mstorage_options\u001B[39;49m\u001B[38;5;124;43m\"\u001B[39;49m\u001B[43m,\u001B[49m\u001B[43m \u001B[49m\u001B[38;5;28;43;01mNone\u001B[39;49;00m\u001B[43m)\u001B[49m\u001B[43m,\u001B[49m\n\u001B[0;32m   1889\u001B[0m \u001B[43m\u001B[49m\u001B[43m)\u001B[49m\n\u001B[0;32m   1890\u001B[0m \u001B[38;5;28;01massert\u001B[39;00m \u001B[38;5;28mself\u001B[39m\u001B[38;5;241m.\u001B[39mhandles \u001B[38;5;129;01mis\u001B[39;00m \u001B[38;5;129;01mnot\u001B[39;00m \u001B[38;5;28;01mNone\u001B[39;00m\n\u001B[0;32m   1891\u001B[0m f \u001B[38;5;241m=\u001B[39m \u001B[38;5;28mself\u001B[39m\u001B[38;5;241m.\u001B[39mhandles\u001B[38;5;241m.\u001B[39mhandle\n",
      "File \u001B[1;32m~\\PycharmProjects\\Lusifer\\venv\\lib\\site-packages\\pandas\\io\\common.py:873\u001B[0m, in \u001B[0;36mget_handle\u001B[1;34m(path_or_buf, mode, encoding, compression, memory_map, is_text, errors, storage_options)\u001B[0m\n\u001B[0;32m    868\u001B[0m \u001B[38;5;28;01melif\u001B[39;00m \u001B[38;5;28misinstance\u001B[39m(handle, \u001B[38;5;28mstr\u001B[39m):\n\u001B[0;32m    869\u001B[0m     \u001B[38;5;66;03m# Check whether the filename is to be opened in binary mode.\u001B[39;00m\n\u001B[0;32m    870\u001B[0m     \u001B[38;5;66;03m# Binary mode does not support 'encoding' and 'newline'.\u001B[39;00m\n\u001B[0;32m    871\u001B[0m     \u001B[38;5;28;01mif\u001B[39;00m ioargs\u001B[38;5;241m.\u001B[39mencoding \u001B[38;5;129;01mand\u001B[39;00m \u001B[38;5;124m\"\u001B[39m\u001B[38;5;124mb\u001B[39m\u001B[38;5;124m\"\u001B[39m \u001B[38;5;129;01mnot\u001B[39;00m \u001B[38;5;129;01min\u001B[39;00m ioargs\u001B[38;5;241m.\u001B[39mmode:\n\u001B[0;32m    872\u001B[0m         \u001B[38;5;66;03m# Encoding\u001B[39;00m\n\u001B[1;32m--> 873\u001B[0m         handle \u001B[38;5;241m=\u001B[39m \u001B[38;5;28;43mopen\u001B[39;49m\u001B[43m(\u001B[49m\n\u001B[0;32m    874\u001B[0m \u001B[43m            \u001B[49m\u001B[43mhandle\u001B[49m\u001B[43m,\u001B[49m\n\u001B[0;32m    875\u001B[0m \u001B[43m            \u001B[49m\u001B[43mioargs\u001B[49m\u001B[38;5;241;43m.\u001B[39;49m\u001B[43mmode\u001B[49m\u001B[43m,\u001B[49m\n\u001B[0;32m    876\u001B[0m \u001B[43m            \u001B[49m\u001B[43mencoding\u001B[49m\u001B[38;5;241;43m=\u001B[39;49m\u001B[43mioargs\u001B[49m\u001B[38;5;241;43m.\u001B[39;49m\u001B[43mencoding\u001B[49m\u001B[43m,\u001B[49m\n\u001B[0;32m    877\u001B[0m \u001B[43m            \u001B[49m\u001B[43merrors\u001B[49m\u001B[38;5;241;43m=\u001B[39;49m\u001B[43merrors\u001B[49m\u001B[43m,\u001B[49m\n\u001B[0;32m    878\u001B[0m \u001B[43m            \u001B[49m\u001B[43mnewline\u001B[49m\u001B[38;5;241;43m=\u001B[39;49m\u001B[38;5;124;43m\"\u001B[39;49m\u001B[38;5;124;43m\"\u001B[39;49m\u001B[43m,\u001B[49m\n\u001B[0;32m    879\u001B[0m \u001B[43m        \u001B[49m\u001B[43m)\u001B[49m\n\u001B[0;32m    880\u001B[0m     \u001B[38;5;28;01melse\u001B[39;00m:\n\u001B[0;32m    881\u001B[0m         \u001B[38;5;66;03m# Binary mode\u001B[39;00m\n\u001B[0;32m    882\u001B[0m         handle \u001B[38;5;241m=\u001B[39m \u001B[38;5;28mopen\u001B[39m(handle, ioargs\u001B[38;5;241m.\u001B[39mmode)\n",
      "\u001B[1;31mFileNotFoundError\u001B[0m: [Errno 2] No such file or directory: 'D:\\\\OneDrive - University of Windsor\\\\Danial Ebrat _ PhD projects\\\\Comprehensive Exam\\\\Recommender-Research-Baseline (1)\\\\Movielens100K\\\\ml-100k/users.dat'"
     ]
    }
   ],
   "source": [
    "# Loading the user data\n",
    "user_df = pd.read_csv(f'{Path}/users.dat', \n",
    "                      sep='::', \n",
    "                      names=[\"user_id\", \"gender\", \"age\", \"occupation\", \"zip_code\"], \n",
    "                      encoding='latin-1')\n",
    "\n",
    "user_df.head(100)"
   ],
   "metadata": {
    "collapsed": false,
    "ExecuteTime": {
     "end_time": "2024-11-18T03:24:13.267112700Z",
     "start_time": "2024-11-18T03:24:12.864830700Z"
    }
   },
   "id": "5628444e0296118d"
  },
  {
   "cell_type": "code",
   "execution_count": 68,
   "outputs": [
    {
     "data": {
      "text/plain": "    user_id  gender       age            occupation zip_code\n0         1  Female  Under 18          K-12 student    48067\n1         2    Male       56+         self-employed    70072\n2         3    Male     25-34             scientist    55117\n3         4    Male     45-49  executive/managerial    02460\n4         5    Male     25-34                writer    55455\n..      ...     ...       ...                   ...      ...\n95       96  Female     25-34         self-employed    78028\n96       97  Female     35-44        clerical/admin    66210\n97       98  Female     35-44  executive/managerial    33547\n98       99  Female  Under 18          K-12 student    19390\n99      100    Male     35-44   technician/engineer    95401\n\n[100 rows x 5 columns]",
      "text/html": "<div>\n<style scoped>\n    .dataframe tbody tr th:only-of-type {\n        vertical-align: middle;\n    }\n\n    .dataframe tbody tr th {\n        vertical-align: top;\n    }\n\n    .dataframe thead th {\n        text-align: right;\n    }\n</style>\n<table border=\"1\" class=\"dataframe\">\n  <thead>\n    <tr style=\"text-align: right;\">\n      <th></th>\n      <th>user_id</th>\n      <th>gender</th>\n      <th>age</th>\n      <th>occupation</th>\n      <th>zip_code</th>\n    </tr>\n  </thead>\n  <tbody>\n    <tr>\n      <th>0</th>\n      <td>1</td>\n      <td>Female</td>\n      <td>Under 18</td>\n      <td>K-12 student</td>\n      <td>48067</td>\n    </tr>\n    <tr>\n      <th>1</th>\n      <td>2</td>\n      <td>Male</td>\n      <td>56+</td>\n      <td>self-employed</td>\n      <td>70072</td>\n    </tr>\n    <tr>\n      <th>2</th>\n      <td>3</td>\n      <td>Male</td>\n      <td>25-34</td>\n      <td>scientist</td>\n      <td>55117</td>\n    </tr>\n    <tr>\n      <th>3</th>\n      <td>4</td>\n      <td>Male</td>\n      <td>45-49</td>\n      <td>executive/managerial</td>\n      <td>02460</td>\n    </tr>\n    <tr>\n      <th>4</th>\n      <td>5</td>\n      <td>Male</td>\n      <td>25-34</td>\n      <td>writer</td>\n      <td>55455</td>\n    </tr>\n    <tr>\n      <th>...</th>\n      <td>...</td>\n      <td>...</td>\n      <td>...</td>\n      <td>...</td>\n      <td>...</td>\n    </tr>\n    <tr>\n      <th>95</th>\n      <td>96</td>\n      <td>Female</td>\n      <td>25-34</td>\n      <td>self-employed</td>\n      <td>78028</td>\n    </tr>\n    <tr>\n      <th>96</th>\n      <td>97</td>\n      <td>Female</td>\n      <td>35-44</td>\n      <td>clerical/admin</td>\n      <td>66210</td>\n    </tr>\n    <tr>\n      <th>97</th>\n      <td>98</td>\n      <td>Female</td>\n      <td>35-44</td>\n      <td>executive/managerial</td>\n      <td>33547</td>\n    </tr>\n    <tr>\n      <th>98</th>\n      <td>99</td>\n      <td>Female</td>\n      <td>Under 18</td>\n      <td>K-12 student</td>\n      <td>19390</td>\n    </tr>\n    <tr>\n      <th>99</th>\n      <td>100</td>\n      <td>Male</td>\n      <td>35-44</td>\n      <td>technician/engineer</td>\n      <td>95401</td>\n    </tr>\n  </tbody>\n</table>\n<p>100 rows × 5 columns</p>\n</div>"
     },
     "execution_count": 68,
     "metadata": {},
     "output_type": "execute_result"
    }
   ],
   "source": [
    "# Define the mapping dictionaries\n",
    "age_dict = {\n",
    "    1: \"Under 18\",\n",
    "    18: \"18-24\",\n",
    "    25: \"25-34\",\n",
    "    35: \"35-44\",\n",
    "    45: \"45-49\",\n",
    "    50: \"50-55\",\n",
    "    56: \"56+\"\n",
    "}\n",
    "\n",
    "occupation_dict = {\n",
    "    0:  \"other or not specified\",\n",
    "    1:  \"academic/educator\",\n",
    "    2:  \"artist\",\n",
    "    3:  \"clerical/admin\",\n",
    "    4:  \"college/grad student\",\n",
    "    5:  \"customer service\",\n",
    "    6:  \"doctor/health care\",\n",
    "    7:  \"executive/managerial\",\n",
    "    8:  \"farmer\",\n",
    "    9:  \"homemaker\",\n",
    "    10: \"K-12 student\",\n",
    "    11: \"lawyer\",\n",
    "    12: \"programmer\",\n",
    "    13: \"retired\",\n",
    "    14: \"sales/marketing\",\n",
    "    15: \"scientist\",\n",
    "    16: \"self-employed\",\n",
    "    17: \"technician/engineer\",\n",
    "    18: \"tradesman/craftsman\",\n",
    "    19: \"unemployed\",\n",
    "    20: \"writer\"\n",
    "}\n",
    "\n",
    "gender_dict = {\n",
    "    'M': 'Male',\n",
    "    'F': 'Female'\n",
    "}\n",
    "\n",
    "# Map the codes to the actual values\n",
    "user_df['age'] = user_df['age'].map(age_dict)\n",
    "user_df['occupation'] = user_df['occupation'].map(occupation_dict)\n",
    "user_df['gender'] = user_df['gender'].map(gender_dict)\n",
    "\n",
    "\n",
    "# loading Movies\n",
    "user_df.head(100)"
   ],
   "metadata": {
    "collapsed": false,
    "ExecuteTime": {
     "end_time": "2024-11-08T17:30:41.521811900Z",
     "start_time": "2024-11-08T17:30:41.479972300Z"
    }
   },
   "id": "3012a92ee24b619b"
  },
  {
   "cell_type": "code",
   "execution_count": 69,
   "outputs": [
    {
     "data": {
      "text/plain": "   user_id  gender       age            occupation zip_code  \\\n0        1  Female  Under 18          K-12 student    48067   \n1        2    Male       56+         self-employed    70072   \n2        3    Male     25-34             scientist    55117   \n3        4    Male     45-49  executive/managerial    02460   \n4        5    Male     25-34                writer    55455   \n\n                                           user_info  \n0  \\n    Age: Under 18\\n    Gender: Female\\n    O...  \n1  \\n    Age: 56+\\n    Gender: Male\\n    Occupati...  \n2  \\n    Age: 25-34\\n    Gender: Male\\n    Occupa...  \n3  \\n    Age: 45-49\\n    Gender: Male\\n    Occupa...  \n4  \\n    Age: 25-34\\n    Gender: Male\\n    Occupa...  ",
      "text/html": "<div>\n<style scoped>\n    .dataframe tbody tr th:only-of-type {\n        vertical-align: middle;\n    }\n\n    .dataframe tbody tr th {\n        vertical-align: top;\n    }\n\n    .dataframe thead th {\n        text-align: right;\n    }\n</style>\n<table border=\"1\" class=\"dataframe\">\n  <thead>\n    <tr style=\"text-align: right;\">\n      <th></th>\n      <th>user_id</th>\n      <th>gender</th>\n      <th>age</th>\n      <th>occupation</th>\n      <th>zip_code</th>\n      <th>user_info</th>\n    </tr>\n  </thead>\n  <tbody>\n    <tr>\n      <th>0</th>\n      <td>1</td>\n      <td>Female</td>\n      <td>Under 18</td>\n      <td>K-12 student</td>\n      <td>48067</td>\n      <td>\\n    Age: Under 18\\n    Gender: Female\\n    O...</td>\n    </tr>\n    <tr>\n      <th>1</th>\n      <td>2</td>\n      <td>Male</td>\n      <td>56+</td>\n      <td>self-employed</td>\n      <td>70072</td>\n      <td>\\n    Age: 56+\\n    Gender: Male\\n    Occupati...</td>\n    </tr>\n    <tr>\n      <th>2</th>\n      <td>3</td>\n      <td>Male</td>\n      <td>25-34</td>\n      <td>scientist</td>\n      <td>55117</td>\n      <td>\\n    Age: 25-34\\n    Gender: Male\\n    Occupa...</td>\n    </tr>\n    <tr>\n      <th>3</th>\n      <td>4</td>\n      <td>Male</td>\n      <td>45-49</td>\n      <td>executive/managerial</td>\n      <td>02460</td>\n      <td>\\n    Age: 45-49\\n    Gender: Male\\n    Occupa...</td>\n    </tr>\n    <tr>\n      <th>4</th>\n      <td>5</td>\n      <td>Male</td>\n      <td>25-34</td>\n      <td>writer</td>\n      <td>55455</td>\n      <td>\\n    Age: 25-34\\n    Gender: Male\\n    Occupa...</td>\n    </tr>\n  </tbody>\n</table>\n</div>"
     },
     "execution_count": 69,
     "metadata": {},
     "output_type": "execute_result"
    }
   ],
   "source": [
    "\n",
    "# Function to format the user info\n",
    "def format_user_info(row):\n",
    "    # Create the formatted string\n",
    "    user_info = f\"\"\"\n",
    "    Age: {row['age']}\n",
    "    Gender: {row['gender']}\n",
    "    Occupation: {row['occupation']}\n",
    "    \"\"\"\n",
    "    return user_info\n",
    "\n",
    "# Apply the function to create the 'user_info' column\n",
    "user_df['user_info'] = user_df.apply(format_user_info, axis=1)\n",
    "\n",
    "user_df.head()\n"
   ],
   "metadata": {
    "collapsed": false,
    "ExecuteTime": {
     "end_time": "2024-11-08T17:30:47.840051300Z",
     "start_time": "2024-11-08T17:30:47.779311300Z"
    }
   },
   "id": "fba27292482aa7e7"
  },
  {
   "cell_type": "code",
   "execution_count": 70,
   "outputs": [],
   "source": [
    "user_df.to_csv(\"users_with_summary_df.csv\")\n",
    "user_df.to_pickle(\"users_with_summary_df.pkl\")"
   ],
   "metadata": {
    "collapsed": false,
    "ExecuteTime": {
     "end_time": "2024-11-08T17:31:55.391908400Z",
     "start_time": "2024-11-08T17:31:55.349939600Z"
    }
   },
   "id": "22a20dc107ab9cf"
  },
  {
   "cell_type": "markdown",
   "source": [
    "## Loading movies information and creating movie_info column: "
   ],
   "metadata": {
    "collapsed": false
   },
   "id": "876744a61acb6d77"
  },
  {
   "cell_type": "code",
   "execution_count": 46,
   "outputs": [
    {
     "name": "stderr",
     "output_type": "stream",
     "text": [
      "C:\\Users\\dania\\AppData\\Local\\Temp\\ipykernel_13992\\1191591061.py:1: ParserWarning: Falling back to the 'python' engine because the 'c' engine does not support regex separators (separators > 1 char and different from '\\s+' are interpreted as regex); you can avoid this warning by specifying engine='python'.\n",
      "  item_df = pd.read_csv(f'{Path}/movies.dat', sep='::', names=[\"MovieID\", \"Title\", \"Genres\"], encoding='latin-1')\n"
     ]
    },
    {
     "data": {
      "text/plain": "   MovieID                               Title                        Genres\n0        1                    Toy Story (1995)   Animation|Children's|Comedy\n1        2                      Jumanji (1995)  Adventure|Children's|Fantasy\n2        3             Grumpier Old Men (1995)                Comedy|Romance\n3        4            Waiting to Exhale (1995)                  Comedy|Drama\n4        5  Father of the Bride Part II (1995)                        Comedy",
      "text/html": "<div>\n<style scoped>\n    .dataframe tbody tr th:only-of-type {\n        vertical-align: middle;\n    }\n\n    .dataframe tbody tr th {\n        vertical-align: top;\n    }\n\n    .dataframe thead th {\n        text-align: right;\n    }\n</style>\n<table border=\"1\" class=\"dataframe\">\n  <thead>\n    <tr style=\"text-align: right;\">\n      <th></th>\n      <th>MovieID</th>\n      <th>Title</th>\n      <th>Genres</th>\n    </tr>\n  </thead>\n  <tbody>\n    <tr>\n      <th>0</th>\n      <td>1</td>\n      <td>Toy Story (1995)</td>\n      <td>Animation|Children's|Comedy</td>\n    </tr>\n    <tr>\n      <th>1</th>\n      <td>2</td>\n      <td>Jumanji (1995)</td>\n      <td>Adventure|Children's|Fantasy</td>\n    </tr>\n    <tr>\n      <th>2</th>\n      <td>3</td>\n      <td>Grumpier Old Men (1995)</td>\n      <td>Comedy|Romance</td>\n    </tr>\n    <tr>\n      <th>3</th>\n      <td>4</td>\n      <td>Waiting to Exhale (1995)</td>\n      <td>Comedy|Drama</td>\n    </tr>\n    <tr>\n      <th>4</th>\n      <td>5</td>\n      <td>Father of the Bride Part II (1995)</td>\n      <td>Comedy</td>\n    </tr>\n  </tbody>\n</table>\n</div>"
     },
     "execution_count": 46,
     "metadata": {},
     "output_type": "execute_result"
    }
   ],
   "source": [
    "item_df = pd.read_csv(f'{Path}/movies.dat', sep='::', names=[\"MovieID\", \"Title\", \"Genres\"], encoding='latin-1')\n",
    "\n",
    "item_df.head()"
   ],
   "metadata": {
    "collapsed": false,
    "ExecuteTime": {
     "end_time": "2024-11-08T16:59:01.005827400Z",
     "start_time": "2024-11-08T16:59:00.944971400Z"
    }
   },
   "id": "8165d9eda5797c46"
  },
  {
   "cell_type": "code",
   "execution_count": 47,
   "outputs": [
    {
     "name": "stdout",
     "output_type": "stream",
     "text": [
      "3883\n"
     ]
    }
   ],
   "source": [
    "\n",
    "print(len(item_df))"
   ],
   "metadata": {
    "collapsed": false,
    "ExecuteTime": {
     "end_time": "2024-11-08T16:59:19.003656400Z",
     "start_time": "2024-11-08T16:59:18.952810400Z"
    }
   },
   "id": "daa5179e1f1f771a"
  },
  {
   "cell_type": "markdown",
   "source": [
    "## Using TMDB API to extract more information about the movies"
   ],
   "metadata": {
    "collapsed": false
   },
   "id": "7b9db37267bd5b32"
  },
  {
   "cell_type": "code",
   "execution_count": 48,
   "outputs": [
    {
     "name": "stderr",
     "output_type": "stream",
     "text": [
      "Fetching movie details: 100%|██████████| 3883/3883 [14:39<00:00,  4.42it/s]  \n"
     ]
    }
   ],
   "source": [
    "import requests\n",
    "import pandas as pd\n",
    "import time\n",
    "import re\n",
    "from tqdm import tqdm\n",
    "\n",
    "\n",
    "API_KEY = \"your api key\"\n",
    "\n",
    "def get_movie_details(title, api_key):\n",
    "    \"\"\"Fetch movie details from TMDb API given a movie title, potentially including a year.\"\"\"\n",
    "    # Extract the year and clean title if present in the format \"Title (Year)\"\n",
    "    match = re.match(r\"^(.*?)\\s*\\((\\d{4})\\)$\", title)\n",
    "    if match:\n",
    "        clean_title, year = match.groups()\n",
    "    else:\n",
    "        clean_title, year = title, None\n",
    "    \n",
    "    try:\n",
    "        # Modify the URL to include the year in the search if it's available\n",
    "        url = f\"https://api.themoviedb.org/3/search/movie?api_key={api_key}&query={clean_title}\"\n",
    "        if year:\n",
    "            url += f\"&year={year}\"\n",
    "        response = requests.get(url)\n",
    "        data = response.json()\n",
    "        if data['results']:\n",
    "            movie_id = data['results'][0]['id']  # Assuming the first result is the correct movie\n",
    "            details_url = f\"https://api.themoviedb.org/3/movie/{movie_id}?api_key={api_key}\"\n",
    "            details_response = requests.get(details_url)\n",
    "            return details_response.json()  # Returns a dictionary of details\n",
    "        else:\n",
    "            return {}\n",
    "    except requests.exceptions.RequestException as e:\n",
    "        print(f\"Request failed: {e}\")\n",
    "        time.sleep(10)  # Wait for 10 seconds before retrying\n",
    "        return get_movie_details(title, api_key)\n",
    "\n",
    "\n",
    "# # Using tqdm for a progress bar\n",
    "item_df['details'] = [get_movie_details(title, API_KEY) for title in tqdm(item_df['Title'], desc=\"Fetching movie details\")]\n",
    "\n",
    "# Expand 'details' dict into separate columns, excluding the duplicate 'title'\n",
    "details_df = item_df['details'].apply(pd.Series)\n",
    "\n",
    "# Drop the \"title\" column from details_df if it exists\n",
    "details_df.drop(columns=['Title'], errors='ignore', inplace=True)\n",
    "\n",
    "# Concatenate the original DataFrame and the expanded details DataFrame\n",
    "item_df = pd.concat([item_df.drop(['details'], axis=1), details_df], axis=1)\n"
   ],
   "metadata": {
    "collapsed": false,
    "ExecuteTime": {
     "end_time": "2024-11-08T17:16:20.812309600Z",
     "start_time": "2024-11-08T17:01:40.809490400Z"
    }
   },
   "id": "eb9edff7746312d8"
  },
  {
   "cell_type": "code",
   "execution_count": null,
   "outputs": [],
   "source": [
    "# Another version -- more efficeint\n",
    "\n",
    "import requests\n",
    "import pandas as pd\n",
    "import time\n",
    "import re\n",
    "from tqdm import tqdm\n",
    "from requests.adapters import HTTPAdapter, Retry\n",
    "from functools import lru_cache\n",
    "import threading\n",
    "import os\n",
    "\n",
    "API_KEY = \"your api key\"\n",
    "\n",
    "# Rate limiting: 40 requests per 10 seconds\n",
    "RATE_LIMIT = 40\n",
    "RATE_PERIOD = 10  # seconds\n",
    "request_counts = []\n",
    "lock = threading.Lock()\n",
    "\n",
    "# Create a session with a retry strategy\n",
    "session = requests.Session()\n",
    "retries = Retry(total=5,\n",
    "                backoff_factor=1,\n",
    "                status_forcelist=[429, 500, 502, 503, 504],\n",
    "                method_whitelist=[\"HEAD\", \"GET\", \"OPTIONS\"])\n",
    "adapter = HTTPAdapter(max_retries=retries)\n",
    "session.mount('https://', adapter)\n",
    "session.mount('http://', adapter)\n",
    "\n",
    "def rate_limited_request(method, url, **kwargs):\n",
    "    \"\"\"Perform a rate-limited request.\"\"\"\n",
    "    with lock:\n",
    "        current_time = time.time()\n",
    "        # Remove outdated request timestamps\n",
    "        while request_counts and request_counts[0] <= current_time - RATE_PERIOD:\n",
    "            request_counts.pop(0)\n",
    "        if len(request_counts) >= RATE_LIMIT:\n",
    "            sleep_time = RATE_PERIOD - (current_time - request_counts[0])\n",
    "            time.sleep(sleep_time)\n",
    "        request_counts.append(time.time())\n",
    "    response = session.request(method, url, **kwargs)\n",
    "    return response\n",
    "\n",
    "@lru_cache(maxsize=None)\n",
    "def get_movie_details(title, api_key):\n",
    "    \"\"\"Fetch movie details from TMDb API given a movie title, potentially including a year.\"\"\"\n",
    "    # Extract the year and clean title if present in the format \"Title (Year)\"\n",
    "    match = re.match(r\"^(.*?)\\s*\\((\\d{4})\\)$\", title)\n",
    "    if match:\n",
    "        clean_title, year = match.groups()\n",
    "    else:\n",
    "        clean_title, year = title, None\n",
    "\n",
    "    # Encode the title for URL\n",
    "    clean_title_encoded = requests.utils.quote(clean_title)\n",
    "\n",
    "    # Build the search URL\n",
    "    url = f\"https://api.themoviedb.org/3/search/movie?api_key={api_key}&query={clean_title_encoded}\"\n",
    "    if year:\n",
    "        url += f\"&year={year}\"\n",
    "\n",
    "    try:\n",
    "        response = rate_limited_request('GET', url, timeout=10)\n",
    "        response.raise_for_status()\n",
    "        data = response.json()\n",
    "        if data.get('results'):\n",
    "            movie_id = data['results'][0]['id']  # Assuming the first result is correct\n",
    "            details_url = f\"https://api.themoviedb.org/3/movie/{movie_id}?api_key={api_key}\"\n",
    "            details_response = rate_limited_request('GET', details_url, timeout=10)\n",
    "            details_response.raise_for_status()\n",
    "            return details_response.json()  # Returns a dictionary of details\n",
    "        else:\n",
    "            return {}\n",
    "    except requests.exceptions.HTTPError as http_err:\n",
    "        print(f\"HTTP error occurred for '{title}': {http_err}\")\n",
    "        return {}\n",
    "    except requests.exceptions.RequestException as req_err:\n",
    "        print(f\"Request exception for '{title}': {req_err}\")\n",
    "        return {}\n",
    "    except Exception as e:\n",
    "        print(f\"An error occurred for '{title}': {e}\")\n",
    "        return {}\n",
    "\n",
    "# Ensure the 'Title' column exists\n",
    "if 'Title' not in item_df.columns:\n",
    "    raise KeyError(\"The DataFrame does not contain a 'Title' column.\")\n",
    "\n",
    "# Apply the function to the DataFrame with a progress bar\n",
    "tqdm.pandas(desc=\"Fetching movie details\")\n",
    "item_df['details'] = item_df['Title'].progress_apply(lambda x: get_movie_details(x, API_KEY))\n",
    "\n",
    "# Expand 'details' dict into separate columns\n",
    "details_df = pd.json_normalize(item_df['details'])\n",
    "\n",
    "# Concatenate the original DataFrame and the expanded details DataFrame\n",
    "item_df = pd.concat([item_df.drop(['details'], axis=1), details_df], axis=1)\n"
   ],
   "metadata": {
    "collapsed": false
   },
   "id": "9915091e7619811e"
  },
  {
   "cell_type": "code",
   "execution_count": 50,
   "outputs": [],
   "source": [
    "item_df.head()\n",
    "\n",
    "item_df.to_csv(\"movies_1m_tmdb.csv\")"
   ],
   "metadata": {
    "collapsed": false,
    "ExecuteTime": {
     "end_time": "2024-11-08T17:19:23.173973200Z",
     "start_time": "2024-11-08T17:19:23.022250400Z"
    }
   },
   "id": "3dbc824938545dc3"
  },
  {
   "cell_type": "code",
   "execution_count": 51,
   "outputs": [
    {
     "name": "stdout",
     "output_type": "stream",
     "text": [
      "Cleaned dataset saved. Number of movies with overviews: 3641\n"
     ]
    }
   ],
   "source": [
    "# Filter out rows where the 'overview' column is NaN\n",
    "cleaned_df = item_df.dropna(subset=['overview'])\n",
    "\n",
    "# Saving the cleaned DataFrame\n",
    "cleaned_df.to_csv('movies_enriched_dataset.csv', index=False)\n",
    "\n",
    "print(\"Cleaned dataset saved. Number of movies with overviews:\", cleaned_df.shape[0])"
   ],
   "metadata": {
    "collapsed": false,
    "ExecuteTime": {
     "end_time": "2024-11-08T17:20:00.029333400Z",
     "start_time": "2024-11-08T17:19:59.845303800Z"
    }
   },
   "id": "306e24b64f39343a"
  },
  {
   "cell_type": "code",
   "execution_count": 76,
   "outputs": [
    {
     "name": "stderr",
     "output_type": "stream",
     "text": [
      "C:\\Users\\dania\\AppData\\Local\\Temp\\ipykernel_13992\\566873030.py:1: SettingWithCopyWarning: \n",
      "A value is trying to be set on a copy of a slice from a DataFrame\n",
      "\n",
      "See the caveats in the documentation: https://pandas.pydata.org/pandas-docs/stable/user_guide/indexing.html#returning-a-view-versus-a-copy\n",
      "  cleaned_df.rename(columns={\"MovieID\": \"movie_id\"}, inplace=True)\n"
     ]
    }
   ],
   "source": [
    "\n",
    "\n",
    "cleaned_df.rename(columns={\"MovieID\": \"movie_id\"}, inplace=True)\n"
   ],
   "metadata": {
    "collapsed": false,
    "ExecuteTime": {
     "end_time": "2024-11-08T18:52:16.437349400Z",
     "start_time": "2024-11-08T18:52:16.428338600Z"
    }
   },
   "id": "2c520486086148f"
  },
  {
   "cell_type": "code",
   "execution_count": 77,
   "outputs": [
    {
     "data": {
      "text/plain": "   movie_id                               Title                        Genres  \\\n0         1                    Toy Story (1995)   Animation|Children's|Comedy   \n1         2                      Jumanji (1995)  Adventure|Children's|Fantasy   \n2         3             Grumpier Old Men (1995)                Comedy|Romance   \n3         4            Waiting to Exhale (1995)                  Comedy|Drama   \n4         5  Father of the Bride Part II (1995)                        Comedy   \n\n   adult                     backdrop_path  \\\n0  False  /lxD5ak7BOoinRNehOCA85CQ8ubr.jpg   \n1  False  /i7jKGJZjGmLZFt48xLtwSgn9Cdw.jpg   \n2  False  /nh9gYaXHTNT9yylX10L9aGqFehy.jpg   \n3  False  /jZjoEKXMTDoZAGdkjhAdJaKtXSN.jpg   \n4  False  /lEsjVrGU21BeJjF5AF9EWsihDpw.jpg   \n\n                               belongs_to_collection      budget  \\\n0  {'id': 10194, 'name': 'Toy Story Collection', ...  30000000.0   \n1  {'id': 495527, 'name': 'Jumanji Collection', '...  65000000.0   \n2  {'id': 119050, 'name': 'Grumpy Old Men Collect...  25000000.0   \n3                                               None  16000000.0   \n4  {'id': 96871, 'name': 'Father of the Bride (St...         0.0   \n\n                                              genres  \\\n0  [{'id': 16, 'name': 'Animation'}, {'id': 12, '...   \n1  [{'id': 12, 'name': 'Adventure'}, {'id': 14, '...   \n2  [{'id': 10749, 'name': 'Romance'}, {'id': 35, ...   \n3  [{'id': 35, 'name': 'Comedy'}, {'id': 18, 'nam...   \n4  [{'id': 35, 'name': 'Comedy'}, {'id': 10751, '...   \n\n                                      homepage       id  ...      revenue  \\\n0         http://toystory.disney.com/toy-story    862.0  ...  394436586.0   \n1  http://www.sonypictures.com/movies/jumanji/   8844.0  ...  262821940.0   \n2                                               15602.0  ...   71500000.0   \n3                                               31357.0  ...   81452156.0   \n4                                               11862.0  ...   76594107.0   \n\n  runtime                                   spoken_languages    status  \\\n0    81.0  [{'english_name': 'English', 'iso_639_1': 'en'...  Released   \n1   104.0  [{'english_name': 'English', 'iso_639_1': 'en'...  Released   \n2   101.0  [{'english_name': 'English', 'iso_639_1': 'en'...  Released   \n3   127.0  [{'english_name': 'English', 'iso_639_1': 'en'...  Released   \n4   106.0  [{'english_name': 'English', 'iso_639_1': 'en'...  Released   \n\n                                             tagline  \\\n0  Hang on for the comedy that goes to infinity a...   \n1          Roll the dice and unleash the excitement!   \n2  Still Yelling. Still Fighting. Still Ready for...   \n3  Friends are the people who let you be yourself...   \n4  Just when his world is back to normal... he's ...   \n\n                         title  video vote_average vote_count  \\\n0                    Toy Story  False        7.970    18309.0   \n1                      Jumanji  False        7.200    10462.0   \n2             Grumpier Old Men  False        6.500      375.0   \n3            Waiting to Exhale  False        6.300      162.0   \n4  Father of the Bride Part II  False        6.237      725.0   \n\n                                          movie_info  \n0  \\n    Movie title: Toy Story (1995) \\n    Genr...  \n1  \\n    Movie title: Jumanji (1995) \\n    Genres...  \n2  \\n    Movie title: Grumpier Old Men (1995) \\n ...  \n3  \\n    Movie title: Waiting to Exhale (1995) \\n...  \n4  \\n    Movie title: Father of the Bride Part II...  \n\n[5 rows x 30 columns]",
      "text/html": "<div>\n<style scoped>\n    .dataframe tbody tr th:only-of-type {\n        vertical-align: middle;\n    }\n\n    .dataframe tbody tr th {\n        vertical-align: top;\n    }\n\n    .dataframe thead th {\n        text-align: right;\n    }\n</style>\n<table border=\"1\" class=\"dataframe\">\n  <thead>\n    <tr style=\"text-align: right;\">\n      <th></th>\n      <th>movie_id</th>\n      <th>Title</th>\n      <th>Genres</th>\n      <th>adult</th>\n      <th>backdrop_path</th>\n      <th>belongs_to_collection</th>\n      <th>budget</th>\n      <th>genres</th>\n      <th>homepage</th>\n      <th>id</th>\n      <th>...</th>\n      <th>revenue</th>\n      <th>runtime</th>\n      <th>spoken_languages</th>\n      <th>status</th>\n      <th>tagline</th>\n      <th>title</th>\n      <th>video</th>\n      <th>vote_average</th>\n      <th>vote_count</th>\n      <th>movie_info</th>\n    </tr>\n  </thead>\n  <tbody>\n    <tr>\n      <th>0</th>\n      <td>1</td>\n      <td>Toy Story (1995)</td>\n      <td>Animation|Children's|Comedy</td>\n      <td>False</td>\n      <td>/lxD5ak7BOoinRNehOCA85CQ8ubr.jpg</td>\n      <td>{'id': 10194, 'name': 'Toy Story Collection', ...</td>\n      <td>30000000.0</td>\n      <td>[{'id': 16, 'name': 'Animation'}, {'id': 12, '...</td>\n      <td>http://toystory.disney.com/toy-story</td>\n      <td>862.0</td>\n      <td>...</td>\n      <td>394436586.0</td>\n      <td>81.0</td>\n      <td>[{'english_name': 'English', 'iso_639_1': 'en'...</td>\n      <td>Released</td>\n      <td>Hang on for the comedy that goes to infinity a...</td>\n      <td>Toy Story</td>\n      <td>False</td>\n      <td>7.970</td>\n      <td>18309.0</td>\n      <td>\\n    Movie title: Toy Story (1995) \\n    Genr...</td>\n    </tr>\n    <tr>\n      <th>1</th>\n      <td>2</td>\n      <td>Jumanji (1995)</td>\n      <td>Adventure|Children's|Fantasy</td>\n      <td>False</td>\n      <td>/i7jKGJZjGmLZFt48xLtwSgn9Cdw.jpg</td>\n      <td>{'id': 495527, 'name': 'Jumanji Collection', '...</td>\n      <td>65000000.0</td>\n      <td>[{'id': 12, 'name': 'Adventure'}, {'id': 14, '...</td>\n      <td>http://www.sonypictures.com/movies/jumanji/</td>\n      <td>8844.0</td>\n      <td>...</td>\n      <td>262821940.0</td>\n      <td>104.0</td>\n      <td>[{'english_name': 'English', 'iso_639_1': 'en'...</td>\n      <td>Released</td>\n      <td>Roll the dice and unleash the excitement!</td>\n      <td>Jumanji</td>\n      <td>False</td>\n      <td>7.200</td>\n      <td>10462.0</td>\n      <td>\\n    Movie title: Jumanji (1995) \\n    Genres...</td>\n    </tr>\n    <tr>\n      <th>2</th>\n      <td>3</td>\n      <td>Grumpier Old Men (1995)</td>\n      <td>Comedy|Romance</td>\n      <td>False</td>\n      <td>/nh9gYaXHTNT9yylX10L9aGqFehy.jpg</td>\n      <td>{'id': 119050, 'name': 'Grumpy Old Men Collect...</td>\n      <td>25000000.0</td>\n      <td>[{'id': 10749, 'name': 'Romance'}, {'id': 35, ...</td>\n      <td></td>\n      <td>15602.0</td>\n      <td>...</td>\n      <td>71500000.0</td>\n      <td>101.0</td>\n      <td>[{'english_name': 'English', 'iso_639_1': 'en'...</td>\n      <td>Released</td>\n      <td>Still Yelling. Still Fighting. Still Ready for...</td>\n      <td>Grumpier Old Men</td>\n      <td>False</td>\n      <td>6.500</td>\n      <td>375.0</td>\n      <td>\\n    Movie title: Grumpier Old Men (1995) \\n ...</td>\n    </tr>\n    <tr>\n      <th>3</th>\n      <td>4</td>\n      <td>Waiting to Exhale (1995)</td>\n      <td>Comedy|Drama</td>\n      <td>False</td>\n      <td>/jZjoEKXMTDoZAGdkjhAdJaKtXSN.jpg</td>\n      <td>None</td>\n      <td>16000000.0</td>\n      <td>[{'id': 35, 'name': 'Comedy'}, {'id': 18, 'nam...</td>\n      <td></td>\n      <td>31357.0</td>\n      <td>...</td>\n      <td>81452156.0</td>\n      <td>127.0</td>\n      <td>[{'english_name': 'English', 'iso_639_1': 'en'...</td>\n      <td>Released</td>\n      <td>Friends are the people who let you be yourself...</td>\n      <td>Waiting to Exhale</td>\n      <td>False</td>\n      <td>6.300</td>\n      <td>162.0</td>\n      <td>\\n    Movie title: Waiting to Exhale (1995) \\n...</td>\n    </tr>\n    <tr>\n      <th>4</th>\n      <td>5</td>\n      <td>Father of the Bride Part II (1995)</td>\n      <td>Comedy</td>\n      <td>False</td>\n      <td>/lEsjVrGU21BeJjF5AF9EWsihDpw.jpg</td>\n      <td>{'id': 96871, 'name': 'Father of the Bride (St...</td>\n      <td>0.0</td>\n      <td>[{'id': 35, 'name': 'Comedy'}, {'id': 10751, '...</td>\n      <td></td>\n      <td>11862.0</td>\n      <td>...</td>\n      <td>76594107.0</td>\n      <td>106.0</td>\n      <td>[{'english_name': 'English', 'iso_639_1': 'en'...</td>\n      <td>Released</td>\n      <td>Just when his world is back to normal... he's ...</td>\n      <td>Father of the Bride Part II</td>\n      <td>False</td>\n      <td>6.237</td>\n      <td>725.0</td>\n      <td>\\n    Movie title: Father of the Bride Part II...</td>\n    </tr>\n  </tbody>\n</table>\n<p>5 rows × 30 columns</p>\n</div>"
     },
     "execution_count": 77,
     "metadata": {},
     "output_type": "execute_result"
    }
   ],
   "source": [
    "cleaned_df.head()"
   ],
   "metadata": {
    "collapsed": false,
    "ExecuteTime": {
     "end_time": "2024-11-08T18:52:31.895152400Z",
     "start_time": "2024-11-08T18:52:31.881037700Z"
    }
   },
   "id": "a2854dcffa48a107"
  },
  {
   "cell_type": "code",
   "execution_count": 78,
   "outputs": [],
   "source": [
    "cleaned_df.to_pickle('movies_enriched_dataset.pkl')"
   ],
   "metadata": {
    "collapsed": false,
    "ExecuteTime": {
     "end_time": "2024-11-08T18:52:35.336093400Z",
     "start_time": "2024-11-08T18:52:35.279206400Z"
    }
   },
   "id": "b6d2dce36fceed5d"
  },
  {
   "cell_type": "markdown",
   "source": [
    "## Loading enriched dataset and creating movie_info col"
   ],
   "metadata": {
    "collapsed": false
   },
   "id": "7339e5d17e4919f7"
  },
  {
   "cell_type": "code",
   "execution_count": 54,
   "outputs": [
    {
     "name": "stderr",
     "output_type": "stream",
     "text": [
      "C:\\Users\\dania\\AppData\\Local\\Temp\\ipykernel_13992\\2752981810.py:12: SettingWithCopyWarning: \n",
      "A value is trying to be set on a copy of a slice from a DataFrame.\n",
      "Try using .loc[row_indexer,col_indexer] = value instead\n",
      "\n",
      "See the caveats in the documentation: https://pandas.pydata.org/pandas-docs/stable/user_guide/indexing.html#returning-a-view-versus-a-copy\n",
      "  cleaned_df['movie_info'] = cleaned_df.apply(format_movie_info, axis=1)\n"
     ]
    },
    {
     "data": {
      "text/plain": "   MovieID                               Title                        Genres  \\\n0        1                    Toy Story (1995)   Animation|Children's|Comedy   \n1        2                      Jumanji (1995)  Adventure|Children's|Fantasy   \n2        3             Grumpier Old Men (1995)                Comedy|Romance   \n3        4            Waiting to Exhale (1995)                  Comedy|Drama   \n4        5  Father of the Bride Part II (1995)                        Comedy   \n\n   adult                     backdrop_path  \\\n0  False  /lxD5ak7BOoinRNehOCA85CQ8ubr.jpg   \n1  False  /i7jKGJZjGmLZFt48xLtwSgn9Cdw.jpg   \n2  False  /nh9gYaXHTNT9yylX10L9aGqFehy.jpg   \n3  False  /jZjoEKXMTDoZAGdkjhAdJaKtXSN.jpg   \n4  False  /lEsjVrGU21BeJjF5AF9EWsihDpw.jpg   \n\n                               belongs_to_collection      budget  \\\n0  {'id': 10194, 'name': 'Toy Story Collection', ...  30000000.0   \n1  {'id': 495527, 'name': 'Jumanji Collection', '...  65000000.0   \n2  {'id': 119050, 'name': 'Grumpy Old Men Collect...  25000000.0   \n3                                               None  16000000.0   \n4  {'id': 96871, 'name': 'Father of the Bride (St...         0.0   \n\n                                              genres  \\\n0  [{'id': 16, 'name': 'Animation'}, {'id': 12, '...   \n1  [{'id': 12, 'name': 'Adventure'}, {'id': 14, '...   \n2  [{'id': 10749, 'name': 'Romance'}, {'id': 35, ...   \n3  [{'id': 35, 'name': 'Comedy'}, {'id': 18, 'nam...   \n4  [{'id': 35, 'name': 'Comedy'}, {'id': 10751, '...   \n\n                                      homepage       id  ...      revenue  \\\n0         http://toystory.disney.com/toy-story    862.0  ...  394436586.0   \n1  http://www.sonypictures.com/movies/jumanji/   8844.0  ...  262821940.0   \n2                                               15602.0  ...   71500000.0   \n3                                               31357.0  ...   81452156.0   \n4                                               11862.0  ...   76594107.0   \n\n  runtime                                   spoken_languages    status  \\\n0    81.0  [{'english_name': 'English', 'iso_639_1': 'en'...  Released   \n1   104.0  [{'english_name': 'English', 'iso_639_1': 'en'...  Released   \n2   101.0  [{'english_name': 'English', 'iso_639_1': 'en'...  Released   \n3   127.0  [{'english_name': 'English', 'iso_639_1': 'en'...  Released   \n4   106.0  [{'english_name': 'English', 'iso_639_1': 'en'...  Released   \n\n                                             tagline  \\\n0  Hang on for the comedy that goes to infinity a...   \n1          Roll the dice and unleash the excitement!   \n2  Still Yelling. Still Fighting. Still Ready for...   \n3  Friends are the people who let you be yourself...   \n4  Just when his world is back to normal... he's ...   \n\n                         title  video vote_average vote_count  \\\n0                    Toy Story  False        7.970    18309.0   \n1                      Jumanji  False        7.200    10462.0   \n2             Grumpier Old Men  False        6.500      375.0   \n3            Waiting to Exhale  False        6.300      162.0   \n4  Father of the Bride Part II  False        6.237      725.0   \n\n                                          movie_info  \n0  \\n    Movie title: Toy Story (1995) \\n    Genr...  \n1  \\n    Movie title: Jumanji (1995) \\n    Genres...  \n2  \\n    Movie title: Grumpier Old Men (1995) \\n ...  \n3  \\n    Movie title: Waiting to Exhale (1995) \\n...  \n4  \\n    Movie title: Father of the Bride Part II...  \n\n[5 rows x 30 columns]",
      "text/html": "<div>\n<style scoped>\n    .dataframe tbody tr th:only-of-type {\n        vertical-align: middle;\n    }\n\n    .dataframe tbody tr th {\n        vertical-align: top;\n    }\n\n    .dataframe thead th {\n        text-align: right;\n    }\n</style>\n<table border=\"1\" class=\"dataframe\">\n  <thead>\n    <tr style=\"text-align: right;\">\n      <th></th>\n      <th>MovieID</th>\n      <th>Title</th>\n      <th>Genres</th>\n      <th>adult</th>\n      <th>backdrop_path</th>\n      <th>belongs_to_collection</th>\n      <th>budget</th>\n      <th>genres</th>\n      <th>homepage</th>\n      <th>id</th>\n      <th>...</th>\n      <th>revenue</th>\n      <th>runtime</th>\n      <th>spoken_languages</th>\n      <th>status</th>\n      <th>tagline</th>\n      <th>title</th>\n      <th>video</th>\n      <th>vote_average</th>\n      <th>vote_count</th>\n      <th>movie_info</th>\n    </tr>\n  </thead>\n  <tbody>\n    <tr>\n      <th>0</th>\n      <td>1</td>\n      <td>Toy Story (1995)</td>\n      <td>Animation|Children's|Comedy</td>\n      <td>False</td>\n      <td>/lxD5ak7BOoinRNehOCA85CQ8ubr.jpg</td>\n      <td>{'id': 10194, 'name': 'Toy Story Collection', ...</td>\n      <td>30000000.0</td>\n      <td>[{'id': 16, 'name': 'Animation'}, {'id': 12, '...</td>\n      <td>http://toystory.disney.com/toy-story</td>\n      <td>862.0</td>\n      <td>...</td>\n      <td>394436586.0</td>\n      <td>81.0</td>\n      <td>[{'english_name': 'English', 'iso_639_1': 'en'...</td>\n      <td>Released</td>\n      <td>Hang on for the comedy that goes to infinity a...</td>\n      <td>Toy Story</td>\n      <td>False</td>\n      <td>7.970</td>\n      <td>18309.0</td>\n      <td>\\n    Movie title: Toy Story (1995) \\n    Genr...</td>\n    </tr>\n    <tr>\n      <th>1</th>\n      <td>2</td>\n      <td>Jumanji (1995)</td>\n      <td>Adventure|Children's|Fantasy</td>\n      <td>False</td>\n      <td>/i7jKGJZjGmLZFt48xLtwSgn9Cdw.jpg</td>\n      <td>{'id': 495527, 'name': 'Jumanji Collection', '...</td>\n      <td>65000000.0</td>\n      <td>[{'id': 12, 'name': 'Adventure'}, {'id': 14, '...</td>\n      <td>http://www.sonypictures.com/movies/jumanji/</td>\n      <td>8844.0</td>\n      <td>...</td>\n      <td>262821940.0</td>\n      <td>104.0</td>\n      <td>[{'english_name': 'English', 'iso_639_1': 'en'...</td>\n      <td>Released</td>\n      <td>Roll the dice and unleash the excitement!</td>\n      <td>Jumanji</td>\n      <td>False</td>\n      <td>7.200</td>\n      <td>10462.0</td>\n      <td>\\n    Movie title: Jumanji (1995) \\n    Genres...</td>\n    </tr>\n    <tr>\n      <th>2</th>\n      <td>3</td>\n      <td>Grumpier Old Men (1995)</td>\n      <td>Comedy|Romance</td>\n      <td>False</td>\n      <td>/nh9gYaXHTNT9yylX10L9aGqFehy.jpg</td>\n      <td>{'id': 119050, 'name': 'Grumpy Old Men Collect...</td>\n      <td>25000000.0</td>\n      <td>[{'id': 10749, 'name': 'Romance'}, {'id': 35, ...</td>\n      <td></td>\n      <td>15602.0</td>\n      <td>...</td>\n      <td>71500000.0</td>\n      <td>101.0</td>\n      <td>[{'english_name': 'English', 'iso_639_1': 'en'...</td>\n      <td>Released</td>\n      <td>Still Yelling. Still Fighting. Still Ready for...</td>\n      <td>Grumpier Old Men</td>\n      <td>False</td>\n      <td>6.500</td>\n      <td>375.0</td>\n      <td>\\n    Movie title: Grumpier Old Men (1995) \\n ...</td>\n    </tr>\n    <tr>\n      <th>3</th>\n      <td>4</td>\n      <td>Waiting to Exhale (1995)</td>\n      <td>Comedy|Drama</td>\n      <td>False</td>\n      <td>/jZjoEKXMTDoZAGdkjhAdJaKtXSN.jpg</td>\n      <td>None</td>\n      <td>16000000.0</td>\n      <td>[{'id': 35, 'name': 'Comedy'}, {'id': 18, 'nam...</td>\n      <td></td>\n      <td>31357.0</td>\n      <td>...</td>\n      <td>81452156.0</td>\n      <td>127.0</td>\n      <td>[{'english_name': 'English', 'iso_639_1': 'en'...</td>\n      <td>Released</td>\n      <td>Friends are the people who let you be yourself...</td>\n      <td>Waiting to Exhale</td>\n      <td>False</td>\n      <td>6.300</td>\n      <td>162.0</td>\n      <td>\\n    Movie title: Waiting to Exhale (1995) \\n...</td>\n    </tr>\n    <tr>\n      <th>4</th>\n      <td>5</td>\n      <td>Father of the Bride Part II (1995)</td>\n      <td>Comedy</td>\n      <td>False</td>\n      <td>/lEsjVrGU21BeJjF5AF9EWsihDpw.jpg</td>\n      <td>{'id': 96871, 'name': 'Father of the Bride (St...</td>\n      <td>0.0</td>\n      <td>[{'id': 35, 'name': 'Comedy'}, {'id': 10751, '...</td>\n      <td></td>\n      <td>11862.0</td>\n      <td>...</td>\n      <td>76594107.0</td>\n      <td>106.0</td>\n      <td>[{'english_name': 'English', 'iso_639_1': 'en'...</td>\n      <td>Released</td>\n      <td>Just when his world is back to normal... he's ...</td>\n      <td>Father of the Bride Part II</td>\n      <td>False</td>\n      <td>6.237</td>\n      <td>725.0</td>\n      <td>\\n    Movie title: Father of the Bride Part II...</td>\n    </tr>\n  </tbody>\n</table>\n<p>5 rows × 30 columns</p>\n</div>"
     },
     "execution_count": 54,
     "metadata": {},
     "output_type": "execute_result"
    }
   ],
   "source": [
    "\n",
    "# Function to extract and format the genres\n",
    "def format_movie_info(row):\n",
    "\n",
    "    movie_info = f\"\"\"\n",
    "    Movie title: {row['Title']} \n",
    "    Genres: {row['Genres']}\n",
    "    Overview: {row['overview']} \n",
    "    \"\"\"\n",
    "    return movie_info\n",
    "\n",
    "# Apply the function to create the 'movie_info' column\n",
    "cleaned_df['movie_info'] = cleaned_df.apply(format_movie_info, axis=1)\n",
    "cleaned_df.head()"
   ],
   "metadata": {
    "collapsed": false,
    "ExecuteTime": {
     "end_time": "2024-11-08T17:21:54.875946900Z",
     "start_time": "2024-11-08T17:21:54.777451500Z"
    }
   },
   "id": "5e75ff008b30b055"
  },
  {
   "cell_type": "code",
   "execution_count": 55,
   "outputs": [],
   "source": [
    "\n",
    "# Saving the cleaned DataFrame\n",
    "\n",
    "cleaned_df.to_pickle('movies_enriched_dataset.pkl')\n",
    "# user_df.to_pickle('user_dataset.pkl')\n",
    "\n"
   ],
   "metadata": {
    "collapsed": false,
    "ExecuteTime": {
     "end_time": "2024-11-08T17:22:23.150811300Z",
     "start_time": "2024-11-08T17:22:23.083369200Z"
    }
   },
   "id": "7e06be364488e337"
  },
  {
   "cell_type": "code",
   "execution_count": 57,
   "outputs": [
    {
     "data": {
      "text/plain": "(242, 29)"
     },
     "execution_count": 57,
     "metadata": {},
     "output_type": "execute_result"
    }
   ],
   "source": [
    "movies_without_overview = item_df[item_df['overview'].isna()]\n",
    "\n",
    "movies_without_overview.shape"
   ],
   "metadata": {
    "collapsed": false,
    "ExecuteTime": {
     "end_time": "2024-11-08T17:23:06.660963Z",
     "start_time": "2024-11-08T17:23:06.628655Z"
    }
   },
   "id": "15794849b58c6613"
  },
  {
   "cell_type": "markdown",
   "source": [
    "## Loading ratings information"
   ],
   "metadata": {
    "collapsed": false
   },
   "id": "60a7eb681f2df1ba"
  },
  {
   "cell_type": "code",
   "execution_count": 84,
   "outputs": [
    {
     "data": {
      "text/plain": "   user_id  movie_id  rating  timestamp\n0     1229        34       4  974836942\n1     1229        50       4  974836806\n2     1229        80       3  974836917\n3     1229       162       5  974836917\n4     1229       306       3  974836843",
      "text/html": "<div>\n<style scoped>\n    .dataframe tbody tr th:only-of-type {\n        vertical-align: middle;\n    }\n\n    .dataframe tbody tr th {\n        vertical-align: top;\n    }\n\n    .dataframe thead th {\n        text-align: right;\n    }\n</style>\n<table border=\"1\" class=\"dataframe\">\n  <thead>\n    <tr style=\"text-align: right;\">\n      <th></th>\n      <th>user_id</th>\n      <th>movie_id</th>\n      <th>rating</th>\n      <th>timestamp</th>\n    </tr>\n  </thead>\n  <tbody>\n    <tr>\n      <th>0</th>\n      <td>1229</td>\n      <td>34</td>\n      <td>4</td>\n      <td>974836942</td>\n    </tr>\n    <tr>\n      <th>1</th>\n      <td>1229</td>\n      <td>50</td>\n      <td>4</td>\n      <td>974836806</td>\n    </tr>\n    <tr>\n      <th>2</th>\n      <td>1229</td>\n      <td>80</td>\n      <td>3</td>\n      <td>974836917</td>\n    </tr>\n    <tr>\n      <th>3</th>\n      <td>1229</td>\n      <td>162</td>\n      <td>5</td>\n      <td>974836917</td>\n    </tr>\n    <tr>\n      <th>4</th>\n      <td>1229</td>\n      <td>306</td>\n      <td>3</td>\n      <td>974836843</td>\n    </tr>\n  </tbody>\n</table>\n</div>"
     },
     "execution_count": 84,
     "metadata": {},
     "output_type": "execute_result"
    }
   ],
   "source": [
    "# Load the ratings data\n",
    "rating_df = pd.read_csv(f'{Path}/u1.base', \n",
    "                        sep='\\t', \n",
    "                        names=['user_id', 'movie_id', 'rating', 'timestamp'], \n",
    "                        encoding='latin-1')\n",
    "rating_df.head()"
   ],
   "metadata": {
    "collapsed": false,
    "ExecuteTime": {
     "end_time": "2024-11-09T16:06:00.027648700Z",
     "start_time": "2024-11-09T16:05:59.877377700Z"
    }
   },
   "id": "8f93afe29628b53b"
  },
  {
   "cell_type": "code",
   "execution_count": 86,
   "outputs": [
    {
     "name": "stdout",
     "output_type": "stream",
     "text": [
      "Percentage of training set used: 22.56%\n"
     ]
    }
   ],
   "source": [
    "# Sort by user_id and timestamp descending\n",
    "rating_df.sort_values(by=['user_id', 'timestamp'], ascending=[True, False], inplace=True)\n",
    "\n",
    "# Group by user_id and take the first 60 entries for each user\n",
    "filtered_df = rating_df.groupby('user_id').head(40)\n",
    "\n",
    "# Calculate the percentage of the training set used\n",
    "percentage_used = (len(filtered_df) / len(rating_df)) * 100\n",
    "\n",
    "# Print the result\n",
    "print(f\"Percentage of training set used: {percentage_used:.2f}%\")"
   ],
   "metadata": {
    "collapsed": false,
    "ExecuteTime": {
     "end_time": "2024-11-09T16:06:15.076439700Z",
     "start_time": "2024-11-09T16:06:14.906740Z"
    }
   },
   "id": "849a77cb5f8602bf"
  },
  {
   "cell_type": "code",
   "execution_count": 87,
   "outputs": [
    {
     "data": {
      "text/plain": "         movie_id  rating  timestamp\nuser_id                             \n1229           14      14         14\n1230          253     253        253\n1231          110     110        110\n1232          135     135        135\n1233           61      61         61\n...           ...     ...        ...\n6036          888     888        888\n6037          202     202        202\n6038           20      20         20\n6039          123     123        123\n6040          341     341        341\n\n[4812 rows x 3 columns]",
      "text/html": "<div>\n<style scoped>\n    .dataframe tbody tr th:only-of-type {\n        vertical-align: middle;\n    }\n\n    .dataframe tbody tr th {\n        vertical-align: top;\n    }\n\n    .dataframe thead th {\n        text-align: right;\n    }\n</style>\n<table border=\"1\" class=\"dataframe\">\n  <thead>\n    <tr style=\"text-align: right;\">\n      <th></th>\n      <th>movie_id</th>\n      <th>rating</th>\n      <th>timestamp</th>\n    </tr>\n    <tr>\n      <th>user_id</th>\n      <th></th>\n      <th></th>\n      <th></th>\n    </tr>\n  </thead>\n  <tbody>\n    <tr>\n      <th>1229</th>\n      <td>14</td>\n      <td>14</td>\n      <td>14</td>\n    </tr>\n    <tr>\n      <th>1230</th>\n      <td>253</td>\n      <td>253</td>\n      <td>253</td>\n    </tr>\n    <tr>\n      <th>1231</th>\n      <td>110</td>\n      <td>110</td>\n      <td>110</td>\n    </tr>\n    <tr>\n      <th>1232</th>\n      <td>135</td>\n      <td>135</td>\n      <td>135</td>\n    </tr>\n    <tr>\n      <th>1233</th>\n      <td>61</td>\n      <td>61</td>\n      <td>61</td>\n    </tr>\n    <tr>\n      <th>...</th>\n      <td>...</td>\n      <td>...</td>\n      <td>...</td>\n    </tr>\n    <tr>\n      <th>6036</th>\n      <td>888</td>\n      <td>888</td>\n      <td>888</td>\n    </tr>\n    <tr>\n      <th>6037</th>\n      <td>202</td>\n      <td>202</td>\n      <td>202</td>\n    </tr>\n    <tr>\n      <th>6038</th>\n      <td>20</td>\n      <td>20</td>\n      <td>20</td>\n    </tr>\n    <tr>\n      <th>6039</th>\n      <td>123</td>\n      <td>123</td>\n      <td>123</td>\n    </tr>\n    <tr>\n      <th>6040</th>\n      <td>341</td>\n      <td>341</td>\n      <td>341</td>\n    </tr>\n  </tbody>\n</table>\n<p>4812 rows × 3 columns</p>\n</div>"
     },
     "execution_count": 87,
     "metadata": {},
     "output_type": "execute_result"
    }
   ],
   "source": [
    "rating_df.groupby('user_id').count().sort_index(ascending=True)"
   ],
   "metadata": {
    "collapsed": false,
    "ExecuteTime": {
     "end_time": "2024-11-09T16:06:38.247727200Z",
     "start_time": "2024-11-09T16:06:38.209174700Z"
    }
   },
   "id": "9021155bef51e17f"
  },
  {
   "cell_type": "code",
   "execution_count": 61,
   "outputs": [
    {
     "data": {
      "text/plain": "Empty DataFrame\nColumns: [user_id, movie_id, rating, timestamp]\nIndex: []",
      "text/html": "<div>\n<style scoped>\n    .dataframe tbody tr th:only-of-type {\n        vertical-align: middle;\n    }\n\n    .dataframe tbody tr th {\n        vertical-align: top;\n    }\n\n    .dataframe thead th {\n        text-align: right;\n    }\n</style>\n<table border=\"1\" class=\"dataframe\">\n  <thead>\n    <tr style=\"text-align: right;\">\n      <th></th>\n      <th>user_id</th>\n      <th>movie_id</th>\n      <th>rating</th>\n      <th>timestamp</th>\n    </tr>\n  </thead>\n  <tbody>\n  </tbody>\n</table>\n</div>"
     },
     "execution_count": 61,
     "metadata": {},
     "output_type": "execute_result"
    }
   ],
   "source": [
    "rating_df[rating_df['user_id'] == 1].head(100)"
   ],
   "metadata": {
    "collapsed": false,
    "ExecuteTime": {
     "end_time": "2024-11-08T17:27:37.108850500Z",
     "start_time": "2024-11-08T17:27:37.071634900Z"
    }
   },
   "id": "ad30b84c4e83a339"
  },
  {
   "cell_type": "code",
   "execution_count": 63,
   "outputs": [
    {
     "data": {
      "text/plain": "   user_id  movie_id  rating  timestamp\n0        1         1       5  978824268\n1        1        48       5  978824351\n2        1       150       5  978301777\n3        1       260       4  978300760\n4        1       527       5  978824195",
      "text/html": "<div>\n<style scoped>\n    .dataframe tbody tr th:only-of-type {\n        vertical-align: middle;\n    }\n\n    .dataframe tbody tr th {\n        vertical-align: top;\n    }\n\n    .dataframe thead th {\n        text-align: right;\n    }\n</style>\n<table border=\"1\" class=\"dataframe\">\n  <thead>\n    <tr style=\"text-align: right;\">\n      <th></th>\n      <th>user_id</th>\n      <th>movie_id</th>\n      <th>rating</th>\n      <th>timestamp</th>\n    </tr>\n  </thead>\n  <tbody>\n    <tr>\n      <th>0</th>\n      <td>1</td>\n      <td>1</td>\n      <td>5</td>\n      <td>978824268</td>\n    </tr>\n    <tr>\n      <th>1</th>\n      <td>1</td>\n      <td>48</td>\n      <td>5</td>\n      <td>978824351</td>\n    </tr>\n    <tr>\n      <th>2</th>\n      <td>1</td>\n      <td>150</td>\n      <td>5</td>\n      <td>978301777</td>\n    </tr>\n    <tr>\n      <th>3</th>\n      <td>1</td>\n      <td>260</td>\n      <td>4</td>\n      <td>978300760</td>\n    </tr>\n    <tr>\n      <th>4</th>\n      <td>1</td>\n      <td>527</td>\n      <td>5</td>\n      <td>978824195</td>\n    </tr>\n  </tbody>\n</table>\n</div>"
     },
     "execution_count": 63,
     "metadata": {},
     "output_type": "execute_result"
    }
   ],
   "source": [
    "rating_test_df = pd.read_csv(f'{Path}/u1.test', sep='\\t', names=['user_id', 'movie_id', 'rating', 'timestamp'], encoding='latin-1')\n",
    "rating_test_df.head()"
   ],
   "metadata": {
    "collapsed": false,
    "ExecuteTime": {
     "end_time": "2024-11-08T17:27:59.322006400Z",
     "start_time": "2024-11-08T17:27:59.235509200Z"
    }
   },
   "id": "dfd429beda82cdc1"
  },
  {
   "cell_type": "code",
   "execution_count": 64,
   "outputs": [
    {
     "data": {
      "text/plain": "         movie_id  rating  timestamp\nuser_id                             \n1              53      53         53\n2             129     129        129\n3              51      51         51\n4              21      21         21\n5             198     198        198\n...           ...     ...        ...\n1224          578     578        578\n1225           28      28         28\n1226           21      21         21\n1227          154     154        154\n1228           58      58         58\n\n[1228 rows x 3 columns]",
      "text/html": "<div>\n<style scoped>\n    .dataframe tbody tr th:only-of-type {\n        vertical-align: middle;\n    }\n\n    .dataframe tbody tr th {\n        vertical-align: top;\n    }\n\n    .dataframe thead th {\n        text-align: right;\n    }\n</style>\n<table border=\"1\" class=\"dataframe\">\n  <thead>\n    <tr style=\"text-align: right;\">\n      <th></th>\n      <th>movie_id</th>\n      <th>rating</th>\n      <th>timestamp</th>\n    </tr>\n    <tr>\n      <th>user_id</th>\n      <th></th>\n      <th></th>\n      <th></th>\n    </tr>\n  </thead>\n  <tbody>\n    <tr>\n      <th>1</th>\n      <td>53</td>\n      <td>53</td>\n      <td>53</td>\n    </tr>\n    <tr>\n      <th>2</th>\n      <td>129</td>\n      <td>129</td>\n      <td>129</td>\n    </tr>\n    <tr>\n      <th>3</th>\n      <td>51</td>\n      <td>51</td>\n      <td>51</td>\n    </tr>\n    <tr>\n      <th>4</th>\n      <td>21</td>\n      <td>21</td>\n      <td>21</td>\n    </tr>\n    <tr>\n      <th>5</th>\n      <td>198</td>\n      <td>198</td>\n      <td>198</td>\n    </tr>\n    <tr>\n      <th>...</th>\n      <td>...</td>\n      <td>...</td>\n      <td>...</td>\n    </tr>\n    <tr>\n      <th>1224</th>\n      <td>578</td>\n      <td>578</td>\n      <td>578</td>\n    </tr>\n    <tr>\n      <th>1225</th>\n      <td>28</td>\n      <td>28</td>\n      <td>28</td>\n    </tr>\n    <tr>\n      <th>1226</th>\n      <td>21</td>\n      <td>21</td>\n      <td>21</td>\n    </tr>\n    <tr>\n      <th>1227</th>\n      <td>154</td>\n      <td>154</td>\n      <td>154</td>\n    </tr>\n    <tr>\n      <th>1228</th>\n      <td>58</td>\n      <td>58</td>\n      <td>58</td>\n    </tr>\n  </tbody>\n</table>\n<p>1228 rows × 3 columns</p>\n</div>"
     },
     "execution_count": 64,
     "metadata": {},
     "output_type": "execute_result"
    }
   ],
   "source": [
    "rating_test_df.groupby('user_id').count()"
   ],
   "metadata": {
    "collapsed": false,
    "ExecuteTime": {
     "end_time": "2024-11-08T17:28:07.415060500Z",
     "start_time": "2024-11-08T17:28:07.368165Z"
    }
   },
   "id": "14afb1ed693861c"
  },
  {
   "cell_type": "code",
   "execution_count": 47,
   "outputs": [
    {
     "name": "stderr",
     "output_type": "stream",
     "text": [
      "C:\\Users\\dania\\AppData\\Local\\Temp\\ipykernel_52524\\2948317273.py:1: UserWarning: Boolean Series key will be reindexed to match DataFrame index.\n",
      "  rating_test_df[rating_df['user_id'] == 1].head(100)\n"
     ]
    },
    {
     "data": {
      "text/plain": "    user_id  movie_id  rating  timestamp\n0         1         6       5  887431973\n1         1        10       3  875693118\n2         1        12       5  878542960\n3         1        14       5  874965706\n4         1        17       3  875073198\n..      ...       ...     ...        ...\n95        1       202       5  875072442\n96        1       206       4  876893205\n97        1       208       5  878542960\n98        1       209       4  888732908\n99        1       210       4  878542909\n\n[100 rows x 4 columns]",
      "text/html": "<div>\n<style scoped>\n    .dataframe tbody tr th:only-of-type {\n        vertical-align: middle;\n    }\n\n    .dataframe tbody tr th {\n        vertical-align: top;\n    }\n\n    .dataframe thead th {\n        text-align: right;\n    }\n</style>\n<table border=\"1\" class=\"dataframe\">\n  <thead>\n    <tr style=\"text-align: right;\">\n      <th></th>\n      <th>user_id</th>\n      <th>movie_id</th>\n      <th>rating</th>\n      <th>timestamp</th>\n    </tr>\n  </thead>\n  <tbody>\n    <tr>\n      <th>0</th>\n      <td>1</td>\n      <td>6</td>\n      <td>5</td>\n      <td>887431973</td>\n    </tr>\n    <tr>\n      <th>1</th>\n      <td>1</td>\n      <td>10</td>\n      <td>3</td>\n      <td>875693118</td>\n    </tr>\n    <tr>\n      <th>2</th>\n      <td>1</td>\n      <td>12</td>\n      <td>5</td>\n      <td>878542960</td>\n    </tr>\n    <tr>\n      <th>3</th>\n      <td>1</td>\n      <td>14</td>\n      <td>5</td>\n      <td>874965706</td>\n    </tr>\n    <tr>\n      <th>4</th>\n      <td>1</td>\n      <td>17</td>\n      <td>3</td>\n      <td>875073198</td>\n    </tr>\n    <tr>\n      <th>...</th>\n      <td>...</td>\n      <td>...</td>\n      <td>...</td>\n      <td>...</td>\n    </tr>\n    <tr>\n      <th>95</th>\n      <td>1</td>\n      <td>202</td>\n      <td>5</td>\n      <td>875072442</td>\n    </tr>\n    <tr>\n      <th>96</th>\n      <td>1</td>\n      <td>206</td>\n      <td>4</td>\n      <td>876893205</td>\n    </tr>\n    <tr>\n      <th>97</th>\n      <td>1</td>\n      <td>208</td>\n      <td>5</td>\n      <td>878542960</td>\n    </tr>\n    <tr>\n      <th>98</th>\n      <td>1</td>\n      <td>209</td>\n      <td>4</td>\n      <td>888732908</td>\n    </tr>\n    <tr>\n      <th>99</th>\n      <td>1</td>\n      <td>210</td>\n      <td>4</td>\n      <td>878542909</td>\n    </tr>\n  </tbody>\n</table>\n<p>100 rows × 4 columns</p>\n</div>"
     },
     "execution_count": 47,
     "metadata": {},
     "output_type": "execute_result"
    }
   ],
   "source": [
    "rating_test_df[rating_df['user_id'] == 1].head(100)"
   ],
   "metadata": {
    "collapsed": false,
    "ExecuteTime": {
     "end_time": "2024-05-08T05:42:58.376363700Z",
     "start_time": "2024-05-08T05:42:58.311286200Z"
    }
   },
   "id": "4d0f3bd8451202de"
  },
  {
   "cell_type": "code",
   "execution_count": 3,
   "outputs": [
    {
     "data": {
      "text/plain": "   user_id  movie_id  rating  timestamp\n0        1         1       5  874965758\n1        1         2       3  876893171\n2        1         3       4  878542960\n3        1         4       3  876893119\n4        1         5       3  889751712",
      "text/html": "<div>\n<style scoped>\n    .dataframe tbody tr th:only-of-type {\n        vertical-align: middle;\n    }\n\n    .dataframe tbody tr th {\n        vertical-align: top;\n    }\n\n    .dataframe thead th {\n        text-align: right;\n    }\n</style>\n<table border=\"1\" class=\"dataframe\">\n  <thead>\n    <tr style=\"text-align: right;\">\n      <th></th>\n      <th>user_id</th>\n      <th>movie_id</th>\n      <th>rating</th>\n      <th>timestamp</th>\n    </tr>\n  </thead>\n  <tbody>\n    <tr>\n      <th>0</th>\n      <td>1</td>\n      <td>1</td>\n      <td>5</td>\n      <td>874965758</td>\n    </tr>\n    <tr>\n      <th>1</th>\n      <td>1</td>\n      <td>2</td>\n      <td>3</td>\n      <td>876893171</td>\n    </tr>\n    <tr>\n      <th>2</th>\n      <td>1</td>\n      <td>3</td>\n      <td>4</td>\n      <td>878542960</td>\n    </tr>\n    <tr>\n      <th>3</th>\n      <td>1</td>\n      <td>4</td>\n      <td>3</td>\n      <td>876893119</td>\n    </tr>\n    <tr>\n      <th>4</th>\n      <td>1</td>\n      <td>5</td>\n      <td>3</td>\n      <td>889751712</td>\n    </tr>\n  </tbody>\n</table>\n</div>"
     },
     "execution_count": 3,
     "metadata": {},
     "output_type": "execute_result"
    }
   ],
   "source": [
    "rating_train_df = pd.read_csv(f'{Path}/u1.base', sep='\\t', names=['user_id', 'movie_id', 'rating', 'timestamp'], encoding='latin-1')\n",
    "rating_train_df.head()"
   ],
   "metadata": {
    "collapsed": false,
    "ExecuteTime": {
     "end_time": "2024-05-17T15:44:19.722055100Z",
     "start_time": "2024-05-17T15:44:19.635649300Z"
    }
   },
   "id": "3a0f0cb797bb0a4e"
  },
  {
   "cell_type": "code",
   "execution_count": 5,
   "outputs": [
    {
     "data": {
      "text/plain": "         movie_id  rating  timestamp\nuser_id                             \n1             135     135        135\n2              40      40         40\n3              28      28         28\n4              14      14         14\n5              91      91         91\n...           ...     ...        ...\n939            49      49         49\n940           107     107        107\n941            22      22         22\n942            79      79         79\n943           168     168        168\n\n[943 rows x 3 columns]",
      "text/html": "<div>\n<style scoped>\n    .dataframe tbody tr th:only-of-type {\n        vertical-align: middle;\n    }\n\n    .dataframe tbody tr th {\n        vertical-align: top;\n    }\n\n    .dataframe thead th {\n        text-align: right;\n    }\n</style>\n<table border=\"1\" class=\"dataframe\">\n  <thead>\n    <tr style=\"text-align: right;\">\n      <th></th>\n      <th>movie_id</th>\n      <th>rating</th>\n      <th>timestamp</th>\n    </tr>\n    <tr>\n      <th>user_id</th>\n      <th></th>\n      <th></th>\n      <th></th>\n    </tr>\n  </thead>\n  <tbody>\n    <tr>\n      <th>1</th>\n      <td>135</td>\n      <td>135</td>\n      <td>135</td>\n    </tr>\n    <tr>\n      <th>2</th>\n      <td>40</td>\n      <td>40</td>\n      <td>40</td>\n    </tr>\n    <tr>\n      <th>3</th>\n      <td>28</td>\n      <td>28</td>\n      <td>28</td>\n    </tr>\n    <tr>\n      <th>4</th>\n      <td>14</td>\n      <td>14</td>\n      <td>14</td>\n    </tr>\n    <tr>\n      <th>5</th>\n      <td>91</td>\n      <td>91</td>\n      <td>91</td>\n    </tr>\n    <tr>\n      <th>...</th>\n      <td>...</td>\n      <td>...</td>\n      <td>...</td>\n    </tr>\n    <tr>\n      <th>939</th>\n      <td>49</td>\n      <td>49</td>\n      <td>49</td>\n    </tr>\n    <tr>\n      <th>940</th>\n      <td>107</td>\n      <td>107</td>\n      <td>107</td>\n    </tr>\n    <tr>\n      <th>941</th>\n      <td>22</td>\n      <td>22</td>\n      <td>22</td>\n    </tr>\n    <tr>\n      <th>942</th>\n      <td>79</td>\n      <td>79</td>\n      <td>79</td>\n    </tr>\n    <tr>\n      <th>943</th>\n      <td>168</td>\n      <td>168</td>\n      <td>168</td>\n    </tr>\n  </tbody>\n</table>\n<p>943 rows × 3 columns</p>\n</div>"
     },
     "execution_count": 5,
     "metadata": {},
     "output_type": "execute_result"
    }
   ],
   "source": [
    "rating_train_df.groupby('user_id').count()"
   ],
   "metadata": {
    "collapsed": false,
    "ExecuteTime": {
     "end_time": "2024-05-17T15:44:43.703979100Z",
     "start_time": "2024-05-17T15:44:43.672979300Z"
    }
   },
   "id": "8e95b80382c618c5"
  },
  {
   "cell_type": "code",
   "execution_count": 7,
   "outputs": [],
   "source": [
    "# Load movies\n",
    "movies_df = pd.read_pickle(\"./Data/movies_enriched_dataset.pkl\")\n",
    "movies_df = movies_df[[\"movie_id\", \"movie_info\"]]"
   ],
   "metadata": {
    "collapsed": false,
    "ExecuteTime": {
     "end_time": "2024-05-18T22:23:37.271720100Z",
     "start_time": "2024-05-18T22:23:37.232776300Z"
    }
   },
   "id": "242199341dc96068"
  },
  {
   "cell_type": "code",
   "execution_count": 8,
   "outputs": [
    {
     "data": {
      "text/plain": "     movie_id                                         movie_info\n0           1  \\n    Movie title: Toy Story (1995) \\n    Genr...\n1           2  \\n    Movie title: GoldenEye (1995) \\n    Genr...\n2           3  \\n    Movie title: Four Rooms (1995) \\n    Gen...\n3           4  \\n    Movie title: Get Shorty (1995) \\n    Gen...\n4           5  \\n    Movie title: Copycat (1995) \\n    Genre:...\n..        ...                                                ...\n304       305  \\n    Movie title: Ice Storm, The (1997) \\n   ...\n305       306  \\n    Movie title: Mrs. Brown (Her Majesty, Mr...\n306       307  \\n    Movie title: Devil's Advocate, The (1997...\n307       308  \\n    Movie title: FairyTale: A True Story (19...\n308       309  \\n    Movie title: Deceiver (1997) \\n    Genre...\n\n[300 rows x 2 columns]",
      "text/html": "<div>\n<style scoped>\n    .dataframe tbody tr th:only-of-type {\n        vertical-align: middle;\n    }\n\n    .dataframe tbody tr th {\n        vertical-align: top;\n    }\n\n    .dataframe thead th {\n        text-align: right;\n    }\n</style>\n<table border=\"1\" class=\"dataframe\">\n  <thead>\n    <tr style=\"text-align: right;\">\n      <th></th>\n      <th>movie_id</th>\n      <th>movie_info</th>\n    </tr>\n  </thead>\n  <tbody>\n    <tr>\n      <th>0</th>\n      <td>1</td>\n      <td>\\n    Movie title: Toy Story (1995) \\n    Genr...</td>\n    </tr>\n    <tr>\n      <th>1</th>\n      <td>2</td>\n      <td>\\n    Movie title: GoldenEye (1995) \\n    Genr...</td>\n    </tr>\n    <tr>\n      <th>2</th>\n      <td>3</td>\n      <td>\\n    Movie title: Four Rooms (1995) \\n    Gen...</td>\n    </tr>\n    <tr>\n      <th>3</th>\n      <td>4</td>\n      <td>\\n    Movie title: Get Shorty (1995) \\n    Gen...</td>\n    </tr>\n    <tr>\n      <th>4</th>\n      <td>5</td>\n      <td>\\n    Movie title: Copycat (1995) \\n    Genre:...</td>\n    </tr>\n    <tr>\n      <th>...</th>\n      <td>...</td>\n      <td>...</td>\n    </tr>\n    <tr>\n      <th>304</th>\n      <td>305</td>\n      <td>\\n    Movie title: Ice Storm, The (1997) \\n   ...</td>\n    </tr>\n    <tr>\n      <th>305</th>\n      <td>306</td>\n      <td>\\n    Movie title: Mrs. Brown (Her Majesty, Mr...</td>\n    </tr>\n    <tr>\n      <th>306</th>\n      <td>307</td>\n      <td>\\n    Movie title: Devil's Advocate, The (1997...</td>\n    </tr>\n    <tr>\n      <th>307</th>\n      <td>308</td>\n      <td>\\n    Movie title: FairyTale: A True Story (19...</td>\n    </tr>\n    <tr>\n      <th>308</th>\n      <td>309</td>\n      <td>\\n    Movie title: Deceiver (1997) \\n    Genre...</td>\n    </tr>\n  </tbody>\n</table>\n<p>300 rows × 2 columns</p>\n</div>"
     },
     "execution_count": 8,
     "metadata": {},
     "output_type": "execute_result"
    }
   ],
   "source": [
    "movies_df.head(300)"
   ],
   "metadata": {
    "collapsed": false,
    "ExecuteTime": {
     "end_time": "2024-05-18T22:23:46.170873700Z",
     "start_time": "2024-05-18T22:23:46.134347800Z"
    }
   },
   "id": "e9d376612cde19d1"
  },
  {
   "cell_type": "code",
   "execution_count": 12,
   "outputs": [
    {
     "name": "stdout",
     "output_type": "stream",
     "text": [
      "1591\n"
     ]
    }
   ],
   "source": [
    "print(len(movies_df))"
   ],
   "metadata": {
    "collapsed": false,
    "ExecuteTime": {
     "end_time": "2024-05-18T22:29:34.325362400Z",
     "start_time": "2024-05-18T22:29:34.286830700Z"
    }
   },
   "id": "c053aa952ede7ec"
  },
  {
   "cell_type": "code",
   "execution_count": 16,
   "outputs": [
    {
     "data": {
      "text/plain": "     user_id  movie_id  rating  timestamp simulated_ratings\n137        2        13       4  888551922                 4\n138        2        19       3  888550871                 5\n139        2        50       5  888552084                 4\n140        2       251       5  888552084                 4\n141        2       257       4  888551062                 4\n144        2       281       3  888980240                 3\n145        2       290       3  888551441                 3\n146        2       292       4  888550774                 4\n147        2       297       4  888550871                 5\n148        2       298       3  888551441                 4\n149        2       299       4  888550774                 4\n150        2       301       4  888550631                 3\n151        2       303       4  888550774                 4\n152        2       307       3  888550066                 4\n153        2       308       3  888979945                 3\n154        2       312       3  888550631                 4\n155        2       313       5  888552084                 5\n156        2       314       1  888980085                 3\n157        2       315       1  888550774                 4\n158        2       316       5  888979693                 4\n159        3       245       1  889237247                 3\n160        3       264       2  889237297                 2\n161        3       272       2  889237055                 4\n162        3       294       2  889237224                 4\n163        3       299       3  889237199                 4\n164        3       300       2  889236939                 2\n165        3       307       3  889237224                 3\n166        3       318       4  889237482                 5\n167        3       323       2  889237269                 2\n168        3       324       2  889237247                 3\n169        3       327       4  889237455                 4\n170        3       328       5  889237455                 3\n171        3       330       2  889237297                 4\n172        3       331       4  889237455                 4\n173        3       332       1  889237224                 4\n174        3       334       3  889237122                 3\n175        3       335       1  889237269                 2\n176        3       337       1  889236983                 3\n177        3       341       1  889237055                 2\n178        3       343       3  889237122                 2\n179        3       345       3  889237004                 4\n180        3       348       4  889237455                 5\n181        3       349       3  889237269                 2\n182        3       350       3  889237076                 2\n183        3       351       3  889237315                 2\n184        3       354       3  889237004                 4\n185        4        50       5  892003526                 4\n186        4       260       4  892004275                 4\n187        4       264       3  892004275                 4\n188        4       288       4  892001445                 4\n189        4       294       5  892004409                 3\n190        4       303       5  892002352                 4\n191        4       354       5  892002353                 3\n192        4       356       3  892003459                 4\n193        4       357       4  892003525                 4\n194        4       361       5  892002353                 4",
      "text/html": "<div>\n<style scoped>\n    .dataframe tbody tr th:only-of-type {\n        vertical-align: middle;\n    }\n\n    .dataframe tbody tr th {\n        vertical-align: top;\n    }\n\n    .dataframe thead th {\n        text-align: right;\n    }\n</style>\n<table border=\"1\" class=\"dataframe\">\n  <thead>\n    <tr style=\"text-align: right;\">\n      <th></th>\n      <th>user_id</th>\n      <th>movie_id</th>\n      <th>rating</th>\n      <th>timestamp</th>\n      <th>simulated_ratings</th>\n    </tr>\n  </thead>\n  <tbody>\n    <tr>\n      <th>137</th>\n      <td>2</td>\n      <td>13</td>\n      <td>4</td>\n      <td>888551922</td>\n      <td>4</td>\n    </tr>\n    <tr>\n      <th>138</th>\n      <td>2</td>\n      <td>19</td>\n      <td>3</td>\n      <td>888550871</td>\n      <td>5</td>\n    </tr>\n    <tr>\n      <th>139</th>\n      <td>2</td>\n      <td>50</td>\n      <td>5</td>\n      <td>888552084</td>\n      <td>4</td>\n    </tr>\n    <tr>\n      <th>140</th>\n      <td>2</td>\n      <td>251</td>\n      <td>5</td>\n      <td>888552084</td>\n      <td>4</td>\n    </tr>\n    <tr>\n      <th>141</th>\n      <td>2</td>\n      <td>257</td>\n      <td>4</td>\n      <td>888551062</td>\n      <td>4</td>\n    </tr>\n    <tr>\n      <th>144</th>\n      <td>2</td>\n      <td>281</td>\n      <td>3</td>\n      <td>888980240</td>\n      <td>3</td>\n    </tr>\n    <tr>\n      <th>145</th>\n      <td>2</td>\n      <td>290</td>\n      <td>3</td>\n      <td>888551441</td>\n      <td>3</td>\n    </tr>\n    <tr>\n      <th>146</th>\n      <td>2</td>\n      <td>292</td>\n      <td>4</td>\n      <td>888550774</td>\n      <td>4</td>\n    </tr>\n    <tr>\n      <th>147</th>\n      <td>2</td>\n      <td>297</td>\n      <td>4</td>\n      <td>888550871</td>\n      <td>5</td>\n    </tr>\n    <tr>\n      <th>148</th>\n      <td>2</td>\n      <td>298</td>\n      <td>3</td>\n      <td>888551441</td>\n      <td>4</td>\n    </tr>\n    <tr>\n      <th>149</th>\n      <td>2</td>\n      <td>299</td>\n      <td>4</td>\n      <td>888550774</td>\n      <td>4</td>\n    </tr>\n    <tr>\n      <th>150</th>\n      <td>2</td>\n      <td>301</td>\n      <td>4</td>\n      <td>888550631</td>\n      <td>3</td>\n    </tr>\n    <tr>\n      <th>151</th>\n      <td>2</td>\n      <td>303</td>\n      <td>4</td>\n      <td>888550774</td>\n      <td>4</td>\n    </tr>\n    <tr>\n      <th>152</th>\n      <td>2</td>\n      <td>307</td>\n      <td>3</td>\n      <td>888550066</td>\n      <td>4</td>\n    </tr>\n    <tr>\n      <th>153</th>\n      <td>2</td>\n      <td>308</td>\n      <td>3</td>\n      <td>888979945</td>\n      <td>3</td>\n    </tr>\n    <tr>\n      <th>154</th>\n      <td>2</td>\n      <td>312</td>\n      <td>3</td>\n      <td>888550631</td>\n      <td>4</td>\n    </tr>\n    <tr>\n      <th>155</th>\n      <td>2</td>\n      <td>313</td>\n      <td>5</td>\n      <td>888552084</td>\n      <td>5</td>\n    </tr>\n    <tr>\n      <th>156</th>\n      <td>2</td>\n      <td>314</td>\n      <td>1</td>\n      <td>888980085</td>\n      <td>3</td>\n    </tr>\n    <tr>\n      <th>157</th>\n      <td>2</td>\n      <td>315</td>\n      <td>1</td>\n      <td>888550774</td>\n      <td>4</td>\n    </tr>\n    <tr>\n      <th>158</th>\n      <td>2</td>\n      <td>316</td>\n      <td>5</td>\n      <td>888979693</td>\n      <td>4</td>\n    </tr>\n    <tr>\n      <th>159</th>\n      <td>3</td>\n      <td>245</td>\n      <td>1</td>\n      <td>889237247</td>\n      <td>3</td>\n    </tr>\n    <tr>\n      <th>160</th>\n      <td>3</td>\n      <td>264</td>\n      <td>2</td>\n      <td>889237297</td>\n      <td>2</td>\n    </tr>\n    <tr>\n      <th>161</th>\n      <td>3</td>\n      <td>272</td>\n      <td>2</td>\n      <td>889237055</td>\n      <td>4</td>\n    </tr>\n    <tr>\n      <th>162</th>\n      <td>3</td>\n      <td>294</td>\n      <td>2</td>\n      <td>889237224</td>\n      <td>4</td>\n    </tr>\n    <tr>\n      <th>163</th>\n      <td>3</td>\n      <td>299</td>\n      <td>3</td>\n      <td>889237199</td>\n      <td>4</td>\n    </tr>\n    <tr>\n      <th>164</th>\n      <td>3</td>\n      <td>300</td>\n      <td>2</td>\n      <td>889236939</td>\n      <td>2</td>\n    </tr>\n    <tr>\n      <th>165</th>\n      <td>3</td>\n      <td>307</td>\n      <td>3</td>\n      <td>889237224</td>\n      <td>3</td>\n    </tr>\n    <tr>\n      <th>166</th>\n      <td>3</td>\n      <td>318</td>\n      <td>4</td>\n      <td>889237482</td>\n      <td>5</td>\n    </tr>\n    <tr>\n      <th>167</th>\n      <td>3</td>\n      <td>323</td>\n      <td>2</td>\n      <td>889237269</td>\n      <td>2</td>\n    </tr>\n    <tr>\n      <th>168</th>\n      <td>3</td>\n      <td>324</td>\n      <td>2</td>\n      <td>889237247</td>\n      <td>3</td>\n    </tr>\n    <tr>\n      <th>169</th>\n      <td>3</td>\n      <td>327</td>\n      <td>4</td>\n      <td>889237455</td>\n      <td>4</td>\n    </tr>\n    <tr>\n      <th>170</th>\n      <td>3</td>\n      <td>328</td>\n      <td>5</td>\n      <td>889237455</td>\n      <td>3</td>\n    </tr>\n    <tr>\n      <th>171</th>\n      <td>3</td>\n      <td>330</td>\n      <td>2</td>\n      <td>889237297</td>\n      <td>4</td>\n    </tr>\n    <tr>\n      <th>172</th>\n      <td>3</td>\n      <td>331</td>\n      <td>4</td>\n      <td>889237455</td>\n      <td>4</td>\n    </tr>\n    <tr>\n      <th>173</th>\n      <td>3</td>\n      <td>332</td>\n      <td>1</td>\n      <td>889237224</td>\n      <td>4</td>\n    </tr>\n    <tr>\n      <th>174</th>\n      <td>3</td>\n      <td>334</td>\n      <td>3</td>\n      <td>889237122</td>\n      <td>3</td>\n    </tr>\n    <tr>\n      <th>175</th>\n      <td>3</td>\n      <td>335</td>\n      <td>1</td>\n      <td>889237269</td>\n      <td>2</td>\n    </tr>\n    <tr>\n      <th>176</th>\n      <td>3</td>\n      <td>337</td>\n      <td>1</td>\n      <td>889236983</td>\n      <td>3</td>\n    </tr>\n    <tr>\n      <th>177</th>\n      <td>3</td>\n      <td>341</td>\n      <td>1</td>\n      <td>889237055</td>\n      <td>2</td>\n    </tr>\n    <tr>\n      <th>178</th>\n      <td>3</td>\n      <td>343</td>\n      <td>3</td>\n      <td>889237122</td>\n      <td>2</td>\n    </tr>\n    <tr>\n      <th>179</th>\n      <td>3</td>\n      <td>345</td>\n      <td>3</td>\n      <td>889237004</td>\n      <td>4</td>\n    </tr>\n    <tr>\n      <th>180</th>\n      <td>3</td>\n      <td>348</td>\n      <td>4</td>\n      <td>889237455</td>\n      <td>5</td>\n    </tr>\n    <tr>\n      <th>181</th>\n      <td>3</td>\n      <td>349</td>\n      <td>3</td>\n      <td>889237269</td>\n      <td>2</td>\n    </tr>\n    <tr>\n      <th>182</th>\n      <td>3</td>\n      <td>350</td>\n      <td>3</td>\n      <td>889237076</td>\n      <td>2</td>\n    </tr>\n    <tr>\n      <th>183</th>\n      <td>3</td>\n      <td>351</td>\n      <td>3</td>\n      <td>889237315</td>\n      <td>2</td>\n    </tr>\n    <tr>\n      <th>184</th>\n      <td>3</td>\n      <td>354</td>\n      <td>3</td>\n      <td>889237004</td>\n      <td>4</td>\n    </tr>\n    <tr>\n      <th>185</th>\n      <td>4</td>\n      <td>50</td>\n      <td>5</td>\n      <td>892003526</td>\n      <td>4</td>\n    </tr>\n    <tr>\n      <th>186</th>\n      <td>4</td>\n      <td>260</td>\n      <td>4</td>\n      <td>892004275</td>\n      <td>4</td>\n    </tr>\n    <tr>\n      <th>187</th>\n      <td>4</td>\n      <td>264</td>\n      <td>3</td>\n      <td>892004275</td>\n      <td>4</td>\n    </tr>\n    <tr>\n      <th>188</th>\n      <td>4</td>\n      <td>288</td>\n      <td>4</td>\n      <td>892001445</td>\n      <td>4</td>\n    </tr>\n    <tr>\n      <th>189</th>\n      <td>4</td>\n      <td>294</td>\n      <td>5</td>\n      <td>892004409</td>\n      <td>3</td>\n    </tr>\n    <tr>\n      <th>190</th>\n      <td>4</td>\n      <td>303</td>\n      <td>5</td>\n      <td>892002352</td>\n      <td>4</td>\n    </tr>\n    <tr>\n      <th>191</th>\n      <td>4</td>\n      <td>354</td>\n      <td>5</td>\n      <td>892002353</td>\n      <td>3</td>\n    </tr>\n    <tr>\n      <th>192</th>\n      <td>4</td>\n      <td>356</td>\n      <td>3</td>\n      <td>892003459</td>\n      <td>4</td>\n    </tr>\n    <tr>\n      <th>193</th>\n      <td>4</td>\n      <td>357</td>\n      <td>4</td>\n      <td>892003525</td>\n      <td>4</td>\n    </tr>\n    <tr>\n      <th>194</th>\n      <td>4</td>\n      <td>361</td>\n      <td>5</td>\n      <td>892002353</td>\n      <td>4</td>\n    </tr>\n  </tbody>\n</table>\n</div>"
     },
     "execution_count": 16,
     "metadata": {},
     "output_type": "execute_result"
    }
   ],
   "source": [
    "processed_ratings_file = \"./Data/rating_test_df.pkl\"\n",
    "rating_test_df = pd.read_pickle(processed_ratings_file)\n",
    "\n",
    "cleaned_df = rating_test_df.dropna(subset=['simulated_ratings'])\n",
    "cleaned_df.head(100)"
   ],
   "metadata": {
    "collapsed": false,
    "ExecuteTime": {
     "end_time": "2024-05-18T22:50:12.577456900Z",
     "start_time": "2024-05-18T22:50:12.551402400Z"
    }
   },
   "id": "78d9b5fc971c323d"
  },
  {
   "cell_type": "code",
   "execution_count": 7,
   "outputs": [],
   "source": [
    "movies_df = pd.read_pickle(\"./Data/movies_enriched_dataset.pkl\")\n",
    "movies_df = movies_df[[\"movie_id\", \"movie_info\"]]"
   ],
   "metadata": {
    "collapsed": false,
    "ExecuteTime": {
     "end_time": "2024-05-20T19:36:08.857178400Z",
     "start_time": "2024-05-20T19:36:08.720645200Z"
    }
   },
   "id": "5449a2ab99679b18"
  },
  {
   "cell_type": "code",
   "execution_count": 8,
   "outputs": [
    {
     "data": {
      "text/plain": "   movie_id                                         movie_info\n0         1  \\n    Movie title: Toy Story (1995) \\n    Genr...\n1         2  \\n    Movie title: GoldenEye (1995) \\n    Genr...\n2         3  \\n    Movie title: Four Rooms (1995) \\n    Gen...\n3         4  \\n    Movie title: Get Shorty (1995) \\n    Gen...\n4         5  \\n    Movie title: Copycat (1995) \\n    Genre:...",
      "text/html": "<div>\n<style scoped>\n    .dataframe tbody tr th:only-of-type {\n        vertical-align: middle;\n    }\n\n    .dataframe tbody tr th {\n        vertical-align: top;\n    }\n\n    .dataframe thead th {\n        text-align: right;\n    }\n</style>\n<table border=\"1\" class=\"dataframe\">\n  <thead>\n    <tr style=\"text-align: right;\">\n      <th></th>\n      <th>movie_id</th>\n      <th>movie_info</th>\n    </tr>\n  </thead>\n  <tbody>\n    <tr>\n      <th>0</th>\n      <td>1</td>\n      <td>\\n    Movie title: Toy Story (1995) \\n    Genr...</td>\n    </tr>\n    <tr>\n      <th>1</th>\n      <td>2</td>\n      <td>\\n    Movie title: GoldenEye (1995) \\n    Genr...</td>\n    </tr>\n    <tr>\n      <th>2</th>\n      <td>3</td>\n      <td>\\n    Movie title: Four Rooms (1995) \\n    Gen...</td>\n    </tr>\n    <tr>\n      <th>3</th>\n      <td>4</td>\n      <td>\\n    Movie title: Get Shorty (1995) \\n    Gen...</td>\n    </tr>\n    <tr>\n      <th>4</th>\n      <td>5</td>\n      <td>\\n    Movie title: Copycat (1995) \\n    Genre:...</td>\n    </tr>\n  </tbody>\n</table>\n</div>"
     },
     "execution_count": 8,
     "metadata": {},
     "output_type": "execute_result"
    }
   ],
   "source": [
    "movies_df.head()"
   ],
   "metadata": {
    "collapsed": false,
    "ExecuteTime": {
     "end_time": "2024-05-20T19:36:15.541618400Z",
     "start_time": "2024-05-20T19:36:15.479116700Z"
    }
   },
   "id": "b30a8acd012e9baa"
  }
 ],
 "metadata": {
  "kernelspec": {
   "display_name": "Python 3",
   "language": "python",
   "name": "python3"
  },
  "language_info": {
   "codemirror_mode": {
    "name": "ipython",
    "version": 2
   },
   "file_extension": ".py",
   "mimetype": "text/x-python",
   "name": "python",
   "nbconvert_exporter": "python",
   "pygments_lexer": "ipython2",
   "version": "2.7.6"
  }
 },
 "nbformat": 4,
 "nbformat_minor": 5
}
